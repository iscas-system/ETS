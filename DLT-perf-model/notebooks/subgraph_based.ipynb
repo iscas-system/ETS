{
 "cells": [
  {
   "cell_type": "code",
   "execution_count": 1,
   "metadata": {},
   "outputs": [
    {
     "name": "stderr",
     "output_type": "stream",
     "text": [
      "/root/miniconda3/envs/DLT-perf-model/lib/python3.10/site-packages/tqdm/auto.py:21: TqdmWarning: IProgress not found. Please update jupyter and ipywidgets. See https://ipywidgets.readthedocs.io/en/stable/user_install.html\n",
      "  from .autonotebook import tqdm as notebook_tqdm\n"
     ]
    }
   ],
   "source": [
    "import numpy as np\n",
    "import torch\n",
    "import torch.nn as nn\n",
    "import torch.optim\n",
    "import torch.nn.functional as F\n",
    "from abc import abstractmethod\n",
    "from collections import defaultdict\n",
    "from functools import lru_cache\n",
    "from itertools import count\n",
    "from typing import List, Dict\n",
    "from typing import Tuple, Any\n",
    "from sklearn import ensemble\n",
    "from sklearn.metrics import mean_squared_error\n",
    "from torch.nn import MSELoss, LSTM, GRU, RNN, L1Loss\n",
    "from sklearn.preprocessing import StandardScaler, MinMaxScaler"
   ]
  },
  {
   "cell_type": "code",
   "execution_count": 2,
   "metadata": {},
   "outputs": [
    {
     "name": "stdout",
     "output_type": "stream",
     "text": [
      "datasets_path: /root/guohao/DLT-perf-model/datasets\n",
      "configs_path: /root/guohao/DLT-perf-model/notebooks/configs\n",
      "datasets_path: /root/guohao/DLT-perf-model/datasets\n",
      "configs_path: /root/guohao/DLT-perf-model/notebooks/configs\n"
     ]
    }
   ],
   "source": [
    "from logger import init_logging\n",
    "from base_module import MModule\n",
    "from data import MDataset, Graph, load_graphs\n",
    "from importlib import reload\n",
    "from config import Config\n",
    "import config\n",
    "from data import MDataset, Graph, GraphNode, load_graphs, save_dataset_pkl, load_dataset_pkl, save_scalers_pkl, load_scalers_pkl\n",
    "import data\n",
    "from base_module import MModule, pad_np_vectors\n",
    "import base_module\n",
    "from executor import single_train_loop, nested_detach, grid_search_loop\n",
    "import executor\n",
    "from objects import ModelType\n",
    "import objects\n",
    "from metric import MetricUtil\n",
    "import metric\n",
    "from logger import init_logging, logging\n",
    "import logger\n",
    "import gcn\n",
    "from gcn import GCNLayer\n",
    "import transformer\n",
    "from transformer import TransformerModel\n",
    "reload(config)\n",
    "reload(data)\n",
    "reload(base_module)\n",
    "reload(executor)\n",
    "reload(objects)\n",
    "reload(metric)\n",
    "reload(logger)\n",
    "reload(gcn)\n",
    "reload(transformer)\n",
    "init_logging()"
   ]
  },
  {
   "cell_type": "code",
   "execution_count": 3,
   "metadata": {},
   "outputs": [],
   "source": [
    "dataset_environment_str = \"P4_CPU80\"\n",
    "normalizer_cls = StandardScaler  # MinMaxScaler\n",
    "dummy = False\n",
    "model_type = ModelType.RNN\n",
    "method_prefix = \"SubgraphBased\""
   ]
  },
  {
   "cell_type": "code",
   "execution_count": 4,
   "metadata": {},
   "outputs": [
    {
     "name": "stdout",
     "output_type": "stream",
     "text": [
      "[2024-01-11 07:02:43,444] {data.py:448} INFO - Loading graphs eval\n",
      "[2024-01-11 07:02:43,445] {data.py:419} INFO - Loading merged.csv\n",
      "[2024-01-11 07:02:43,445] {data.py:419} INFO - Loading merged.csv\n",
      "[2024-01-11 07:02:43,916] {data.py:422} INFO - Loaded merged.csv, 200000 rows\n",
      "[2024-01-11 07:02:44,417] {data.py:428} INFO - Loaded rand_8000.64_7.csv, 1041 rows\n",
      "[2024-01-11 07:02:44,816] {data.py:428} INFO - Loaded shufflenet_v2_x0_5.22_7.csv, 847 rows\n",
      "[2024-01-11 07:02:45,216] {data.py:428} INFO - Loaded shufflenet_v2_x1_5.47_7.csv, 849 rows\n",
      "[2024-01-11 07:02:45,354] {data.py:428} INFO - Loaded vgg16_bn.19_7.csv, 277 rows\n",
      "[2024-01-11 07:02:45,717] {data.py:428} INFO - Loaded mnasnet0_5.20_7.csv, 769 rows\n",
      "[2024-01-11 07:02:46,465] {data.py:428} INFO - Loaded wide_resnet101_2.23_7.csv, 1598 rows\n",
      "[2024-01-11 07:02:47,480] {data.py:428} INFO - Loaded densenet121.22_7.csv, 1887 rows\n",
      "[2024-01-11 07:02:47,862] {data.py:428} INFO - Loaded shufflenet_v2_x1_5.31_7.csv, 847 rows\n",
      "[2024-01-11 07:02:48,693] {data.py:428} INFO - Loaded densenet121.46_7.csv, 1889 rows\n",
      "[2024-01-11 07:02:49,388] {data.py:428} INFO - Loaded rand_2000.6_7.csv, 1563 rows\n",
      "[2024-01-11 07:02:49,483] {data.py:428} INFO - Loaded vgg11_bn.44_7.csv, 189 rows\n",
      "[2024-01-11 07:02:50,501] {data.py:428} INFO - Loaded rand_1000.83_7.csv, 2316 rows\n",
      "[2024-01-11 07:02:50,883] {data.py:428} INFO - Loaded shufflenet_v2_x0_5.40_7.csv, 849 rows\n",
      "[2024-01-11 07:02:50,977] {data.py:428} INFO - Loaded vgg11_bn.48_7.csv, 189 rows\n",
      "[2024-01-11 07:02:51,028] {data.py:428} INFO - Loaded alexnet.45_7.csv, 91 rows\n",
      "[2024-01-11 07:02:51,529] {data.py:428} INFO - Loaded rand_7500.8_7.csv, 1031 rows\n",
      "[2024-01-11 07:02:52,551] {data.py:428} INFO - Loaded rand_2500.17_7.csv, 2312 rows\n",
      "[2024-01-11 07:02:52,959] {data.py:428} INFO - Loaded googlenet.44_7.csv, 905 rows\n",
      "[2024-01-11 07:02:53,832] {data.py:428} INFO - Loaded rand_9000.58_7.csv, 1975 rows\n",
      "[2024-01-11 07:02:54,855] {data.py:428} INFO - Loaded rand_1000.71_7.csv, 2313 rows\n",
      "[2024-01-11 07:02:55,850] {data.py:428} INFO - Loaded densenet121.20_7.csv, 1887 rows\n",
      "[2024-01-11 07:02:56,703] {data.py:428} INFO - Loaded rand_3500.2_7.csv, 1940 rows\n",
      "[2024-01-11 07:02:57,244] {data.py:428} INFO - Loaded rand_3000.24_7.csv, 1217 rows\n",
      "[2024-01-11 07:02:57,793] {data.py:428} INFO - Loaded rand_5000.71_7.csv, 1235 rows\n",
      "[2024-01-11 07:02:58,236] {data.py:428} INFO - Loaded rand_3500.64_7.csv, 989 rows\n",
      "[2024-01-11 07:02:58,671] {data.py:428} INFO - Loaded rand_3500.59_7.csv, 973 rows\n",
      "[2024-01-11 07:02:59,016] {data.py:428} INFO - Loaded mnasnet1_3.31_7.csv, 769 rows\n",
      "[2024-01-11 07:02:59,551] {data.py:428} INFO - Loaded rand_4000.61_7.csv, 1205 rows\n",
      "[2024-01-11 07:03:00,259] {data.py:428} INFO - Loaded wide_resnet101_2.40_7.csv, 1600 rows\n",
      "[2024-01-11 07:03:01,287] {data.py:428} INFO - Loaded rand_11000.30_7.csv, 2330 rows\n",
      "[2024-01-11 07:03:01,633] {data.py:428} INFO - Loaded mnasnet0_5.53_7.csv, 771 rows\n",
      "[2024-01-11 07:03:02,013] {data.py:428} INFO - Loaded shufflenet_v2_x1_5.69_7.csv, 849 rows\n",
      "[2024-01-11 07:03:02,886] {data.py:428} INFO - Loaded rand_9500.17_7.csv, 1978 rows\n",
      "[2024-01-11 07:03:03,364] {data.py:428} INFO - Loaded rand_500.57_7.csv, 1075 rows\n",
      "[2024-01-11 07:03:03,897] {data.py:428} INFO - Loaded rand_2000.9_7.csv, 1202 rows\n",
      "[2024-01-11 07:03:04,730] {data.py:428} INFO - Loaded densenet121.48_7.csv, 1889 rows\n",
      "[2024-01-11 07:03:05,269] {data.py:428} INFO - Loaded mnasnet1_3.62_7.csv, 771 rows\n",
      "[2024-01-11 07:03:05,617] {data.py:428} INFO - Loaded mnasnet1_3.48_7.csv, 771 rows\n",
      "[2024-01-11 07:03:05,751] {data.py:428} INFO - Loaded vgg16_bn.38_7.csv, 279 rows\n",
      "[2024-01-11 07:03:06,768] {data.py:428} INFO - Loaded rand_5000.62_7.csv, 2314 rows\n",
      "[2024-01-11 07:03:07,762] {data.py:428} INFO - Loaded rand_2500.13_7.csv, 2266 rows\n",
      "[2024-01-11 07:03:08,070] {data.py:428} INFO - Loaded rand_2500.49_7.csv, 680 rows\n",
      "[2024-01-11 07:03:08,926] {data.py:428} INFO - Loaded rand_9500.52_7.csv, 1941 rows\n",
      "[2024-01-11 07:03:09,400] {data.py:428} INFO - Loaded rand_2000.50_7.csv, 1061 rows\n",
      "[2024-01-11 07:03:09,956] {data.py:428} INFO - Loaded rand_10000.62_7.csv, 1262 rows\n",
      "[2024-01-11 07:03:10,829] {data.py:428} INFO - Loaded rand_6500.55_7.csv, 1977 rows\n",
      "[2024-01-11 07:03:10,881] {data.py:428} INFO - Loaded alexnet.37_7.csv, 91 rows\n",
      "[2024-01-11 07:03:11,013] {data.py:428} INFO - Loaded vgg16_bn.17_7.csv, 277 rows\n",
      "[2024-01-11 07:03:11,850] {data.py:428} INFO - Loaded densenet121.36_7.csv, 1889 rows\n",
      "[2024-01-11 07:03:12,860] {data.py:428} INFO - Loaded rand_1500.62_7.csv, 2299 rows\n",
      "[2024-01-11 07:03:13,337] {data.py:428} INFO - Loaded rand_3000.74_7.csv, 1071 rows\n",
      "[2024-01-11 07:03:13,921] {data.py:428} INFO - Loaded rand_6500.56_7.csv, 1319 rows\n",
      "[2024-01-11 07:03:14,270] {data.py:428} INFO - Loaded mnasnet0_5.62_7.csv, 771 rows\n",
      "[2024-01-11 07:03:15,540] {data.py:428} INFO - Loaded rand_3000.31_7.csv, 2887 rows\n",
      "[2024-01-11 07:03:16,143] {data.py:428} INFO - Loaded rand_1000.18_7.csv, 1360 rows\n",
      "[2024-01-11 07:03:17,375] {data.py:428} INFO - Loaded rand_1000.85_7.csv, 2313 rows\n",
      "[2024-01-11 07:03:17,754] {data.py:428} INFO - Loaded shufflenet_v2_x0_5.25_7.csv, 847 rows\n",
      "[2024-01-11 07:03:18,198] {data.py:428} INFO - Loaded rand_5000.48_7.csv, 991 rows\n",
      "[2024-01-11 07:03:18,546] {data.py:428} INFO - Loaded mnasnet0_5.51_7.csv, 771 rows\n",
      "[2024-01-11 07:03:18,926] {data.py:428} INFO - Loaded shufflenet_v2_x0_5.80_7.csv, 849 rows\n",
      "[2024-01-11 07:03:19,306] {data.py:428} INFO - Loaded shufflenet_v2_x1_5.20_7.csv, 847 rows\n",
      "[2024-01-11 07:03:19,674] {data.py:428} INFO - Loaded wide_resnet50_2.52_7.csv, 818 rows\n",
      "[2024-01-11 07:03:20,020] {data.py:428} INFO - Loaded mnasnet0_5.57_7.csv, 771 rows\n",
      "[2024-01-11 07:03:20,155] {data.py:428} INFO - Loaded vgg16_bn.28_7.csv, 283 rows\n",
      "[2024-01-11 07:03:20,521] {data.py:428} INFO - Loaded wide_resnet50_2.31_7.csv, 816 rows\n",
      "[2024-01-11 07:03:20,853] {data.py:428} INFO - Loaded rand_3000.51_7.csv, 734 rows\n",
      "[2024-01-11 07:03:21,324] {data.py:428} INFO - Loaded rand_4000.63_7.csv, 1054 rows\n",
      "[2024-01-11 07:03:21,670] {data.py:428} INFO - Loaded mnasnet1_3.23_7.csv, 769 rows\n",
      "[2024-01-11 07:03:22,050] {data.py:428} INFO - Loaded shufflenet_v2_x1_5.73_7.csv, 849 rows\n",
      "[2024-01-11 07:03:22,399] {data.py:428} INFO - Loaded mnasnet1_3.67_7.csv, 771 rows\n",
      "[2024-01-11 07:03:23,588] {data.py:428} INFO - Loaded efficientnet_b5.27_7.csv, 2707 rows\n",
      "[2024-01-11 07:03:23,681] {data.py:428} INFO - Loaded vgg11_bn.22_7.csv, 187 rows\n",
      "[2024-01-11 07:03:24,032] {data.py:428} INFO - Loaded mnasnet1_3.68_7.csv, 771 rows\n",
      "[2024-01-11 07:03:24,476] {data.py:428} INFO - Loaded rand_7500.51_7.csv, 992 rows\n",
      "[2024-01-11 07:03:24,916] {data.py:428} INFO - Loaded rand_2000.51_7.csv, 988 rows\n",
      "[2024-01-11 07:03:25,928] {data.py:428} INFO - Loaded rand_3500.8_7.csv, 2302 rows\n",
      "[2024-01-11 07:03:26,308] {data.py:428} INFO - Loaded shufflenet_v2_x0_5.74_7.csv, 849 rows\n",
      "[2024-01-11 07:03:27,173] {data.py:428} INFO - Loaded rand_5500.34_7.csv, 1959 rows\n",
      "[2024-01-11 07:03:28,051] {data.py:428} INFO - Loaded rand_3500.60_7.csv, 1992 rows\n",
      "[2024-01-11 07:03:28,624] {data.py:428} INFO - Loaded rand_3500.56_7.csv, 1290 rows\n",
      "[2024-01-11 07:03:29,084] {data.py:428} INFO - Loaded rand_7500.34_7.csv, 1034 rows\n",
      "[2024-01-11 07:03:30,226] {data.py:428} INFO - Loaded rand_2500.11_7.csv, 2602 rows\n",
      "[2024-01-11 07:03:30,606] {data.py:428} INFO - Loaded shufflenet_v2_x1_5.62_7.csv, 849 rows\n",
      "[2024-01-11 07:03:30,954] {data.py:428} INFO - Loaded mnasnet0_5.72_7.csv, 771 rows\n",
      "[2024-01-11 07:03:31,358] {data.py:428} INFO - Loaded googlenet.30_7.csv, 903 rows\n",
      "[2024-01-11 07:03:31,453] {data.py:428} INFO - Loaded vgg11_bn.30_7.csv, 193 rows\n",
      "[2024-01-11 07:03:32,417] {data.py:428} INFO - Loaded wide_resnet101_2.37_7.csv, 1600 rows\n",
      "[2024-01-11 07:03:32,851] {data.py:428} INFO - Loaded rand_9000.49_7.csv, 971 rows\n",
      "[2024-01-11 07:03:33,159] {data.py:428} INFO - Loaded rand_9000.29_7.csv, 679 rows\n",
      "[2024-01-11 07:03:33,506] {data.py:428} INFO - Loaded mnasnet0_5.29_7.csv, 769 rows\n",
      "[2024-01-11 07:03:33,979] {data.py:428} INFO - Loaded rand_10000.40_7.csv, 1064 rows\n",
      "[2024-01-11 07:03:35,173] {data.py:428} INFO - Loaded efficientnet_b5.24_7.csv, 2707 rows\n",
      "[2024-01-11 07:03:35,224] {data.py:428} INFO - Loaded alexnet.41_7.csv, 91 rows\n",
      "[2024-01-11 07:03:36,247] {data.py:428} INFO - Loaded rand_2000.39_7.csv, 2320 rows\n",
      "[2024-01-11 07:03:36,645] {data.py:428} INFO - Loaded mobilenet_v3_large.60_7.csv, 886 rows\n",
      "[2024-01-11 07:03:37,116] {data.py:428} INFO - Loaded rand_8500.75_7.csv, 1053 rows\n",
      "[2024-01-11 07:03:37,596] {data.py:428} INFO - Loaded rand_2000.15_7.csv, 1075 rows\n",
      "[2024-01-11 07:03:37,964] {data.py:428} INFO - Loaded wide_resnet50_2.42_7.csv, 818 rows\n",
      "[2024-01-11 07:03:38,345] {data.py:428} INFO - Loaded shufflenet_v2_x0_5.35_7.csv, 847 rows\n",
      "[2024-01-11 07:03:39,355] {data.py:428} INFO - Loaded rand_500.51_7.csv, 2296 rows\n",
      "[2024-01-11 07:03:40,590] {data.py:428} INFO - Loaded rand_7500.47_7.csv, 2821 rows\n",
      "[2024-01-11 07:03:41,606] {data.py:428} INFO - Loaded rand_6500.27_7.csv, 2317 rows\n",
      "[2024-01-11 07:03:42,110] {data.py:428} INFO - Loaded rand_11000.40_7.csv, 1128 rows\n",
      "[2024-01-11 07:03:42,978] {data.py:428} INFO - Loaded rand_4500.27_7.csv, 1969 rows\n",
      "[2024-01-11 07:03:43,287] {data.py:428} INFO - Loaded rand_11000.19_7.csv, 681 rows\n",
      "[2024-01-11 07:03:43,864] {data.py:428} INFO - Loaded rand_9000.19_7.csv, 1296 rows\n",
      "[2024-01-11 07:03:44,210] {data.py:428} INFO - Loaded mnasnet0_5.30_7.csv, 769 rows\n",
      "[2024-01-11 07:03:44,557] {data.py:428} INFO - Loaded mnasnet1_3.40_7.csv, 771 rows\n",
      "[2024-01-11 07:03:45,437] {data.py:428} INFO - Loaded rand_8500.10_7.csv, 1997 rows\n",
      "[2024-01-11 07:03:45,914] {data.py:428} INFO - Loaded rand_0.19_7.csv, 1075 rows\n",
      "[2024-01-11 07:03:46,319] {data.py:428} INFO - Loaded googlenet.25_7.csv, 903 rows\n",
      "[2024-01-11 07:03:47,150] {data.py:428} INFO - Loaded densenet121.26_7.csv, 1887 rows\n",
      "[2024-01-11 07:03:47,660] {data.py:428} INFO - Loaded rand_5500.5_7.csv, 1147 rows\n",
      "[2024-01-11 07:03:48,532] {data.py:428} INFO - Loaded rand_8000.61_7.csv, 1977 rows\n",
      "[2024-01-11 07:03:48,878] {data.py:428} INFO - Loaded mnasnet0_5.31_7.csv, 769 rows\n",
      "[2024-01-11 07:03:48,977] {data.py:428} INFO - Loaded vgg19.24_7.csv, 203 rows\n",
      "[2024-01-11 07:03:49,325] {data.py:428} INFO - Loaded mnasnet1_3.39_7.csv, 771 rows\n",
      "[2024-01-11 07:03:49,862] {data.py:428} INFO - Loaded rand_0.72_7.csv, 1205 rows\n",
      "[2024-01-11 07:03:49,962] {data.py:428} INFO - Loaded vgg19.26_7.csv, 203 rows\n",
      "[2024-01-11 07:03:50,708] {data.py:428} INFO - Loaded rand_6500.66_7.csv, 974 rows\n",
      "[2024-01-11 07:03:51,185] {data.py:428} INFO - Loaded rand_11500.49_7.csv, 1070 rows\n",
      "[2024-01-11 07:03:51,647] {data.py:428} INFO - Loaded rand_9500.24_7.csv, 1034 rows\n",
      "[2024-01-11 07:03:51,698] {data.py:428} INFO - Loaded alexnet.64_7.csv, 91 rows\n",
      "[2024-01-11 07:03:52,260] {data.py:428} INFO - Loaded rand_3500.70_7.csv, 1259 rows\n",
      "[2024-01-11 07:03:52,605] {data.py:428} INFO - Loaded mnasnet0_5.60_7.csv, 771 rows\n",
      "[2024-01-11 07:03:53,865] {data.py:428} INFO - Loaded rand_2500.60_7.csv, 2870 rows\n",
      "[2024-01-11 07:03:53,965] {data.py:428} INFO - Loaded vgg19.23_7.csv, 203 rows\n",
      "[2024-01-11 07:03:54,513] {data.py:428} INFO - Loaded rand_2500.64_7.csv, 1231 rows\n",
      "[2024-01-11 07:03:54,895] {data.py:428} INFO - Loaded shufflenet_v2_x0_5.51_7.csv, 849 rows\n",
      "[2024-01-11 07:03:54,988] {data.py:428} INFO - Loaded vgg11_bn.20_7.csv, 187 rows\n",
      "[2024-01-11 07:03:55,039] {data.py:428} INFO - Loaded alexnet.39_7.csv, 91 rows\n",
      "[2024-01-11 07:03:55,386] {data.py:428} INFO - Loaded mnasnet1_3.24_7.csv, 769 rows\n",
      "[2024-01-11 07:03:55,785] {data.py:428} INFO - Loaded mobilenet_v3_large.52_7.csv, 888 rows\n",
      "[2024-01-11 07:03:55,918] {data.py:428} INFO - Loaded vgg16_bn.35_7.csv, 279 rows\n",
      "[2024-01-11 07:03:56,298] {data.py:428} INFO - Loaded shufflenet_v2_x1_5.72_7.csv, 847 rows\n",
      "[2024-01-11 07:03:56,703] {data.py:428} INFO - Loaded googlenet.39_7.csv, 905 rows\n",
      "[2024-01-11 07:03:57,085] {data.py:428} INFO - Loaded shufflenet_v2_x0_5.52_7.csv, 849 rows\n",
      "[2024-01-11 07:03:58,067] {data.py:428} INFO - Loaded efficientnet_b4.38_7.csv, 2234 rows\n",
      "[2024-01-11 07:03:59,076] {data.py:428} INFO - Loaded rand_10000.27_7.csv, 2298 rows\n",
      "[2024-01-11 07:03:59,127] {data.py:428} INFO - Loaded alexnet.22_7.csv, 89 rows\n",
      "[2024-01-11 07:03:59,985] {data.py:428} INFO - Loaded rand_1000.80_7.csv, 1940 rows\n",
      "[2024-01-11 07:04:00,078] {data.py:428} INFO - Loaded vgg11_bn.47_7.csv, 189 rows\n",
      "[2024-01-11 07:04:00,672] {data.py:428} INFO - Loaded rand_1000.77_7.csv, 1342 rows\n",
      "[2024-01-11 07:04:01,019] {data.py:428} INFO - Loaded mnasnet0_5.70_7.csv, 771 rows\n",
      "[2024-01-11 07:04:01,072] {data.py:428} INFO - Loaded alexnet.31_7.csv, 95 rows\n",
      "[2024-01-11 07:04:01,543] {data.py:428} INFO - Loaded rand_11500.60_7.csv, 1051 rows\n",
      "[2024-01-11 07:04:01,922] {data.py:428} INFO - Loaded shufflenet_v2_x1_5.41_7.csv, 849 rows\n",
      "[2024-01-11 07:04:02,633] {data.py:428} INFO - Loaded wide_resnet101_2.28_7.csv, 1598 rows\n",
      "[2024-01-11 07:04:03,649] {data.py:428} INFO - Loaded rand_1000.28_7.csv, 2297 rows\n",
      "[2024-01-11 07:04:04,030] {data.py:428} INFO - Loaded shufflenet_v2_x0_5.24_7.csv, 847 rows\n",
      "[2024-01-11 07:04:04,411] {data.py:428} INFO - Loaded shufflenet_v2_x0_5.56_7.csv, 849 rows\n",
      "[2024-01-11 07:04:04,738] {data.py:428} INFO - Loaded rand_1000.62_7.csv, 727 rows\n",
      "[2024-01-11 07:04:05,118] {data.py:428} INFO - Loaded shufflenet_v2_x0_5.57_7.csv, 849 rows\n",
      "[2024-01-11 07:04:05,465] {data.py:428} INFO - Loaded mnasnet0_5.56_7.csv, 771 rows\n",
      "[2024-01-11 07:04:05,800] {data.py:428} INFO - Loaded rand_3500.26_7.csv, 744 rows\n",
      "[2024-01-11 07:04:06,274] {data.py:428} INFO - Loaded rand_0.4_7.csv, 1061 rows\n",
      "[2024-01-11 07:04:07,255] {data.py:428} INFO - Loaded efficientnet_b4.24_7.csv, 2232 rows\n",
      "[2024-01-11 07:04:07,604] {data.py:428} INFO - Loaded mnasnet1_3.34_7.csv, 769 rows\n",
      "[2024-01-11 07:04:07,697] {data.py:428} INFO - Loaded vgg11_bn.21_7.csv, 187 rows\n",
      "[2024-01-11 07:04:08,141] {data.py:428} INFO - Loaded rand_3500.3_7.csv, 990 rows\n",
      "[2024-01-11 07:04:09,150] {data.py:428} INFO - Loaded rand_2000.72_7.csv, 2294 rows\n",
      "[2024-01-11 07:04:10,174] {data.py:428} INFO - Loaded rand_7500.6_7.csv, 2329 rows\n",
      "[2024-01-11 07:04:10,269] {data.py:428} INFO - Loaded vgg11_bn.26_7.csv, 187 rows\n",
      "[2024-01-11 07:04:10,648] {data.py:428} INFO - Loaded shufflenet_v2_x1_5.34_7.csv, 847 rows\n",
      "[2024-01-11 07:04:11,053] {data.py:428} INFO - Loaded googlenet.38_7.csv, 905 rows\n",
      "[2024-01-11 07:04:11,153] {data.py:428} INFO - Loaded vgg19.21_7.csv, 203 rows\n",
      "[2024-01-11 07:04:11,246] {data.py:428} INFO - Loaded vgg11_bn.25_7.csv, 187 rows\n",
      "[2024-01-11 07:04:12,124] {data.py:428} INFO - Loaded rand_4500.36_7.csv, 1993 rows\n",
      "[2024-01-11 07:04:12,459] {data.py:428} INFO - Loaded rand_10000.76_7.csv, 744 rows\n",
      "[2024-01-11 07:04:12,964] {data.py:428} INFO - Loaded rand_5000.6_7.csv, 1139 rows\n",
      "[2024-01-11 07:04:13,827] {data.py:428} INFO - Loaded rand_2000.36_7.csv, 1060 rows\n",
      "[2024-01-11 07:04:14,222] {data.py:428} INFO - Loaded mobilenet_v3_large.66_7.csv, 884 rows\n",
      "[2024-01-11 07:04:14,619] {data.py:428} INFO - Loaded mobilenet_v3_large.57_7.csv, 886 rows\n",
      "[2024-01-11 07:04:14,859] {data.py:428} INFO - Loaded rand_10000.80_7.csv, 527 rows\n",
      "[2024-01-11 07:04:14,861] {data.py:448} INFO - Loading graphs train\n",
      "[2024-01-11 07:04:14,862] {data.py:419} INFO - Loading merged.csv\n",
      "[2024-01-11 07:04:17,095] {data.py:422} INFO - Loaded merged.csv, 1000000 rows\n",
      "[2024-01-11 07:04:18,186] {data.py:428} INFO - Loaded rand_4000.46_7.csv, 2277 rows\n",
      "[2024-01-11 07:04:19,207] {data.py:428} INFO - Loaded efficientnet_b4.41_7.csv, 2234 rows\n",
      "[2024-01-11 07:04:19,592] {data.py:428} INFO - Loaded mnasnet1_3.30_7.csv, 769 rows\n",
      "[2024-01-11 07:04:19,681] {data.py:428} INFO - Loaded alexnet.23_7.csv, 89 rows\n",
      "[2024-01-11 07:04:20,235] {data.py:428} INFO - Loaded rand_1000.12_7.csv, 1153 rows\n",
      "[2024-01-11 07:04:20,673] {data.py:428} INFO - Loaded mobilenet_v3_large.69_7.csv, 884 rows\n",
      "[2024-01-11 07:04:21,728] {data.py:428} INFO - Loaded rand_0.52_7.csv, 2317 rows\n",
      "[2024-01-11 07:04:22,148] {data.py:428} INFO - Loaded shufflenet_v2_x1_5.23_7.csv, 847 rows\n",
      "[2024-01-11 07:04:22,621] {data.py:428} INFO - Loaded rand_4500.42_7.csv, 970 rows\n",
      "[2024-01-11 07:04:23,802] {data.py:428} INFO - Loaded rand_9500.62_7.csv, 2602 rows\n",
      "[2024-01-11 07:04:24,863] {data.py:428} INFO - Loaded rand_10000.20_7.csv, 2326 rows\n",
      "[2024-01-11 07:04:25,234] {data.py:428} INFO - Loaded rand_9000.53_7.csv, 732 rows\n",
      "[2024-01-11 07:04:25,980] {data.py:428} INFO - Loaded wide_resnet101_2.33_7.csv, 1600 rows\n",
      "[2024-01-11 07:04:26,364] {data.py:428} INFO - Loaded mnasnet0_5.67_7.csv, 769 rows\n",
      "[2024-01-11 07:04:26,712] {data.py:428} INFO - Loaded rand_10000.43_7.csv, 682 rows\n",
      "[2024-01-11 07:04:26,801] {data.py:428} INFO - Loaded alexnet.17_7.csv, 89 rows\n",
      "[2024-01-11 07:04:27,207] {data.py:428} INFO - Loaded wide_resnet50_2.26_7.csv, 816 rows\n",
      "[2024-01-11 07:04:27,593] {data.py:428} INFO - Loaded mnasnet0_5.26_7.csv, 769 rows\n",
      "[2024-01-11 07:04:28,066] {data.py:428} INFO - Loaded rand_9000.67_7.csv, 969 rows\n",
      "[2024-01-11 07:04:29,127] {data.py:428} INFO - Loaded rand_3000.65_7.csv, 1967 rows\n",
      "[2024-01-11 07:04:29,656] {data.py:428} INFO - Loaded rand_2500.33_7.csv, 971 rows\n",
      "[2024-01-11 07:04:30,962] {data.py:428} INFO - Loaded rand_5500.8_7.csv, 2605 rows\n",
      "[2024-01-11 07:04:31,411] {data.py:428} INFO - Loaded wide_resnet50_2.41_7.csv, 818 rows\n",
      "[2024-01-11 07:04:31,864] {data.py:428} INFO - Loaded shufflenet_v2_x0_5.72_7.csv, 849 rows\n",
      "[2024-01-11 07:04:32,234] {data.py:428} INFO - Loaded rand_9000.2_7.csv, 683 rows\n",
      "[2024-01-11 07:04:32,382] {data.py:428} INFO - Loaded vgg19.17_7.csv, 203 rows\n",
      "[2024-01-11 07:04:33,332] {data.py:428} INFO - Loaded rand_9500.36_7.csv, 1937 rows\n",
      "[2024-01-11 07:04:33,766] {data.py:428} INFO - Loaded rand_4000.76_7.csv, 809 rows\n",
      "[2024-01-11 07:04:33,950] {data.py:428} INFO - Loaded vgg16_bn.20_7.csv, 277 rows\n",
      "[2024-01-11 07:04:34,414] {data.py:428} INFO - Loaded mobilenet_v3_large.22_7.csv, 884 rows\n",
      "[2024-01-11 07:04:34,828] {data.py:428} INFO - Loaded rand_4500.23_7.csv, 773 rows\n",
      "[2024-01-11 07:04:36,135] {data.py:428} INFO - Loaded efficientnet_b5.25_7.csv, 2707 rows\n",
      "[2024-01-11 07:04:36,582] {data.py:428} INFO - Loaded shufflenet_v2_x1_5.68_7.csv, 849 rows\n",
      "[2024-01-11 07:04:37,832] {data.py:428} INFO - Loaded rand_6000.18_7.csv, 2591 rows\n",
      "[2024-01-11 07:04:38,452] {data.py:428} INFO - Loaded rand_10000.74_7.csv, 1208 rows\n",
      "[2024-01-11 07:04:38,932] {data.py:428} INFO - Loaded wide_resnet50_2.47_7.csv, 818 rows\n",
      "[2024-01-11 07:04:39,389] {data.py:428} INFO - Loaded mnasnet0_5.38_7.csv, 771 rows\n",
      "[2024-01-11 07:04:39,823] {data.py:428} INFO - Loaded mnasnet0_5.63_7.csv, 771 rows\n",
      "[2024-01-11 07:04:41,170] {data.py:428} INFO - Loaded efficientnet_b5.30_7.csv, 2709 rows\n",
      "[2024-01-11 07:04:42,436] {data.py:428} INFO - Loaded rand_3500.58_7.csv, 2604 rows\n",
      "[2024-01-11 07:04:43,076] {data.py:428} INFO - Loaded rand_7000.4_7.csv, 1267 rows\n",
      "[2024-01-11 07:04:44,207] {data.py:428} INFO - Loaded rand_6000.38_7.csv, 2314 rows\n",
      "[2024-01-11 07:04:44,653] {data.py:428} INFO - Loaded shufflenet_v2_x0_5.48_7.csv, 849 rows\n",
      "[2024-01-11 07:04:46,044] {data.py:428} INFO - Loaded rand_9500.34_7.csv, 2879 rows\n",
      "[2024-01-11 07:04:46,490] {data.py:428} INFO - Loaded shufflenet_v2_x1_5.32_7.csv, 847 rows\n",
      "[2024-01-11 07:04:46,996] {data.py:428} INFO - Loaded rand_4500.9_7.csv, 972 rows\n",
      "[2024-01-11 07:04:48,679] {data.py:428} INFO - Loaded rand_1000.9_7.csv, 2607 rows\n",
      "[2024-01-11 07:04:48,821] {data.py:428} INFO - Loaded vgg19.31_7.csv, 209 rows\n",
      "[2024-01-11 07:04:49,303] {data.py:428} INFO - Loaded rand_3500.51_7.csv, 992 rows\n",
      "[2024-01-11 07:04:49,817] {data.py:428} INFO - Loaded rand_500.52_7.csv, 1063 rows\n",
      "[2024-01-11 07:04:50,250] {data.py:428} INFO - Loaded mobilenet_v3_large.63_7.csv, 886 rows\n",
      "[2024-01-11 07:04:50,760] {data.py:428} INFO - Loaded rand_5000.22_7.csv, 1054 rows\n",
      "[2024-01-11 07:04:51,939] {data.py:428} INFO - Loaded rand_8000.35_7.csv, 2605 rows\n",
      "[2024-01-11 07:04:52,850] {data.py:428} INFO - Loaded rand_8500.76_7.csv, 1982 rows\n",
      "[2024-01-11 07:04:54,033] {data.py:428} INFO - Loaded rand_5500.24_7.csv, 2607 rows\n",
      "[2024-01-11 07:04:54,762] {data.py:428} INFO - Loaded rand_10000.73_7.csv, 1564 rows\n",
      "[2024-01-11 07:04:55,244] {data.py:428} INFO - Loaded rand_3500.49_7.csv, 988 rows\n",
      "[2024-01-11 07:04:55,415] {data.py:428} INFO - Loaded vgg16_bn.41_7.csv, 279 rows\n",
      "[2024-01-11 07:04:56,472] {data.py:428} INFO - Loaded rand_9500.72_7.csv, 2324 rows\n",
      "[2024-01-11 07:04:57,201] {data.py:428} INFO - Loaded rand_8500.50_7.csv, 1565 rows\n",
      "[2024-01-11 07:04:58,250] {data.py:428} INFO - Loaded rand_7000.27_7.csv, 2296 rows\n",
      "[2024-01-11 07:04:59,291] {data.py:428} INFO - Loaded rand_11500.59_7.csv, 2296 rows\n",
      "[2024-01-11 07:05:00,205] {data.py:428} INFO - Loaded rand_9000.4_7.csv, 1999 rows\n",
      "[2024-01-11 07:05:00,931] {data.py:428} INFO - Loaded rand_11000.71_7.csv, 1564 rows\n",
      "[2024-01-11 07:05:01,972] {data.py:428} INFO - Loaded rand_8000.7_7.csv, 2291 rows\n",
      "[2024-01-11 07:05:02,578] {data.py:428} INFO - Loaded rand_1000.14_7.csv, 1281 rows\n",
      "[2024-01-11 07:05:03,627] {data.py:428} INFO - Loaded rand_2000.76_7.csv, 2307 rows\n",
      "[2024-01-11 07:05:04,045] {data.py:428} INFO - Loaded shufflenet_v2_x0_5.49_7.csv, 849 rows\n",
      "[2024-01-11 07:05:05,088] {data.py:428} INFO - Loaded rand_4500.71_7.csv, 2296 rows\n",
      "[2024-01-11 07:05:05,996] {data.py:428} INFO - Loaded rand_9500.33_7.csv, 1985 rows\n",
      "[2024-01-11 07:05:07,038] {data.py:428} INFO - Loaded rand_6000.48_7.csv, 2295 rows\n",
      "[2024-01-11 07:05:07,439] {data.py:428} INFO - Loaded rand_4500.57_7.csv, 802 rows\n",
      "[2024-01-11 07:05:07,824] {data.py:428} INFO - Loaded mnasnet0_5.42_7.csv, 771 rows\n",
      "[2024-01-11 07:05:08,243] {data.py:428} INFO - Loaded shufflenet_v2_x1_5.65_7.csv, 849 rows\n",
      "[2024-01-11 07:05:08,661] {data.py:428} INFO - Loaded shufflenet_v2_x0_5.81_7.csv, 847 rows\n",
      "[2024-01-11 07:05:09,242] {data.py:428} INFO - Loaded rand_11000.81_7.csv, 1220 rows\n",
      "[2024-01-11 07:05:09,630] {data.py:428} INFO - Loaded mnasnet0_5.33_7.csv, 769 rows\n",
      "[2024-01-11 07:05:10,142] {data.py:428} INFO - Loaded rand_1500.70_7.csv, 1055 rows\n",
      "[2024-01-11 07:05:10,675] {data.py:428} INFO - Loaded rand_8500.6_7.csv, 1113 rows\n",
      "[2024-01-11 07:05:11,223] {data.py:428} INFO - Loaded rand_6500.24_7.csv, 1144 rows\n",
      "[2024-01-11 07:05:11,569] {data.py:428} INFO - Loaded rand_11000.53_7.csv, 680 rows\n",
      "[2024-01-11 07:05:12,476] {data.py:428} INFO - Loaded rand_2500.29_7.csv, 1980 rows\n",
      "[2024-01-11 07:05:12,950] {data.py:428} INFO - Loaded rand_6000.55_7.csv, 972 rows\n",
      "[2024-01-11 07:05:13,083] {data.py:428} INFO - Loaded vgg11_bn.38_7.csv, 189 rows\n",
      "[2024-01-11 07:05:14,269] {data.py:428} INFO - Loaded rand_6000.41_7.csv, 2606 rows\n",
      "[2024-01-11 07:05:14,655] {data.py:428} INFO - Loaded mnasnet1_3.41_7.csv, 771 rows\n",
      "[2024-01-11 07:05:15,551] {data.py:428} INFO - Loaded rand_0.22_7.csv, 1957 rows\n",
      "[2024-01-11 07:05:15,899] {data.py:428} INFO - Loaded rand_5500.13_7.csv, 680 rows\n",
      "[2024-01-11 07:05:16,071] {data.py:428} INFO - Loaded vgg16_bn.27_7.csv, 277 rows\n",
      "[2024-01-11 07:05:16,969] {data.py:428} INFO - Loaded rand_6000.16_7.csv, 1946 rows\n",
      "[2024-01-11 07:05:18,012] {data.py:428} INFO - Loaded rand_10000.82_7.csv, 2289 rows\n",
      "[2024-01-11 07:05:18,398] {data.py:428} INFO - Loaded mnasnet1_3.64_7.csv, 771 rows\n",
      "[2024-01-11 07:05:18,817] {data.py:428} INFO - Loaded shufflenet_v2_x0_5.31_7.csv, 847 rows\n",
      "[2024-01-11 07:05:19,237] {data.py:428} INFO - Loaded shufflenet_v2_x0_5.79_7.csv, 847 rows\n",
      "[2024-01-11 07:05:19,646] {data.py:428} INFO - Loaded rand_6500.81_7.csv, 820 rows\n",
      "[2024-01-11 07:05:20,066] {data.py:428} INFO - Loaded shufflenet_v2_x1_5.40_7.csv, 849 rows\n",
      "[2024-01-11 07:05:20,603] {data.py:428} INFO - Loaded rand_9500.43_7.csv, 1122 rows\n",
      "[2024-01-11 07:05:21,784] {data.py:428} INFO - Loaded rand_11500.87_7.csv, 2606 rows\n",
      "[2024-01-11 07:05:21,924] {data.py:428} INFO - Loaded vgg19.28_7.csv, 203 rows\n",
      "[2024-01-11 07:05:22,095] {data.py:428} INFO - Loaded vgg16_bn.22_7.csv, 277 rows\n",
      "[2024-01-11 07:05:22,267] {data.py:428} INFO - Loaded vgg16_bn.18_7.csv, 277 rows\n",
      "[2024-01-11 07:05:23,171] {data.py:428} INFO - Loaded rand_1500.41_7.csv, 1968 rows\n",
      "[2024-01-11 07:05:23,589] {data.py:428} INFO - Loaded shufflenet_v2_x1_5.24_7.csv, 847 rows\n",
      "[2024-01-11 07:05:24,186] {data.py:428} INFO - Loaded rand_10000.29_7.csv, 1259 rows\n",
      "[2024-01-11 07:05:25,414] {data.py:428} INFO - Loaded efficientnet_b5.43_7.csv, 2709 rows\n",
      "[2024-01-11 07:05:25,546] {data.py:428} INFO - Loaded vgg11_bn.23_7.csv, 187 rows\n",
      "[2024-01-11 07:05:25,636] {data.py:428} INFO - Loaded alexnet.44_7.csv, 91 rows\n",
      "[2024-01-11 07:05:25,775] {data.py:428} INFO - Loaded vgg19.19_7.csv, 203 rows\n",
      "[2024-01-11 07:05:27,460] {data.py:428} INFO - Loaded rand_500.44_7.csv, 2315 rows\n",
      "[2024-01-11 07:05:27,551] {data.py:428} INFO - Loaded alexnet.52_7.csv, 91 rows\n",
      "[2024-01-11 07:05:28,031] {data.py:428} INFO - Loaded rand_3500.81_7.csv, 988 rows\n",
      "[2024-01-11 07:05:28,451] {data.py:428} INFO - Loaded shufflenet_v2_x1_5.66_7.csv, 849 rows\n",
      "[2024-01-11 07:05:29,495] {data.py:428} INFO - Loaded rand_8000.45_7.csv, 2289 rows\n",
      "[2024-01-11 07:05:30,403] {data.py:428} INFO - Loaded rand_7500.12_7.csv, 1978 rows\n",
      "[2024-01-11 07:05:30,839] {data.py:428} INFO - Loaded mobilenet_v3_large.34_7.csv, 884 rows\n",
      "[2024-01-11 07:05:31,257] {data.py:428} INFO - Loaded shufflenet_v2_x1_5.33_7.csv, 847 rows\n",
      "[2024-01-11 07:05:31,732] {data.py:428} INFO - Loaded rand_0.33_7.csv, 972 rows\n",
      "[2024-01-11 07:05:32,214] {data.py:428} INFO - Loaded rand_3000.66_7.csv, 991 rows\n",
      "[2024-01-11 07:05:33,084] {data.py:428} INFO - Loaded densenet121.42_7.csv, 1889 rows\n",
      "[2024-01-11 07:05:33,469] {data.py:428} INFO - Loaded mnasnet1_3.21_7.csv, 769 rows\n",
      "[2024-01-11 07:05:33,977] {data.py:428} INFO - Loaded rand_0.58_7.csv, 1058 rows\n",
      "[2024-01-11 07:05:34,415] {data.py:428} INFO - Loaded mobilenet_v3_large.42_7.csv, 888 rows\n",
      "[2024-01-11 07:05:34,998] {data.py:428} INFO - Loaded rand_5000.61_7.csv, 1226 rows\n",
      "[2024-01-11 07:05:36,174] {data.py:428} INFO - Loaded rand_8000.5_7.csv, 2605 rows\n",
      "[2024-01-11 07:05:36,594] {data.py:428} INFO - Loaded shufflenet_v2_x0_5.67_7.csv, 849 rows\n",
      "[2024-01-11 07:05:37,013] {data.py:428} INFO - Loaded shufflenet_v2_x0_5.60_7.csv, 849 rows\n",
      "[2024-01-11 07:05:37,419] {data.py:428} INFO - Loaded wide_resnet50_2.43_7.csv, 818 rows\n",
      "[2024-01-11 07:05:37,804] {data.py:428} INFO - Loaded mnasnet0_5.34_7.csv, 769 rows\n",
      "[2024-01-11 07:05:38,986] {data.py:428} INFO - Loaded rand_8000.36_7.csv, 2607 rows\n",
      "[2024-01-11 07:05:39,462] {data.py:428} INFO - Loaded rand_9500.42_7.csv, 973 rows\n",
      "[2024-01-11 07:05:40,371] {data.py:428} INFO - Loaded rand_1500.51_7.csv, 1974 rows\n",
      "[2024-01-11 07:05:40,512] {data.py:428} INFO - Loaded vgg19.32_7.csv, 209 rows\n",
      "[2024-01-11 07:05:40,918] {data.py:428} INFO - Loaded wide_resnet50_2.56_7.csv, 818 rows\n",
      "[2024-01-11 07:05:42,102] {data.py:428} INFO - Loaded rand_4500.73_7.csv, 2607 rows\n",
      "[2024-01-11 07:05:42,577] {data.py:428} INFO - Loaded rand_2500.63_7.csv, 973 rows\n",
      "[2024-01-11 07:05:43,880] {data.py:428} INFO - Loaded rand_2500.72_7.csv, 2883 rows\n",
      "[2024-01-11 07:05:44,778] {data.py:428} INFO - Loaded rand_1000.65_7.csv, 1952 rows\n",
      "[2024-01-11 07:05:45,689] {data.py:428} INFO - Loaded rand_10000.35_7.csv, 1982 rows\n",
      "[2024-01-11 07:05:46,126] {data.py:428} INFO - Loaded mobilenet_v3_large.48_7.csv, 888 rows\n",
      "[2024-01-11 07:05:46,297] {data.py:428} INFO - Loaded vgg16_bn.26_7.csv, 277 rows\n",
      "[2024-01-11 07:05:46,732] {data.py:428} INFO - Loaded mobilenet_v3_large.37_7.csv, 888 rows\n",
      "[2024-01-11 07:05:47,152] {data.py:428} INFO - Loaded shufflenet_v2_x1_5.55_7.csv, 849 rows\n",
      "[2024-01-11 07:05:48,333] {data.py:428} INFO - Loaded rand_1500.24_7.csv, 2609 rows\n",
      "[2024-01-11 07:05:49,387] {data.py:428} INFO - Loaded rand_6500.7_7.csv, 2316 rows\n",
      "[2024-01-11 07:05:49,480] {data.py:428} INFO - Loaded alexnet.33_7.csv, 95 rows\n",
      "[2024-01-11 07:05:49,899] {data.py:428} INFO - Loaded shufflenet_v2_x0_5.75_7.csv, 849 rows\n",
      "[2024-01-11 07:05:50,793] {data.py:428} INFO - Loaded rand_1500.2_7.csv, 1950 rows\n",
      "[2024-01-11 07:05:51,852] {data.py:428} INFO - Loaded rand_1500.39_7.csv, 2313 rows\n",
      "[2024-01-11 07:05:52,198] {data.py:428} INFO - Loaded rand_11000.64_7.csv, 681 rows\n",
      "[2024-01-11 07:05:52,287] {data.py:428} INFO - Loaded alexnet.20_7.csv, 89 rows\n",
      "[2024-01-11 07:05:52,426] {data.py:428} INFO - Loaded vgg19.20_7.csv, 203 rows\n",
      "[2024-01-11 07:05:52,812] {data.py:428} INFO - Loaded mnasnet1_3.37_7.csv, 771 rows\n",
      "[2024-01-11 07:05:53,992] {data.py:428} INFO - Loaded rand_1000.13_7.csv, 2604 rows\n",
      "[2024-01-11 07:05:54,341] {data.py:428} INFO - Loaded rand_6000.57_7.csv, 680 rows\n",
      "[2024-01-11 07:05:54,814] {data.py:428} INFO - Loaded rand_6500.45_7.csv, 973 rows\n",
      "[2024-01-11 07:05:55,296] {data.py:428} INFO - Loaded rand_3500.82_7.csv, 991 rows\n",
      "[2024-01-11 07:05:55,670] {data.py:428} INFO - Loaded rand_2000.16_7.csv, 740 rows\n",
      "[2024-01-11 07:05:56,151] {data.py:428} INFO - Loaded rand_8500.77_7.csv, 989 rows\n",
      "[2024-01-11 07:05:57,170] {data.py:428} INFO - Loaded efficientnet_b4.22_7.csv, 2232 rows\n",
      "[2024-01-11 07:05:57,556] {data.py:428} INFO - Loaded mnasnet0_5.47_7.csv, 771 rows\n",
      "[2024-01-11 07:05:57,974] {data.py:428} INFO - Loaded shufflenet_v2_x0_5.33_7.csv, 847 rows\n",
      "[2024-01-11 07:05:58,379] {data.py:428} INFO - Loaded wide_resnet50_2.25_7.csv, 816 rows\n",
      "[2024-01-11 07:05:58,471] {data.py:428} INFO - Loaded alexnet.32_7.csv, 95 rows\n",
      "[2024-01-11 07:05:59,057] {data.py:428} INFO - Loaded rand_8000.28_7.csv, 1233 rows\n",
      "[2024-01-11 07:05:59,960] {data.py:428} INFO - Loaded rand_11500.33_7.csv, 1958 rows\n",
      "[2024-01-11 07:06:00,365] {data.py:428} INFO - Loaded rand_2000.62_7.csv, 809 rows\n",
      "[2024-01-11 07:06:00,951] {data.py:428} INFO - Loaded rand_2500.43_7.csv, 1225 rows\n",
      "[2024-01-11 07:06:01,857] {data.py:428} INFO - Loaded rand_3500.4_7.csv, 1969 rows\n",
      "[2024-01-11 07:06:02,292] {data.py:428} INFO - Loaded mobilenet_v3_large.71_7.csv, 886 rows\n",
      "[2024-01-11 07:06:02,676] {data.py:428} INFO - Loaded mnasnet0_5.21_7.csv, 769 rows\n",
      "[2024-01-11 07:06:03,595] {data.py:428} INFO - Loaded rand_500.43_7.csv, 1994 rows\n",
      "[2024-01-11 07:06:03,980] {data.py:428} INFO - Loaded mnasnet1_3.29_7.csv, 769 rows\n",
      "[2024-01-11 07:06:04,349] {data.py:428} INFO - Loaded rand_500.3_7.csv, 737 rows\n",
      "[2024-01-11 07:06:04,769] {data.py:428} INFO - Loaded shufflenet_v2_x0_5.39_7.csv, 849 rows\n",
      "[2024-01-11 07:06:05,816] {data.py:428} INFO - Loaded rand_5500.3_7.csv, 2296 rows\n",
      "[2024-01-11 07:06:05,908] {data.py:428} INFO - Loaded alexnet.29_7.csv, 95 rows\n",
      "[2024-01-11 07:06:06,314] {data.py:428} INFO - Loaded wide_resnet50_2.48_7.csv, 818 rows\n",
      "[2024-01-11 07:06:07,497] {data.py:428} INFO - Loaded rand_10000.57_7.csv, 2606 rows\n",
      "[2024-01-11 07:06:07,631] {data.py:428} INFO - Loaded vgg11_bn.27_7.csv, 187 rows\n",
      "[2024-01-11 07:06:08,651] {data.py:428} INFO - Loaded efficientnet_b4.51_7.csv, 2234 rows\n",
      "[2024-01-11 07:06:09,126] {data.py:428} INFO - Loaded rand_3500.10_7.csv, 973 rows\n",
      "[2024-01-11 07:06:09,570] {data.py:428} INFO - Loaded googlenet.34_7.csv, 903 rows\n",
      "[2024-01-11 07:06:10,732] {data.py:428} INFO - Loaded rand_11000.74_7.csv, 2560 rows\n",
      "[2024-01-11 07:06:11,245] {data.py:428} INFO - Loaded rand_5000.56_7.csv, 1059 rows\n",
      "[2024-01-11 07:06:12,474] {data.py:428} INFO - Loaded efficientnet_b5.19_7.csv, 2707 rows\n",
      "[2024-01-11 07:06:12,564] {data.py:428} INFO - Loaded alexnet.63_7.csv, 89 rows\n",
      "[2024-01-11 07:06:12,983] {data.py:428} INFO - Loaded shufflenet_v2_x0_5.63_7.csv, 849 rows\n",
      "[2024-01-11 07:06:13,888] {data.py:428} INFO - Loaded rand_11500.95_7.csv, 1967 rows\n",
      "[2024-01-11 07:06:15,435] {data.py:428} INFO - Loaded wide_resnet101_2.34_7.csv, 1600 rows\n",
      "[2024-01-11 07:06:15,822] {data.py:428} INFO - Loaded mnasnet0_5.75_7.csv, 769 rows\n",
      "[2024-01-11 07:06:16,295] {data.py:428} INFO - Loaded rand_7500.60_7.csv, 971 rows\n",
      "[2024-01-11 07:06:16,715] {data.py:428} INFO - Loaded shufflenet_v2_x1_5.56_7.csv, 849 rows\n",
      "[2024-01-11 07:06:17,938] {data.py:428} INFO - Loaded efficientnet_b5.39_7.csv, 2709 rows\n",
      "[2024-01-11 07:06:18,422] {data.py:428} INFO - Loaded rand_9000.26_7.csv, 992 rows\n",
      "[2024-01-11 07:06:19,742] {data.py:428} INFO - Loaded rand_2000.37_7.csv, 2926 rows\n",
      "[2024-01-11 07:06:20,793] {data.py:428} INFO - Loaded rand_8500.17_7.csv, 2294 rows\n",
      "[2024-01-11 07:06:21,275] {data.py:428} INFO - Loaded rand_5000.73_7.csv, 990 rows\n",
      "[2024-01-11 07:06:21,699] {data.py:428} INFO - Loaded shufflenet_v2_x1_5.39_7.csv, 849 rows\n",
      "[2024-01-11 07:06:22,144] {data.py:428} INFO - Loaded googlenet.21_7.csv, 903 rows\n",
      "[2024-01-11 07:06:22,561] {data.py:428} INFO - Loaded shufflenet_v2_x0_5.78_7.csv, 847 rows\n",
      "[2024-01-11 07:06:23,578] {data.py:428} INFO - Loaded efficientnet_b4.35_7.csv, 2234 rows\n",
      "[2024-01-11 07:06:24,628] {data.py:428} INFO - Loaded rand_2000.75_7.csv, 2299 rows\n",
      "[2024-01-11 07:06:25,100] {data.py:428} INFO - Loaded rand_3000.14_7.csv, 972 rows\n",
      "[2024-01-11 07:06:26,007] {data.py:428} INFO - Loaded rand_11500.38_7.csv, 1975 rows\n",
      "[2024-01-11 07:06:27,055] {data.py:428} INFO - Loaded rand_8000.48_7.csv, 2296 rows\n",
      "[2024-01-11 07:06:28,102] {data.py:428} INFO - Loaded rand_500.17_7.csv, 2298 rows\n",
      "[2024-01-11 07:06:28,475] {data.py:428} INFO - Loaded rand_11000.51_7.csv, 738 rows\n",
      "[2024-01-11 07:06:28,882] {data.py:428} INFO - Loaded wide_resnet50_2.36_7.csv, 818 rows\n",
      "[2024-01-11 07:06:29,269] {data.py:428} INFO - Loaded mnasnet0_5.55_7.csv, 771 rows\n",
      "[2024-01-11 07:06:29,655] {data.py:428} INFO - Loaded mnasnet0_5.50_7.csv, 771 rows\n",
      "[2024-01-11 07:06:30,091] {data.py:428} INFO - Loaded mobilenet_v3_large.65_7.csv, 886 rows\n",
      "[2024-01-11 07:06:30,570] {data.py:428} INFO - Loaded rand_10000.18_7.csv, 988 rows\n",
      "[2024-01-11 07:06:30,941] {data.py:428} INFO - Loaded rand_9500.68_7.csv, 734 rows\n",
      "[2024-01-11 07:06:31,587] {data.py:428} INFO - Loaded rand_9000.77_7.csv, 1367 rows\n",
      "[2024-01-11 07:06:31,992] {data.py:428} INFO - Loaded wide_resnet50_2.55_7.csv, 816 rows\n",
      "[2024-01-11 07:06:32,545] {data.py:428} INFO - Loaded rand_9500.65_7.csv, 1154 rows\n",
      "[2024-01-11 07:06:32,893] {data.py:428} INFO - Loaded rand_3500.23_7.csv, 680 rows\n",
      "[2024-01-11 07:06:33,313] {data.py:428} INFO - Loaded shufflenet_v2_x0_5.70_7.csv, 849 rows\n",
      "[2024-01-11 07:06:33,733] {data.py:428} INFO - Loaded shufflenet_v2_x0_5.41_7.csv, 849 rows\n",
      "[2024-01-11 07:06:34,081] {data.py:428} INFO - Loaded rand_7500.42_7.csv, 680 rows\n",
      "[2024-01-11 07:06:34,466] {data.py:428} INFO - Loaded mnasnet1_3.35_7.csv, 769 rows\n",
      "[2024-01-11 07:06:34,941] {data.py:428} INFO - Loaded rand_11000.9_7.csv, 969 rows\n",
      "[2024-01-11 07:06:35,807] {data.py:428} INFO - Loaded densenet121.49_7.csv, 1887 rows\n",
      "[2024-01-11 07:06:36,155] {data.py:428} INFO - Loaded rand_11500.2_7.csv, 681 rows\n",
      "[2024-01-11 07:06:36,539] {data.py:428} INFO - Loaded mnasnet1_3.47_7.csv, 771 rows\n",
      "[2024-01-11 07:06:37,266] {data.py:428} INFO - Loaded rand_11000.12_7.csv, 1563 rows\n",
      "[2024-01-11 07:06:37,441] {data.py:428} INFO - Loaded vgg16_bn.29_7.csv, 283 rows\n",
      "[2024-01-11 07:06:38,017] {data.py:428} INFO - Loaded rand_8500.1_7.csv, 1215 rows\n",
      "[2024-01-11 07:06:39,197] {data.py:428} INFO - Loaded rand_7000.5_7.csv, 2605 rows\n",
      "[2024-01-11 07:06:40,216] {data.py:428} INFO - Loaded efficientnet_b4.42_7.csv, 2234 rows\n",
      "[2024-01-11 07:06:40,635] {data.py:428} INFO - Loaded shufflenet_v2_x1_5.50_7.csv, 849 rows\n",
      "[2024-01-11 07:06:41,054] {data.py:428} INFO - Loaded shufflenet_v2_x1_5.61_7.csv, 849 rows\n",
      "[2024-01-11 07:06:41,492] {data.py:428} INFO - Loaded mobilenet_v3_large.38_7.csv, 888 rows\n",
      "[2024-01-11 07:06:42,721] {data.py:428} INFO - Loaded efficientnet_b5.31_7.csv, 2709 rows\n",
      "[2024-01-11 07:06:42,811] {data.py:428} INFO - Loaded alexnet.51_7.csv, 91 rows\n",
      "[2024-01-11 07:06:43,179] {data.py:428} INFO - Loaded rand_8000.15_7.csv, 724 rows\n",
      "[2024-01-11 07:06:43,599] {data.py:428} INFO - Loaded shufflenet_v2_x0_5.29_7.csv, 847 rows\n",
      "[2024-01-11 07:06:43,984] {data.py:428} INFO - Loaded mnasnet0_5.39_7.csv, 771 rows\n",
      "[2024-01-11 07:06:44,492] {data.py:428} INFO - Loaded rand_9000.22_7.csv, 1050 rows\n",
      "[2024-01-11 07:06:45,540] {data.py:428} INFO - Loaded rand_0.27_7.csv, 2298 rows\n",
      "[2024-01-11 07:06:45,673] {data.py:428} INFO - Loaded vgg11_bn.35_7.csv, 189 rows\n",
      "[2024-01-11 07:06:46,156] {data.py:428} INFO - Loaded rand_6500.70_7.csv, 989 rows\n",
      "[2024-01-11 07:06:46,636] {data.py:428} INFO - Loaded rand_3000.11_7.csv, 989 rows\n",
      "[2024-01-11 07:06:47,055] {data.py:428} INFO - Loaded shufflenet_v2_x0_5.50_7.csv, 849 rows\n",
      "[2024-01-11 07:06:47,501] {data.py:428} INFO - Loaded googlenet.32_7.csv, 903 rows\n",
      "[2024-01-11 07:06:47,593] {data.py:428} INFO - Loaded alexnet.46_7.csv, 91 rows\n",
      "[2024-01-11 07:06:48,011] {data.py:428} INFO - Loaded shufflenet_v2_x1_5.59_7.csv, 849 rows\n",
      "[2024-01-11 07:06:48,431] {data.py:428} INFO - Loaded shufflenet_v2_x1_5.25_7.csv, 847 rows\n",
      "[2024-01-11 07:06:48,865] {data.py:428} INFO - Loaded mobilenet_v3_large.32_7.csv, 884 rows\n",
      "[2024-01-11 07:06:49,284] {data.py:428} INFO - Loaded shufflenet_v2_x1_5.35_7.csv, 847 rows\n",
      "[2024-01-11 07:06:49,417] {data.py:428} INFO - Loaded vgg11_bn.36_7.csv, 189 rows\n",
      "[2024-01-11 07:06:49,557] {data.py:428} INFO - Loaded vgg19.37_7.csv, 205 rows\n",
      "[2024-01-11 07:06:50,181] {data.py:428} INFO - Loaded rand_500.73_7.csv, 1320 rows\n",
      "[2024-01-11 07:06:50,600] {data.py:428} INFO - Loaded shufflenet_v2_x1_5.46_7.csv, 849 rows\n",
      "[2024-01-11 07:06:51,344] {data.py:428} INFO - Loaded wide_resnet101_2.38_7.csv, 1600 rows\n",
      "[2024-01-11 07:06:51,845] {data.py:428} INFO - Loaded rand_0.1_7.csv, 1040 rows\n",
      "[2024-01-11 07:06:52,390] {data.py:428} INFO - Loaded rand_8000.22_7.csv, 1132 rows\n",
      "[2024-01-11 07:06:52,773] {data.py:428} INFO - Loaded mnasnet0_5.22_7.csv, 769 rows\n",
      "[2024-01-11 07:06:52,862] {data.py:428} INFO - Loaded alexnet.62_7.csv, 89 rows\n",
      "[2024-01-11 07:06:53,769] {data.py:428} INFO - Loaded rand_11000.18_7.csv, 1980 rows\n",
      "[2024-01-11 07:06:54,280] {data.py:428} INFO - Loaded rand_11000.67_7.csv, 1059 rows\n",
      "[2024-01-11 07:06:55,506] {data.py:428} INFO - Loaded efficientnet_b5.28_7.csv, 2707 rows\n",
      "[2024-01-11 07:06:55,891] {data.py:428} INFO - Loaded mnasnet1_3.63_7.csv, 769 rows\n",
      "[2024-01-11 07:06:56,789] {data.py:428} INFO - Loaded rand_2500.26_7.csv, 1947 rows\n",
      "[2024-01-11 07:06:57,135] {data.py:428} INFO - Loaded rand_10000.34_7.csv, 680 rows\n",
      "[2024-01-11 07:06:57,270] {data.py:428} INFO - Loaded vgg11_bn.32_7.csv, 193 rows\n",
      "[2024-01-11 07:06:57,687] {data.py:428} INFO - Loaded shufflenet_v2_x0_5.23_7.csv, 847 rows\n",
      "[2024-01-11 07:06:59,014] {data.py:428} INFO - Loaded rand_2000.59_7.csv, 2937 rows\n",
      "[2024-01-11 07:07:00,059] {data.py:428} INFO - Loaded rand_500.90_7.csv, 2296 rows\n",
      "[2024-01-11 07:07:00,531] {data.py:428} INFO - Loaded rand_0.64_7.csv, 972 rows\n",
      "[2024-01-11 07:07:01,427] {data.py:428} INFO - Loaded rand_8000.54_7.csv, 1945 rows\n",
      "[2024-01-11 07:07:01,516] {data.py:428} INFO - Loaded alexnet.26_7.csv, 89 rows\n",
      "[2024-01-11 07:07:01,990] {data.py:428} INFO - Loaded rand_7500.25_7.csv, 971 rows\n",
      "[2024-01-11 07:07:02,377] {data.py:428} INFO - Loaded mnasnet1_3.42_7.csv, 771 rows\n",
      "[2024-01-11 07:07:02,851] {data.py:428} INFO - Loaded rand_8500.25_7.csv, 971 rows\n",
      "[2024-01-11 07:07:04,017] {data.py:428} INFO - Loaded rand_6500.67_7.csv, 2567 rows\n",
      "[2024-01-11 07:07:04,528] {data.py:428} INFO - Loaded rand_500.60_7.csv, 1059 rows\n",
      "[2024-01-11 07:07:04,964] {data.py:428} INFO - Loaded mobilenet_v3_large.25_7.csv, 884 rows\n",
      "[2024-01-11 07:07:05,369] {data.py:428} INFO - Loaded wide_resnet50_2.23_7.csv, 816 rows\n",
      "[2024-01-11 07:07:05,806] {data.py:428} INFO - Loaded mobilenet_v3_large.47_7.csv, 888 rows\n",
      "[2024-01-11 07:07:06,191] {data.py:428} INFO - Loaded mnasnet1_3.45_7.csv, 771 rows\n",
      "[2024-01-11 07:07:06,935] {data.py:428} INFO - Loaded wide_resnet101_2.24_7.csv, 1598 rows\n",
      "[2024-01-11 07:07:07,380] {data.py:428} INFO - Loaded googlenet.37_7.csv, 905 rows\n",
      "[2024-01-11 07:07:07,854] {data.py:428} INFO - Loaded rand_2500.41_7.csv, 973 rows\n",
      "[2024-01-11 07:07:08,374] {data.py:428} INFO - Loaded rand_4000.38_7.csv, 1080 rows\n",
      "[2024-01-11 07:07:09,416] {data.py:428} INFO - Loaded rand_2500.8_7.csv, 2289 rows\n",
      "[2024-01-11 07:07:09,860] {data.py:428} INFO - Loaded googlenet.31_7.csv, 903 rows\n",
      "[2024-01-11 07:07:10,340] {data.py:428} INFO - Loaded rand_0.24_7.csv, 991 rows\n",
      "[2024-01-11 07:07:10,712] {data.py:428} INFO - Loaded rand_6000.47_7.csv, 737 rows\n",
      "[2024-01-11 07:07:11,078] {data.py:428} INFO - Loaded rand_11500.76_7.csv, 723 rows\n",
      "[2024-01-11 07:07:11,589] {data.py:428} INFO - Loaded rand_3000.54_7.csv, 1057 rows\n",
      "[2024-01-11 07:07:12,007] {data.py:428} INFO - Loaded shufflenet_v2_x0_5.59_7.csv, 849 rows\n",
      "[2024-01-11 07:07:12,450] {data.py:428} INFO - Loaded googlenet.23_7.csv, 903 rows\n",
      "[2024-01-11 07:07:13,363] {data.py:428} INFO - Loaded rand_1000.69_7.csv, 1980 rows\n",
      "[2024-01-11 07:07:13,784] {data.py:428} INFO - Loaded shufflenet_v2_x0_5.44_7.csv, 849 rows\n",
      "[2024-01-11 07:07:13,874] {data.py:428} INFO - Loaded alexnet.58_7.csv, 91 rows\n",
      "[2024-01-11 07:07:14,260] {data.py:428} INFO - Loaded mnasnet1_3.52_7.csv, 771 rows\n",
      "[2024-01-11 07:07:14,740] {data.py:428} INFO - Loaded rand_6000.68_7.csv, 988 rows\n",
      "[2024-01-11 07:07:14,876] {data.py:428} INFO - Loaded vgg11_bn.34_7.csv, 193 rows\n",
      "[2024-01-11 07:07:16,462] {data.py:428} INFO - Loaded rand_500.27_7.csv, 1152 rows\n",
      "[2024-01-11 07:07:16,976] {data.py:428} INFO - Loaded rand_11500.96_7.csv, 1070 rows\n",
      "[2024-01-11 07:07:17,995] {data.py:428} INFO - Loaded efficientnet_b4.33_7.csv, 2234 rows\n",
      "[2024-01-11 07:07:18,474] {data.py:428} INFO - Loaded rand_6500.34_7.csv, 987 rows\n",
      "[2024-01-11 07:07:19,698] {data.py:428} INFO - Loaded efficientnet_b5.26_7.csv, 2707 rows\n",
      "[2024-01-11 07:07:20,334] {data.py:428} INFO - Loaded rand_9500.27_7.csv, 1343 rows\n",
      "[2024-01-11 07:07:20,681] {data.py:428} INFO - Loaded rand_1500.29_7.csv, 681 rows\n",
      "[2024-01-11 07:07:21,906] {data.py:428} INFO - Loaded efficientnet_b5.37_7.csv, 2709 rows\n",
      "[2024-01-11 07:07:22,929] {data.py:428} INFO - Loaded efficientnet_b4.32_7.csv, 2234 rows\n",
      "[2024-01-11 07:07:23,949] {data.py:428} INFO - Loaded efficientnet_b4.45_7.csv, 2234 rows\n",
      "[2024-01-11 07:07:25,002] {data.py:428} INFO - Loaded rand_11000.39_7.csv, 2312 rows\n",
      "[2024-01-11 07:07:26,056] {data.py:428} INFO - Loaded rand_2000.49_7.csv, 2313 rows\n",
      "[2024-01-11 07:07:26,616] {data.py:428} INFO - Loaded rand_11500.21_7.csv, 1178 rows\n",
      "[2024-01-11 07:07:27,119] {data.py:428} INFO - Loaded rand_0.9_7.csv, 1043 rows\n",
      "[2024-01-11 07:07:27,554] {data.py:428} INFO - Loaded mobilenet_v3_large.40_7.csv, 888 rows\n",
      "[2024-01-11 07:07:27,973] {data.py:428} INFO - Loaded shufflenet_v2_x0_5.34_7.csv, 847 rows\n",
      "[2024-01-11 07:07:29,135] {data.py:428} INFO - Loaded rand_1500.6_7.csv, 2565 rows\n",
      "[2024-01-11 07:07:30,313] {data.py:428} INFO - Loaded rand_1000.54_7.csv, 2602 rows\n",
      "[2024-01-11 07:07:31,214] {data.py:428} INFO - Loaded rand_500.31_7.csv, 1961 rows\n",
      "[2024-01-11 07:07:31,942] {data.py:428} INFO - Loaded rand_5500.48_7.csv, 1562 rows\n",
      "[2024-01-11 07:07:33,122] {data.py:428} INFO - Loaded rand_7000.33_7.csv, 2603 rows\n",
      "[2024-01-11 07:07:33,700] {data.py:428} INFO - Loaded rand_4500.43_7.csv, 1218 rows\n",
      "[2024-01-11 07:07:34,049] {data.py:428} INFO - Loaded rand_11500.78_7.csv, 683 rows\n",
      "[2024-01-11 07:07:34,483] {data.py:428} INFO - Loaded mobilenet_v3_large.59_7.csv, 886 rows\n",
      "[2024-01-11 07:07:34,868] {data.py:428} INFO - Loaded mnasnet1_3.20_7.csv, 769 rows\n",
      "[2024-01-11 07:07:35,381] {data.py:428} INFO - Loaded rand_0.16_7.csv, 1069 rows\n",
      "[2024-01-11 07:07:35,780] {data.py:428} INFO - Loaded rand_3000.50_7.csv, 798 rows\n",
      "[2024-01-11 07:07:36,820] {data.py:428} INFO - Loaded rand_4000.54_7.csv, 2282 rows\n",
      "[2024-01-11 07:07:37,564] {data.py:428} INFO - Loaded wide_resnet101_2.50_7.csv, 1598 rows\n",
      "[2024-01-11 07:07:37,983] {data.py:428} INFO - Loaded shufflenet_v2_x1_5.74_7.csv, 847 rows\n",
      "[2024-01-11 07:07:38,401] {data.py:428} INFO - Loaded shufflenet_v2_x0_5.55_7.csv, 849 rows\n",
      "[2024-01-11 07:07:38,788] {data.py:428} INFO - Loaded mnasnet1_3.50_7.csv, 771 rows\n",
      "[2024-01-11 07:07:39,140] {data.py:428} INFO - Loaded rand_1500.21_7.csv, 683 rows\n",
      "[2024-01-11 07:07:39,490] {data.py:428} INFO - Loaded rand_1500.10_7.csv, 680 rows\n",
      "[2024-01-11 07:07:39,664] {data.py:428} INFO - Loaded vgg16_bn.30_7.csv, 283 rows\n",
      "[2024-01-11 07:07:40,099] {data.py:428} INFO - Loaded mobilenet_v3_large.45_7.csv, 888 rows\n",
      "[2024-01-11 07:07:40,504] {data.py:428} INFO - Loaded wide_resnet50_2.33_7.csv, 816 rows\n",
      "[2024-01-11 07:07:40,937] {data.py:428} INFO - Loaded mobilenet_v3_large.24_7.csv, 884 rows\n",
      "[2024-01-11 07:07:42,252] {data.py:428} INFO - Loaded rand_4000.44_7.csv, 2910 rows\n",
      "[2024-01-11 07:07:42,981] {data.py:428} INFO - Loaded rand_4500.35_7.csv, 1562 rows\n",
      "[2024-01-11 07:07:43,401] {data.py:428} INFO - Loaded shufflenet_v2_x0_5.53_7.csv, 849 rows\n",
      "[2024-01-11 07:07:43,787] {data.py:428} INFO - Loaded mnasnet1_3.57_7.csv, 771 rows\n",
      "[2024-01-11 07:07:44,172] {data.py:428} INFO - Loaded mnasnet1_3.22_7.csv, 769 rows\n",
      "[2024-01-11 07:07:45,083] {data.py:428} INFO - Loaded rand_1000.40_7.csv, 1981 rows\n",
      "[2024-01-11 07:07:46,246] {data.py:428} INFO - Loaded rand_6000.4_7.csv, 2573 rows\n",
      "[2024-01-11 07:07:46,690] {data.py:428} INFO - Loaded googlenet.20_7.csv, 903 rows\n",
      "[2024-01-11 07:07:47,739] {data.py:428} INFO - Loaded rand_9500.12_7.csv, 2298 rows\n",
      "[2024-01-11 07:07:48,173] {data.py:428} INFO - Loaded mobilenet_v3_large.35_7.csv, 884 rows\n",
      "[2024-01-11 07:07:49,398] {data.py:428} INFO - Loaded efficientnet_b5.33_7.csv, 2709 rows\n",
      "[2024-01-11 07:07:50,302] {data.py:428} INFO - Loaded rand_0.43_7.csv, 1971 rows\n",
      "[2024-01-11 07:07:51,479] {data.py:428} INFO - Loaded rand_7500.20_7.csv, 2603 rows\n",
      "[2024-01-11 07:07:51,995] {data.py:428} INFO - Loaded rand_4000.40_7.csv, 1065 rows\n",
      "[2024-01-11 07:07:53,176] {data.py:428} INFO - Loaded rand_500.39_7.csv, 2604 rows\n",
      "[2024-01-11 07:07:54,232] {data.py:428} INFO - Loaded rand_11500.4_7.csv, 2311 rows\n",
      "[2024-01-11 07:07:54,599] {data.py:428} INFO - Loaded rand_8000.27_7.csv, 726 rows\n",
      "[2024-01-11 07:07:54,733] {data.py:428} INFO - Loaded vgg11_bn.43_7.csv, 189 rows\n",
      "[2024-01-11 07:07:54,822] {data.py:428} INFO - Loaded alexnet.24_7.csv, 89 rows\n",
      "[2024-01-11 07:07:55,567] {data.py:428} INFO - Loaded wide_resnet101_2.22_7.csv, 1598 rows\n",
      "[2024-01-11 07:07:56,795] {data.py:428} INFO - Loaded efficientnet_b5.20_7.csv, 2707 rows\n",
      "[2024-01-11 07:07:58,016] {data.py:428} INFO - Loaded efficientnet_b5.35_7.csv, 2709 rows\n",
      "[2024-01-11 07:07:58,405] {data.py:428} INFO - Loaded rand_2500.12_7.csv, 774 rows\n",
      "[2024-01-11 07:07:58,825] {data.py:428} INFO - Loaded shufflenet_v2_x0_5.38_7.csv, 849 rows\n",
      "[2024-01-11 07:07:58,958] {data.py:428} INFO - Loaded vgg11_bn.37_7.csv, 189 rows\n",
      "[2024-01-11 07:07:59,974] {data.py:428} INFO - Loaded efficientnet_b4.49_7.csv, 2234 rows\n",
      "[2024-01-11 07:08:00,361] {data.py:428} INFO - Loaded mnasnet1_3.61_7.csv, 771 rows\n",
      "[2024-01-11 07:08:00,747] {data.py:428} INFO - Loaded mnasnet0_5.68_7.csv, 771 rows\n",
      "[2024-01-11 07:08:01,181] {data.py:428} INFO - Loaded mobilenet_v3_large.30_7.csv, 884 rows\n",
      "[2024-01-11 07:08:01,587] {data.py:428} INFO - Loaded wide_resnet50_2.58_7.csv, 818 rows\n",
      "[2024-01-11 07:08:01,972] {data.py:428} INFO - Loaded mnasnet1_3.32_7.csv, 769 rows\n",
      "[2024-01-11 07:08:03,030] {data.py:428} INFO - Loaded rand_8000.58_7.csv, 2317 rows\n",
      "[2024-01-11 07:08:03,398] {data.py:428} INFO - Loaded rand_4500.53_7.csv, 724 rows\n",
      "[2024-01-11 07:08:03,770] {data.py:428} INFO - Loaded rand_1000.81_7.csv, 734 rows\n",
      "[2024-01-11 07:08:04,330] {data.py:428} INFO - Loaded rand_8500.81_7.csv, 1168 rows\n",
      "[2024-01-11 07:08:04,768] {data.py:428} INFO - Loaded mobilenet_v3_large.51_7.csv, 888 rows\n",
      "[2024-01-11 07:08:05,204] {data.py:428} INFO - Loaded mobilenet_v3_large.64_7.csv, 886 rows\n",
      "[2024-01-11 07:08:05,789] {data.py:428} INFO - Loaded rand_10000.42_7.csv, 1233 rows\n",
      "[2024-01-11 07:08:06,167] {data.py:428} INFO - Loaded rand_9500.47_7.csv, 750 rows\n",
      "[2024-01-11 07:08:06,575] {data.py:428} INFO - Loaded wide_resnet50_2.39_7.csv, 818 rows\n",
      "[2024-01-11 07:08:06,719] {data.py:428} INFO - Loaded vgg19.25_7.csv, 203 rows\n",
      "[2024-01-11 07:08:07,109] {data.py:428} INFO - Loaded mnasnet0_5.24_7.csv, 769 rows\n",
      "[2024-01-11 07:08:07,982] {data.py:428} INFO - Loaded densenet121.24_7.csv, 1887 rows\n",
      "[2024-01-11 07:08:08,600] {data.py:428} INFO - Loaded rand_9500.31_7.csv, 1304 rows\n",
      "[2024-01-11 07:08:08,734] {data.py:428} INFO - Loaded vgg11_bn.17_7.csv, 187 rows\n",
      "[2024-01-11 07:08:09,155] {data.py:428} INFO - Loaded shufflenet_v2_x1_5.51_7.csv, 849 rows\n",
      "[2024-01-11 07:08:09,504] {data.py:428} INFO - Loaded rand_4000.18_7.csv, 681 rows\n",
      "[2024-01-11 07:08:10,012] {data.py:428} INFO - Loaded rand_4500.69_7.csv, 1048 rows\n",
      "[2024-01-11 07:08:11,067] {data.py:428} INFO - Loaded rand_3000.37_7.csv, 2297 rows\n",
      "[2024-01-11 07:08:11,681] {data.py:428} INFO - Loaded rand_0.70_7.csv, 1299 rows\n",
      "[2024-01-11 07:08:12,196] {data.py:428} INFO - Loaded rand_4500.68_7.csv, 1061 rows\n",
      "[2024-01-11 07:08:12,545] {data.py:428} INFO - Loaded rand_8500.34_7.csv, 683 rows\n",
      "[2024-01-11 07:08:13,278] {data.py:428} INFO - Loaded rand_5500.17_7.csv, 1568 rows\n",
      "[2024-01-11 07:08:13,664] {data.py:428} INFO - Loaded mnasnet1_3.66_7.csv, 771 rows\n",
      "[2024-01-11 07:08:14,036] {data.py:428} INFO - Loaded rand_2000.65_7.csv, 735 rows\n",
      "[2024-01-11 07:08:14,519] {data.py:428} INFO - Loaded rand_3500.65_7.csv, 990 rows\n",
      "[2024-01-11 07:08:15,414] {data.py:428} INFO - Loaded rand_11000.20_7.csv, 1953 rows\n",
      "[2024-01-11 07:08:16,593] {data.py:428} INFO - Loaded rand_6500.25_7.csv, 2603 rows\n",
      "[2024-01-11 07:08:16,685] {data.py:428} INFO - Loaded alexnet.30_7.csv, 95 rows\n",
      "[2024-01-11 07:08:17,428] {data.py:428} INFO - Loaded wide_resnet101_2.27_7.csv, 1598 rows\n",
      "[2024-01-11 07:08:17,846] {data.py:428} INFO - Loaded shufflenet_v2_x1_5.71_7.csv, 847 rows\n",
      "[2024-01-11 07:08:18,231] {data.py:428} INFO - Loaded mnasnet0_5.73_7.csv, 769 rows\n",
      "[2024-01-11 07:08:19,287] {data.py:428} INFO - Loaded rand_6500.54_7.csv, 2313 rows\n",
      "[2024-01-11 07:08:19,461] {data.py:428} INFO - Loaded vgg16_bn.32_7.csv, 283 rows\n",
      "[2024-01-11 07:08:20,640] {data.py:428} INFO - Loaded rand_500.81_7.csv, 2606 rows\n",
      "[2024-01-11 07:08:21,382] {data.py:428} INFO - Loaded wide_resnet101_2.35_7.csv, 1600 rows\n",
      "[2024-01-11 07:08:22,432] {data.py:428} INFO - Loaded rand_9500.5_7.csv, 2298 rows\n",
      "[2024-01-11 07:08:22,817] {data.py:428} INFO - Loaded mnasnet0_5.41_7.csv, 771 rows\n",
      "[2024-01-11 07:08:23,234] {data.py:428} INFO - Loaded shufflenet_v2_x1_5.30_7.csv, 847 rows\n",
      "[2024-01-11 07:08:24,412] {data.py:428} INFO - Loaded rand_11000.79_7.csv, 2604 rows\n",
      "[2024-01-11 07:08:25,279] {data.py:428} INFO - Loaded densenet121.47_7.csv, 1889 rows\n",
      "[2024-01-11 07:08:26,502] {data.py:428} INFO - Loaded efficientnet_b5.45_7.csv, 2709 rows\n",
      "[2024-01-11 07:08:26,975] {data.py:428} INFO - Loaded rand_1500.46_7.csv, 971 rows\n",
      "[2024-01-11 07:08:27,705] {data.py:428} INFO - Loaded rand_9000.15_7.csv, 1567 rows\n",
      "[2024-01-11 07:08:28,179] {data.py:428} INFO - Loaded rand_1000.26_7.csv, 972 rows\n",
      "[2024-01-11 07:08:29,231] {data.py:428} INFO - Loaded rand_1500.20_7.csv, 2313 rows\n",
      "[2024-01-11 07:08:29,364] {data.py:428} INFO - Loaded vgg11_bn.28_7.csv, 187 rows\n",
      "[2024-01-11 07:08:29,982] {data.py:428} INFO - Loaded rand_9500.69_7.csv, 1303 rows\n",
      "[2024-01-11 07:08:31,658] {data.py:428} INFO - Loaded rand_4000.14_7.csv, 736 rows\n",
      "[2024-01-11 07:08:32,705] {data.py:428} INFO - Loaded rand_5500.2_7.csv, 2292 rows\n",
      "[2024-01-11 07:08:33,573] {data.py:428} INFO - Loaded densenet121.29_7.csv, 1887 rows\n",
      "[2024-01-11 07:08:34,055] {data.py:428} INFO - Loaded rand_9500.59_7.csv, 989 rows\n",
      "[2024-01-11 07:08:34,499] {data.py:428} INFO - Loaded googlenet.24_7.csv, 903 rows\n",
      "[2024-01-11 07:08:34,933] {data.py:428} INFO - Loaded mobilenet_v3_large.29_7.csv, 884 rows\n",
      "[2024-01-11 07:08:35,984] {data.py:428} INFO - Loaded rand_9000.70_7.csv, 2308 rows\n",
      "[2024-01-11 07:08:37,032] {data.py:428} INFO - Loaded rand_4000.66_7.csv, 2297 rows\n",
      "[2024-01-11 07:08:37,467] {data.py:428} INFO - Loaded mobilenet_v3_large.58_7.csv, 886 rows\n",
      "[2024-01-11 07:08:37,989] {data.py:428} INFO - Loaded rand_8500.29_7.csv, 1080 rows\n",
      "[2024-01-11 07:08:39,168] {data.py:428} INFO - Loaded rand_11000.68_7.csv, 2607 rows\n",
      "[2024-01-11 07:08:39,726] {data.py:428} INFO - Loaded rand_7000.42_7.csv, 1165 rows\n",
      "[2024-01-11 07:08:40,908] {data.py:428} INFO - Loaded rand_3500.29_7.csv, 2603 rows\n",
      "[2024-01-11 07:08:41,639] {data.py:428} INFO - Loaded rand_500.47_7.csv, 1565 rows\n",
      "[2024-01-11 07:08:42,009] {data.py:428} INFO - Loaded rand_0.59_7.csv, 737 rows\n",
      "[2024-01-11 07:08:43,025] {data.py:428} INFO - Loaded efficientnet_b4.30_7.csv, 2232 rows\n",
      "[2024-01-11 07:08:43,896] {data.py:428} INFO - Loaded densenet121.37_7.csv, 1889 rows\n",
      "[2024-01-11 07:08:44,405] {data.py:428} INFO - Loaded rand_2000.10_7.csv, 1050 rows\n",
      "[2024-01-11 07:08:44,929] {data.py:428} INFO - Loaded rand_8000.1_7.csv, 1092 rows\n",
      "[2024-01-11 07:08:45,316] {data.py:428} INFO - Loaded mnasnet0_5.64_7.csv, 771 rows\n",
      "[2024-01-11 07:08:45,896] {data.py:428} INFO - Loaded rand_4500.59_7.csv, 1216 rows\n",
      "[2024-01-11 07:08:46,379] {data.py:428} INFO - Loaded rand_8500.24_7.csv, 989 rows\n",
      "[2024-01-11 07:08:47,562] {data.py:428} INFO - Loaded rand_2000.69_7.csv, 2607 rows\n",
      "[2024-01-11 07:08:47,948] {data.py:428} INFO - Loaded mnasnet1_3.59_7.csv, 771 rows\n",
      "[2024-01-11 07:08:49,169] {data.py:428} INFO - Loaded efficientnet_b5.21_7.csv, 2707 rows\n",
      "[2024-01-11 07:08:49,675] {data.py:428} INFO - Loaded rand_4500.10_7.csv, 1045 rows\n",
      "[2024-01-11 07:08:50,181] {data.py:428} INFO - Loaded rand_11500.70_7.csv, 1048 rows\n",
      "[2024-01-11 07:08:51,230] {data.py:428} INFO - Loaded rand_3000.64_7.csv, 2292 rows\n",
      "[2024-01-11 07:08:51,749] {data.py:428} INFO - Loaded rand_7500.43_7.csv, 1068 rows\n",
      "[2024-01-11 07:08:52,136] {data.py:428} INFO - Loaded mnasnet0_5.35_7.csv, 769 rows\n",
      "[2024-01-11 07:08:53,435] {data.py:428} INFO - Loaded rand_8000.21_7.csv, 2868 rows\n",
      "[2024-01-11 07:08:53,954] {data.py:428} INFO - Loaded rand_8000.66_7.csv, 1070 rows\n",
      "[2024-01-11 07:08:54,979] {data.py:428} INFO - Loaded efficientnet_b4.52_7.csv, 2234 rows\n",
      "[2024-01-11 07:08:55,567] {data.py:428} INFO - Loaded rand_4500.66_7.csv, 1225 rows\n",
      "[2024-01-11 07:08:56,736] {data.py:428} INFO - Loaded rand_6000.8_7.csv, 2583 rows\n",
      "[2024-01-11 07:08:57,171] {data.py:428} INFO - Loaded mobilenet_v3_large.26_7.csv, 884 rows\n",
      "[2024-01-11 07:08:57,260] {data.py:428} INFO - Loaded alexnet.18_7.csv, 89 rows\n",
      "[2024-01-11 07:08:57,696] {data.py:428} INFO - Loaded mobilenet_v3_large.70_7.csv, 886 rows\n",
      "[2024-01-11 07:08:58,278] {data.py:428} INFO - Loaded rand_3500.17_7.csv, 1221 rows\n",
      "[2024-01-11 07:08:58,664] {data.py:428} INFO - Loaded mnasnet0_5.54_7.csv, 771 rows\n",
      "[2024-01-11 07:08:58,753] {data.py:428} INFO - Loaded alexnet.16_7.csv, 89 rows\n",
      "[2024-01-11 07:08:58,926] {data.py:428} INFO - Loaded vgg16_bn.34_7.csv, 279 rows\n",
      "[2024-01-11 07:08:59,313] {data.py:428} INFO - Loaded mnasnet0_5.49_7.csv, 771 rows\n",
      "[2024-01-11 07:08:59,757] {data.py:428} INFO - Loaded googlenet.26_7.csv, 903 rows\n",
      "[2024-01-11 07:09:00,105] {data.py:428} INFO - Loaded rand_1500.59_7.csv, 681 rows\n",
      "[2024-01-11 07:09:00,527] {data.py:428} INFO - Loaded shufflenet_v2_x1_5.43_7.csv, 849 rows\n",
      "[2024-01-11 07:09:00,925] {data.py:428} INFO - Loaded rand_9500.66_7.csv, 795 rows\n",
      "[2024-01-11 07:09:01,057] {data.py:428} INFO - Loaded vgg11_bn.24_7.csv, 187 rows\n",
      "[2024-01-11 07:09:01,148] {data.py:428} INFO - Loaded alexnet.40_7.csv, 91 rows\n",
      "[2024-01-11 07:09:01,515] {data.py:428} INFO - Loaded rand_5000.63_7.csv, 725 rows\n",
      "[2024-01-11 07:09:02,428] {data.py:428} INFO - Loaded rand_500.66_7.csv, 1990 rows\n",
      "[2024-01-11 07:09:03,073] {data.py:428} INFO - Loaded rand_7000.15_7.csv, 1367 rows\n",
      "[2024-01-11 07:09:04,118] {data.py:428} INFO - Loaded rand_4500.33_7.csv, 2292 rows\n",
      "[2024-01-11 07:09:04,851] {data.py:428} INFO - Loaded rand_5000.25_7.csv, 1565 rows\n",
      "[2024-01-11 07:09:05,582] {data.py:428} INFO - Loaded rand_2000.32_7.csv, 1563 rows\n",
      "[2024-01-11 07:09:06,157] {data.py:428} INFO - Loaded rand_6000.71_7.csv, 1208 rows\n",
      "[2024-01-11 07:09:06,779] {data.py:428} INFO - Loaded rand_6000.26_7.csv, 1314 rows\n",
      "[2024-01-11 07:09:07,186] {data.py:428} INFO - Loaded wide_resnet50_2.44_7.csv, 818 rows\n",
      "[2024-01-11 07:09:08,204] {data.py:428} INFO - Loaded efficientnet_b4.29_7.csv, 2232 rows\n",
      "[2024-01-11 07:09:08,552] {data.py:428} INFO - Loaded rand_1500.60_7.csv, 679 rows\n",
      "[2024-01-11 07:09:09,421] {data.py:428} INFO - Loaded densenet121.30_7.csv, 1889 rows\n",
      "[2024-01-11 07:09:10,476] {data.py:428} INFO - Loaded rand_500.20_7.csv, 2312 rows\n",
      "[2024-01-11 07:09:10,911] {data.py:428} INFO - Loaded mobilenet_v3_large.61_7.csv, 886 rows\n",
      "[2024-01-11 07:09:11,511] {data.py:428} INFO - Loaded rand_11500.71_7.csv, 1268 rows\n",
      "[2024-01-11 07:09:12,420] {data.py:428} INFO - Loaded rand_6500.9_7.csv, 1985 rows\n",
      "[2024-01-11 07:09:12,562] {data.py:428} INFO - Loaded vgg19.34_7.csv, 209 rows\n",
      "[2024-01-11 07:09:13,884] {data.py:428} INFO - Loaded rand_7000.13_7.csv, 2931 rows\n",
      "[2024-01-11 07:09:14,394] {data.py:428} INFO - Loaded rand_11500.73_7.csv, 1057 rows\n",
      "[2024-01-11 07:09:14,904] {data.py:428} INFO - Loaded rand_9000.33_7.csv, 1056 rows\n",
      "[2024-01-11 07:09:16,088] {data.py:428} INFO - Loaded rand_4000.7_7.csv, 2609 rows\n",
      "[2024-01-11 07:09:16,455] {data.py:428} INFO - Loaded rand_8500.7_7.csv, 729 rows\n",
      "[2024-01-11 07:09:17,501] {data.py:428} INFO - Loaded rand_1000.2_7.csv, 2297 rows\n",
      "[2024-01-11 07:09:18,822] {data.py:428} INFO - Loaded rand_4500.72_7.csv, 2928 rows\n",
      "[2024-01-11 07:09:19,197] {data.py:428} INFO - Loaded rand_5000.59_7.csv, 743 rows\n",
      "[2024-01-11 07:09:20,240] {data.py:428} INFO - Loaded rand_6500.74_7.csv, 2286 rows\n",
      "[2024-01-11 07:09:20,983] {data.py:428} INFO - Loaded wide_resnet101_2.29_7.csv, 1598 rows\n",
      "[2024-01-11 07:09:21,401] {data.py:428} INFO - Loaded shufflenet_v2_x1_5.48_7.csv, 849 rows\n",
      "[2024-01-11 07:09:21,490] {data.py:428} INFO - Loaded alexnet.19_7.csv, 89 rows\n",
      "[2024-01-11 07:09:22,006] {data.py:428} INFO - Loaded rand_6500.5_7.csv, 1071 rows\n",
      "[2024-01-11 07:09:22,480] {data.py:428} INFO - Loaded rand_4500.39_7.csv, 974 rows\n",
      "[2024-01-11 07:09:22,952] {data.py:428} INFO - Loaded rand_1500.44_7.csv, 970 rows\n",
      "[2024-01-11 07:09:23,824] {data.py:428} INFO - Loaded densenet121.25_7.csv, 1887 rows\n",
      "[2024-01-11 07:09:24,243] {data.py:428} INFO - Loaded shufflenet_v2_x0_5.47_7.csv, 849 rows\n",
      "[2024-01-11 07:09:24,648] {data.py:428} INFO - Loaded wide_resnet50_2.22_7.csv, 816 rows\n",
      "[2024-01-11 07:09:25,392] {data.py:428} INFO - Loaded wide_resnet101_2.43_7.csv, 1600 rows\n",
      "[2024-01-11 07:09:26,552] {data.py:428} INFO - Loaded rand_7500.14_7.csv, 2566 rows\n",
      "[2024-01-11 07:09:26,684] {data.py:428} INFO - Loaded vgg11_bn.19_7.csv, 187 rows\n",
      "[2024-01-11 07:09:27,193] {data.py:428} INFO - Loaded rand_8500.12_7.csv, 1055 rows\n",
      "[2024-01-11 07:09:28,212] {data.py:428} INFO - Loaded efficientnet_b4.34_7.csv, 2234 rows\n",
      "[2024-01-11 07:09:28,794] {data.py:428} INFO - Loaded rand_11500.92_7.csv, 1222 rows\n",
      "[2024-01-11 07:09:28,965] {data.py:428} INFO - Loaded vgg16_bn.25_7.csv, 277 rows\n",
      "[2024-01-11 07:09:29,054] {data.py:428} INFO - Loaded alexnet.25_7.csv, 89 rows\n",
      "[2024-01-11 07:09:30,236] {data.py:428} INFO - Loaded rand_3000.56_7.csv, 2606 rows\n",
      "[2024-01-11 07:09:30,375] {data.py:428} INFO - Loaded vgg19.29_7.csv, 203 rows\n",
      "[2024-01-11 07:09:31,002] {data.py:428} INFO - Loaded rand_4000.28_7.csv, 1320 rows\n",
      "[2024-01-11 07:09:31,174] {data.py:428} INFO - Loaded vgg16_bn.24_7.csv, 277 rows\n",
      "[2024-01-11 07:09:31,559] {data.py:428} INFO - Loaded mnasnet1_3.44_7.csv, 771 rows\n",
      "[2024-01-11 07:09:32,608] {data.py:428} INFO - Loaded rand_8500.70_7.csv, 2299 rows\n",
      "[2024-01-11 07:09:32,698] {data.py:428} INFO - Loaded alexnet.27_7.csv, 89 rows\n",
      "[2024-01-11 07:09:33,720] {data.py:428} INFO - Loaded efficientnet_b4.46_7.csv, 2234 rows\n",
      "[2024-01-11 07:09:34,737] {data.py:428} INFO - Loaded efficientnet_b4.19_7.csv, 2232 rows\n",
      "[2024-01-11 07:09:35,466] {data.py:428} INFO - Loaded rand_4500.41_7.csv, 1562 rows\n",
      "[2024-01-11 07:09:35,556] {data.py:428} INFO - Loaded alexnet.50_7.csv, 91 rows\n",
      "[2024-01-11 07:09:35,964] {data.py:428} INFO - Loaded wide_resnet50_2.37_7.csv, 818 rows\n",
      "[2024-01-11 07:09:36,382] {data.py:428} INFO - Loaded shufflenet_v2_x1_5.49_7.csv, 849 rows\n",
      "[2024-01-11 07:09:36,787] {data.py:428} INFO - Loaded wide_resnet50_2.30_7.csv, 816 rows\n",
      "[2024-01-11 07:09:37,803] {data.py:428} INFO - Loaded efficientnet_b4.23_7.csv, 2232 rows\n",
      "[2024-01-11 07:09:38,224] {data.py:428} INFO - Loaded shufflenet_v2_x0_5.61_7.csv, 849 rows\n",
      "[2024-01-11 07:09:39,275] {data.py:428} INFO - Loaded rand_7500.22_7.csv, 2296 rows\n",
      "[2024-01-11 07:09:39,793] {data.py:428} INFO - Loaded rand_11000.29_7.csv, 1077 rows\n",
      "[2024-01-11 07:09:41,089] {data.py:428} INFO - Loaded rand_9500.76_7.csv, 2861 rows\n",
      "[2024-01-11 07:09:41,181] {data.py:428} INFO - Loaded alexnet.34_7.csv, 95 rows\n",
      "[2024-01-11 07:09:42,222] {data.py:428} INFO - Loaded rand_6500.26_7.csv, 2284 rows\n",
      "[2024-01-11 07:09:42,656] {data.py:428} INFO - Loaded mobilenet_v3_large.20_7.csv, 884 rows\n",
      "[2024-01-11 07:09:43,006] {data.py:428} INFO - Loaded rand_1000.51_7.csv, 682 rows\n",
      "[2024-01-11 07:09:43,424] {data.py:428} INFO - Loaded shufflenet_v2_x0_5.20_7.csv, 847 rows\n",
      "[2024-01-11 07:09:43,842] {data.py:428} INFO - Loaded shufflenet_v2_x0_5.73_7.csv, 849 rows\n",
      "[2024-01-11 07:09:44,894] {data.py:428} INFO - Loaded rand_2000.57_7.csv, 2314 rows\n",
      "[2024-01-11 07:09:45,370] {data.py:428} INFO - Loaded rand_2500.35_7.csv, 974 rows\n",
      "[2024-01-11 07:09:46,592] {data.py:428} INFO - Loaded efficientnet_b5.36_7.csv, 2709 rows\n",
      "[2024-01-11 07:09:47,495] {data.py:428} INFO - Loaded rand_1000.46_7.csv, 1964 rows\n",
      "[2024-01-11 07:09:47,915] {data.py:428} INFO - Loaded shufflenet_v2_x1_5.29_7.csv, 847 rows\n",
      "[2024-01-11 07:09:48,301] {data.py:428} INFO - Loaded mnasnet0_5.43_7.csv, 771 rows\n",
      "[2024-01-11 07:09:48,685] {data.py:428} INFO - Loaded mnasnet0_5.25_7.csv, 769 rows\n",
      "[2024-01-11 07:09:49,091] {data.py:428} INFO - Loaded wide_resnet50_2.38_7.csv, 818 rows\n",
      "[2024-01-11 07:09:49,612] {data.py:428} INFO - Loaded rand_6500.40_7.csv, 1084 rows\n",
      "[2024-01-11 07:09:50,030] {data.py:428} INFO - Loaded shufflenet_v2_x0_5.30_7.csv, 847 rows\n",
      "[2024-01-11 07:09:50,759] {data.py:428} INFO - Loaded rand_8000.70_7.csv, 1561 rows\n",
      "[2024-01-11 07:09:51,240] {data.py:428} INFO - Loaded rand_500.48_7.csv, 992 rows\n",
      "[2024-01-11 07:09:51,724] {data.py:428} INFO - Loaded rand_7500.16_7.csv, 988 rows\n",
      "[2024-01-11 07:09:52,627] {data.py:428} INFO - Loaded rand_5500.60_7.csv, 1964 rows\n",
      "[2024-01-11 07:09:52,801] {data.py:428} INFO - Loaded vgg16_bn.31_7.csv, 283 rows\n",
      "[2024-01-11 07:09:53,532] {data.py:428} INFO - Loaded rand_4000.64_7.csv, 1563 rows\n",
      "[2024-01-11 07:09:54,437] {data.py:428} INFO - Loaded rand_500.41_7.csv, 1969 rows\n",
      "[2024-01-11 07:09:54,822] {data.py:428} INFO - Loaded mnasnet1_3.38_7.csv, 771 rows\n",
      "[2024-01-11 07:09:54,963] {data.py:428} INFO - Loaded vgg19.30_7.csv, 209 rows\n",
      "[2024-01-11 07:09:55,870] {data.py:428} INFO - Loaded rand_8500.73_7.csv, 1976 rows\n",
      "[2024-01-11 07:09:56,921] {data.py:428} INFO - Loaded rand_10000.39_7.csv, 2314 rows\n",
      "[2024-01-11 07:09:57,966] {data.py:428} INFO - Loaded rand_0.77_7.csv, 2305 rows\n",
      "[2024-01-11 07:09:58,356] {data.py:428} INFO - Loaded mnasnet0_5.40_7.csv, 771 rows\n",
      "[2024-01-11 07:09:59,580] {data.py:428} INFO - Loaded efficientnet_b5.18_7.csv, 2707 rows\n",
      "[2024-01-11 07:10:00,626] {data.py:428} INFO - Loaded rand_6000.49_7.csv, 2296 rows\n",
      "[2024-01-11 07:10:01,680] {data.py:428} INFO - Loaded rand_11000.11_7.csv, 2320 rows\n",
      "[2024-01-11 07:10:02,152] {data.py:428} INFO - Loaded rand_2500.46_7.csv, 970 rows\n",
      "[2024-01-11 07:10:03,199] {data.py:428} INFO - Loaded rand_2500.42_7.csv, 2298 rows\n",
      "[2024-01-11 07:10:05,919] {data.py:428} INFO - Loaded rand_0.36_7.csv, 2283 rows\n",
      "[2024-01-11 07:10:06,339] {data.py:428} INFO - Loaded shufflenet_v2_x0_5.58_7.csv, 849 rows\n",
      "[2024-01-11 07:10:06,818] {data.py:428} INFO - Loaded rand_6000.6_7.csv, 988 rows\n",
      "[2024-01-11 07:10:07,205] {data.py:428} INFO - Loaded mnasnet0_5.61_7.csv, 771 rows\n",
      "[2024-01-11 07:10:08,107] {data.py:428} INFO - Loaded rand_4500.13_7.csv, 1968 rows\n",
      "[2024-01-11 07:10:09,127] {data.py:428} INFO - Loaded efficientnet_b4.48_7.csv, 2232 rows\n",
      "[2024-01-11 07:10:09,868] {data.py:428} INFO - Loaded wide_resnet101_2.47_7.csv, 1600 rows\n",
      "[2024-01-11 07:10:10,351] {data.py:428} INFO - Loaded rand_1500.27_7.csv, 989 rows\n",
      "[2024-01-11 07:10:10,772] {data.py:428} INFO - Loaded shufflenet_v2_x1_5.42_7.csv, 849 rows\n",
      "[2024-01-11 07:10:11,282] {data.py:428} INFO - Loaded rand_5500.35_7.csv, 1056 rows\n",
      "[2024-01-11 07:10:12,336] {data.py:428} INFO - Loaded rand_6500.69_7.csv, 2301 rows\n",
      "[2024-01-11 07:10:12,721] {data.py:428} INFO - Loaded mnasnet0_5.32_7.csv, 769 rows\n",
      "[2024-01-11 07:10:13,301] {data.py:428} INFO - Loaded rand_7500.73_7.csv, 1216 rows\n",
      "[2024-01-11 07:10:14,324] {data.py:428} INFO - Loaded efficientnet_b4.39_7.csv, 2234 rows\n",
      "[2024-01-11 07:10:14,743] {data.py:428} INFO - Loaded shufflenet_v2_x1_5.67_7.csv, 849 rows\n",
      "[2024-01-11 07:10:15,148] {data.py:428} INFO - Loaded wide_resnet50_2.53_7.csv, 818 rows\n",
      "[2024-01-11 07:10:16,198] {data.py:428} INFO - Loaded rand_8000.57_7.csv, 2301 rows\n",
      "[2024-01-11 07:10:16,337] {data.py:428} INFO - Loaded vgg19.27_7.csv, 203 rows\n",
      "[2024-01-11 07:10:16,754] {data.py:428} INFO - Loaded shufflenet_v2_x0_5.32_7.csv, 847 rows\n",
      "[2024-01-11 07:10:17,161] {data.py:428} INFO - Loaded rand_2000.34_7.csv, 816 rows\n",
      "[2024-01-11 07:10:17,643] {data.py:428} INFO - Loaded rand_7000.55_7.csv, 990 rows\n",
      "[2024-01-11 07:10:18,564] {data.py:428} INFO - Loaded rand_6000.20_7.csv, 1997 rows\n",
      "[2024-01-11 07:10:19,118] {data.py:428} INFO - Loaded rand_6000.37_7.csv, 1161 rows\n",
      "[2024-01-11 07:10:20,162] {data.py:428} INFO - Loaded rand_11000.41_7.csv, 2296 rows\n",
      "[2024-01-11 07:10:20,531] {data.py:428} INFO - Loaded rand_9000.27_7.csv, 730 rows\n",
      "[2024-01-11 07:10:21,107] {data.py:428} INFO - Loaded rand_0.83_7.csv, 1209 rows\n",
      "[2024-01-11 07:10:21,523] {data.py:428} INFO - Loaded shufflenet_v2_x1_5.21_7.csv, 847 rows\n",
      "[2024-01-11 07:10:22,102] {data.py:428} INFO - Loaded rand_1000.49_7.csv, 1211 rows\n",
      "[2024-01-11 07:10:22,487] {data.py:428} INFO - Loaded mnasnet1_3.54_7.csv, 771 rows\n",
      "[2024-01-11 07:10:23,501] {data.py:428} INFO - Loaded efficientnet_b4.43_7.csv, 2234 rows\n",
      "[2024-01-11 07:10:24,681] {data.py:428} INFO - Loaded rand_9000.56_7.csv, 2606 rows\n",
      "[2024-01-11 07:10:25,704] {data.py:428} INFO - Loaded efficientnet_b4.26_7.csv, 2232 rows\n",
      "[2024-01-11 07:10:26,574] {data.py:428} INFO - Loaded densenet121.28_7.csv, 1887 rows\n",
      "[2024-01-11 07:10:27,727] {data.py:428} INFO - Loaded rand_2000.5_7.csv, 2543 rows\n",
      "[2024-01-11 07:10:28,366] {data.py:428} INFO - Loaded rand_5500.43_7.csv, 1350 rows\n",
      "[2024-01-11 07:10:28,786] {data.py:428} INFO - Loaded shufflenet_v2_x0_5.26_7.csv, 847 rows\n",
      "[2024-01-11 07:10:29,171] {data.py:428} INFO - Loaded mnasnet0_5.44_7.csv, 771 rows\n",
      "[2024-01-11 07:10:29,520] {data.py:428} INFO - Loaded rand_8500.23_7.csv, 680 rows\n",
      "[2024-01-11 07:10:30,418] {data.py:428} INFO - Loaded rand_1000.37_7.csv, 1945 rows\n",
      "[2024-01-11 07:10:31,472] {data.py:428} INFO - Loaded rand_4000.56_7.csv, 2309 rows\n",
      "[2024-01-11 07:10:31,862] {data.py:428} INFO - Loaded mnasnet1_3.56_7.csv, 771 rows\n",
      "[2024-01-11 07:10:32,281] {data.py:428} INFO - Loaded shufflenet_v2_x0_5.64_7.csv, 849 rows\n",
      "[2024-01-11 07:10:32,667] {data.py:428} INFO - Loaded mnasnet1_3.53_7.csv, 771 rows\n",
      "[2024-01-11 07:10:33,052] {data.py:428} INFO - Loaded mnasnet1_3.58_7.csv, 771 rows\n",
      "[2024-01-11 07:10:33,564] {data.py:428} INFO - Loaded rand_6000.15_7.csv, 1063 rows\n",
      "[2024-01-11 07:10:34,073] {data.py:428} INFO - Loaded rand_6000.9_7.csv, 1057 rows\n",
      "[2024-01-11 07:10:34,491] {data.py:428} INFO - Loaded shufflenet_v2_x0_5.43_7.csv, 849 rows\n",
      "[2024-01-11 07:10:34,840] {data.py:428} INFO - Loaded rand_6000.42_7.csv, 680 rows\n",
      "[2024-01-11 07:10:35,744] {data.py:428} INFO - Loaded rand_4500.25_7.csv, 1967 rows\n",
      "[2024-01-11 07:10:36,129] {data.py:428} INFO - Loaded mnasnet1_3.51_7.csv, 771 rows\n",
      "[2024-01-11 07:10:36,218] {data.py:428} INFO - Loaded alexnet.15_7.csv, 89 rows\n",
      "[2024-01-11 07:10:36,662] {data.py:428} INFO - Loaded googlenet.56_7.csv, 905 rows\n",
      "[2024-01-11 07:10:37,841] {data.py:428} INFO - Loaded rand_0.2_7.csv, 2603 rows\n",
      "[2024-01-11 07:10:39,023] {data.py:428} INFO - Loaded rand_2000.56_7.csv, 2602 rows\n",
      "[2024-01-11 07:10:39,113] {data.py:428} INFO - Loaded alexnet.57_7.csv, 89 rows\n",
      "[2024-01-11 07:10:39,632] {data.py:428} INFO - Loaded rand_7500.10_7.csv, 1079 rows\n",
      "[2024-01-11 07:10:40,692] {data.py:428} INFO - Loaded rand_11500.51_7.csv, 2334 rows\n",
      "[2024-01-11 07:10:41,109] {data.py:428} INFO - Loaded shufflenet_v2_x0_5.21_7.csv, 847 rows\n",
      "[2024-01-11 07:10:41,526] {data.py:428} INFO - Loaded shufflenet_v2_x0_5.66_7.csv, 849 rows\n",
      "[2024-01-11 07:10:42,092] {data.py:428} INFO - Loaded rand_7500.49_7.csv, 1186 rows\n",
      "[2024-01-11 07:10:43,271] {data.py:428} INFO - Loaded rand_6000.70_7.csv, 2607 rows\n",
      "[2024-01-11 07:10:43,690] {data.py:428} INFO - Loaded shufflenet_v2_x0_5.42_7.csv, 849 rows\n",
      "[2024-01-11 07:10:44,206] {data.py:428} INFO - Loaded rand_8500.52_7.csv, 1068 rows\n",
      "[2024-01-11 07:10:45,107] {data.py:428} INFO - Loaded rand_11500.15_7.csv, 1963 rows\n",
      "[2024-01-11 07:10:45,550] {data.py:428} INFO - Loaded googlenet.22_7.csv, 903 rows\n",
      "[2024-01-11 07:10:46,099] {data.py:428} INFO - Loaded rand_8000.9_7.csv, 1152 rows\n",
      "[2024-01-11 07:10:46,572] {data.py:428} INFO - Loaded rand_5500.18_7.csv, 972 rows\n",
      "[2024-01-11 07:10:47,006] {data.py:428} INFO - Loaded mobilenet_v3_large.41_7.csv, 888 rows\n",
      "[2024-01-11 07:10:47,374] {data.py:428} INFO - Loaded rand_11000.14_7.csv, 731 rows\n",
      "[2024-01-11 07:10:47,808] {data.py:428} INFO - Loaded mobilenet_v3_large.68_7.csv, 884 rows\n",
      "[2024-01-11 07:10:48,286] {data.py:428} INFO - Loaded rand_7000.2_7.csv, 989 rows\n",
      "[2024-01-11 07:10:48,704] {data.py:428} INFO - Loaded shufflenet_v2_x0_5.68_7.csv, 849 rows\n",
      "[2024-01-11 07:10:49,219] {data.py:428} INFO - Loaded rand_5500.63_7.csv, 1067 rows\n",
      "[2024-01-11 07:10:49,566] {data.py:428} INFO - Loaded rand_8500.21_7.csv, 681 rows\n",
      "[2024-01-11 07:10:49,656] {data.py:428} INFO - Loaded alexnet.53_7.csv, 91 rows\n",
      "[2024-01-11 07:10:49,747] {data.py:428} INFO - Loaded alexnet.36_7.csv, 91 rows\n",
      "[2024-01-11 07:10:50,220] {data.py:428} INFO - Loaded rand_9000.6_7.csv, 972 rows\n",
      "[2024-01-11 07:10:51,237] {data.py:428} INFO - Loaded efficientnet_b4.27_7.csv, 2232 rows\n",
      "[2024-01-11 07:10:51,371] {data.py:428} INFO - Loaded vgg11_bn.40_7.csv, 189 rows\n",
      "[2024-01-11 07:10:52,271] {data.py:428} INFO - Loaded rand_10000.52_7.csv, 1960 rows\n",
      "[2024-01-11 07:10:52,781] {data.py:428} INFO - Loaded rand_11000.32_7.csv, 1063 rows\n",
      "[2024-01-11 07:10:53,833] {data.py:428} INFO - Loaded rand_8000.6_7.csv, 2313 rows\n",
      "[2024-01-11 07:10:54,251] {data.py:428} INFO - Loaded shufflenet_v2_x1_5.60_7.csv, 849 rows\n",
      "[2024-01-11 07:10:54,670] {data.py:428} INFO - Loaded shufflenet_v2_x1_5.54_7.csv, 849 rows\n",
      "[2024-01-11 07:10:55,724] {data.py:428} INFO - Loaded rand_9000.80_7.csv, 2310 rows\n",
      "[2024-01-11 07:10:56,073] {data.py:428} INFO - Loaded rand_8000.31_7.csv, 683 rows\n",
      "[2024-01-11 07:10:56,681] {data.py:428} INFO - Loaded rand_2500.81_7.csv, 1288 rows\n",
      "[2024-01-11 07:10:57,196] {data.py:428} INFO - Loaded rand_7500.44_7.csv, 1064 rows\n",
      "[2024-01-11 07:10:57,786] {data.py:428} INFO - Loaded rand_5500.39_7.csv, 1239 rows\n",
      "[2024-01-11 07:10:59,007] {data.py:428} INFO - Loaded efficientnet_b5.32_7.csv, 2709 rows\n",
      "[2024-01-11 07:10:59,525] {data.py:428} INFO - Loaded rand_9500.39_7.csv, 1078 rows\n",
      "[2024-01-11 07:11:00,564] {data.py:428} INFO - Loaded rand_9500.18_7.csv, 2278 rows\n",
      "[2024-01-11 07:11:00,936] {data.py:428} INFO - Loaded rand_10000.25_7.csv, 741 rows\n",
      "[2024-01-11 07:11:01,842] {data.py:428} INFO - Loaded rand_10000.31_7.csv, 1977 rows\n",
      "[2024-01-11 07:11:01,976] {data.py:428} INFO - Loaded vgg11_bn.33_7.csv, 193 rows\n",
      "[2024-01-11 07:11:02,891] {data.py:428} INFO - Loaded rand_500.68_7.csv, 1996 rows\n",
      "[2024-01-11 07:11:03,483] {data.py:428} INFO - Loaded rand_1000.16_7.csv, 1242 rows\n",
      "[2024-01-11 07:11:03,918] {data.py:428} INFO - Loaded mobilenet_v3_large.31_7.csv, 884 rows\n",
      "[2024-01-11 07:11:04,481] {data.py:428} INFO - Loaded rand_11000.42_7.csv, 1185 rows\n",
      "[2024-01-11 07:11:04,962] {data.py:428} INFO - Loaded rand_6500.44_7.csv, 988 rows\n",
      "[2024-01-11 07:11:05,691] {data.py:428} INFO - Loaded rand_7500.45_7.csv, 1567 rows\n",
      "[2024-01-11 07:11:06,111] {data.py:428} INFO - Loaded shufflenet_v2_x1_5.53_7.csv, 849 rows\n",
      "[2024-01-11 07:11:06,528] {data.py:428} INFO - Loaded shufflenet_v2_x1_5.44_7.csv, 849 rows\n",
      "[2024-01-11 07:11:07,163] {data.py:428} INFO - Loaded rand_5000.20_7.csv, 1348 rows\n",
      "[2024-01-11 07:11:07,295] {data.py:428} INFO - Loaded vgg11_bn.18_7.csv, 187 rows\n",
      "[2024-01-11 07:11:08,345] {data.py:428} INFO - Loaded rand_8500.67_7.csv, 2304 rows\n",
      "[2024-01-11 07:11:08,930] {data.py:428} INFO - Loaded rand_0.44_7.csv, 1232 rows\n",
      "[2024-01-11 07:11:09,020] {data.py:428} INFO - Loaded alexnet.38_7.csv, 91 rows\n",
      "[2024-01-11 07:11:09,601] {data.py:428} INFO - Loaded rand_500.67_7.csv, 1216 rows\n",
      "[2024-01-11 07:11:09,985] {data.py:428} INFO - Loaded mnasnet1_3.25_7.csv, 769 rows\n",
      "[2024-01-11 07:11:10,713] {data.py:428} INFO - Loaded rand_7000.46_7.csv, 1563 rows\n",
      "[2024-01-11 07:11:11,757] {data.py:428} INFO - Loaded rand_9000.1_7.csv, 2299 rows\n",
      "[2024-01-11 07:11:12,192] {data.py:428} INFO - Loaded mobilenet_v3_large.39_7.csv, 888 rows\n",
      "[2024-01-11 07:11:13,094] {data.py:428} INFO - Loaded rand_3000.27_7.csv, 1961 rows\n",
      "[2024-01-11 07:11:13,974] {data.py:428} INFO - Loaded densenet121.17_7.csv, 1887 rows\n",
      "[2024-01-11 07:11:14,394] {data.py:428} INFO - Loaded shufflenet_v2_x1_5.22_7.csv, 847 rows\n",
      "[2024-01-11 07:11:15,713] {data.py:428} INFO - Loaded rand_0.53_7.csv, 2924 rows\n",
      "[2024-01-11 07:11:16,059] {data.py:428} INFO - Loaded rand_3000.43_7.csv, 681 rows\n",
      "[2024-01-11 07:11:16,492] {data.py:428} INFO - Loaded mobilenet_v3_large.23_7.csv, 884 rows\n",
      "[2024-01-11 07:11:16,974] {data.py:428} INFO - Loaded rand_1000.10_7.csv, 989 rows\n",
      "[2024-01-11 07:11:18,152] {data.py:428} INFO - Loaded rand_8000.17_7.csv, 2608 rows\n",
      "[2024-01-11 07:11:18,881] {data.py:428} INFO - Loaded rand_11000.49_7.csv, 1564 rows\n",
      "[2024-01-11 07:11:19,461] {data.py:428} INFO - Loaded rand_0.35_7.csv, 1223 rows\n",
      "[2024-01-11 07:11:19,845] {data.py:428} INFO - Loaded mnasnet1_3.26_7.csv, 769 rows\n",
      "[2024-01-11 07:11:21,138] {data.py:428} INFO - Loaded rand_3000.45_7.csv, 2863 rows\n",
      "[2024-01-11 07:11:21,574] {data.py:428} INFO - Loaded mobilenet_v3_large.46_7.csv, 888 rows\n",
      "[2024-01-11 07:11:22,006] {data.py:428} INFO - Loaded mobilenet_v3_large.33_7.csv, 884 rows\n",
      "[2024-01-11 07:11:22,479] {data.py:428} INFO - Loaded rand_10000.50_7.csv, 971 rows\n",
      "[2024-01-11 07:11:23,538] {data.py:428} INFO - Loaded rand_0.65_7.csv, 2333 rows\n",
      "[2024-01-11 07:11:24,017] {data.py:428} INFO - Loaded rand_11500.61_7.csv, 988 rows\n",
      "[2024-01-11 07:11:24,531] {data.py:428} INFO - Loaded rand_7500.38_7.csv, 1068 rows\n",
      "[2024-01-11 07:11:25,093] {data.py:428} INFO - Loaded rand_11500.57_7.csv, 1180 rows\n",
      "[2024-01-11 07:11:25,609] {data.py:428} INFO - Loaded rand_8000.20_7.csv, 1066 rows\n",
      "[2024-01-11 07:11:26,043] {data.py:428} INFO - Loaded mobilenet_v3_large.53_7.csv, 888 rows\n",
      "[2024-01-11 07:11:26,412] {data.py:428} INFO - Loaded rand_11500.9_7.csv, 731 rows\n",
      "[2024-01-11 07:11:26,812] {data.py:428} INFO - Loaded rand_2000.8_7.csv, 807 rows\n",
      "[2024-01-11 07:11:27,287] {data.py:428} INFO - Loaded rand_11500.79_7.csv, 974 rows\n",
      "[2024-01-11 07:11:27,636] {data.py:428} INFO - Loaded rand_4500.45_7.csv, 683 rows\n",
      "[2024-01-11 07:11:28,069] {data.py:428} INFO - Loaded mobilenet_v3_large.21_7.csv, 884 rows\n",
      "[2024-01-11 07:11:29,088] {data.py:428} INFO - Loaded efficientnet_b4.21_7.csv, 2232 rows\n",
      "[2024-01-11 07:11:29,473] {data.py:428} INFO - Loaded mnasnet0_5.23_7.csv, 769 rows\n",
      "[2024-01-11 07:11:29,908] {data.py:428} INFO - Loaded mobilenet_v3_large.54_7.csv, 888 rows\n",
      "[2024-01-11 07:11:31,135] {data.py:428} INFO - Loaded efficientnet_b5.48_7.csv, 2709 rows\n",
      "[2024-01-11 07:11:31,520] {data.py:428} INFO - Loaded mnasnet0_5.48_7.csv, 771 rows\n",
      "[2024-01-11 07:11:32,091] {data.py:428} INFO - Loaded rand_5000.5_7.csv, 1199 rows\n",
      "[2024-01-11 07:11:32,675] {data.py:428} INFO - Loaded rand_6500.50_7.csv, 1224 rows\n",
      "[2024-01-11 07:11:33,022] {data.py:428} INFO - Loaded rand_10000.16_7.csv, 683 rows\n",
      "[2024-01-11 07:11:33,409] {data.py:428} INFO - Loaded mnasnet0_5.69_7.csv, 771 rows\n",
      "[2024-01-11 07:11:33,548] {data.py:428} INFO - Loaded vgg19.18_7.csv, 203 rows\n",
      "[2024-01-11 07:11:34,418] {data.py:428} INFO - Loaded densenet121.35_7.csv, 1889 rows\n",
      "[2024-01-11 07:11:34,836] {data.py:428} INFO - Loaded shufflenet_v2_x1_5.38_7.csv, 849 rows\n",
      "[2024-01-11 07:11:35,884] {data.py:428} INFO - Loaded rand_0.79_7.csv, 2311 rows\n",
      "[2024-01-11 07:11:36,627] {data.py:428} INFO - Loaded wide_resnet101_2.44_7.csv, 1600 rows\n",
      "[2024-01-11 07:11:37,182] {data.py:428} INFO - Loaded rand_5500.52_7.csv, 1160 rows\n",
      "[2024-01-11 07:11:37,565] {data.py:428} INFO - Loaded mnasnet0_5.74_7.csv, 769 rows\n",
      "[2024-01-11 07:11:38,628] {data.py:428} INFO - Loaded rand_11500.64_7.csv, 2335 rows\n",
      "[2024-01-11 07:11:38,767] {data.py:428} INFO - Loaded vgg19.22_7.csv, 203 rows\n",
      "[2024-01-11 07:11:39,249] {data.py:428} INFO - Loaded rand_5000.45_7.csv, 988 rows\n",
      "[2024-01-11 07:11:39,654] {data.py:428} INFO - Loaded wide_resnet50_2.24_7.csv, 816 rows\n",
      "[2024-01-11 07:11:40,249] {data.py:428} INFO - Loaded rand_6500.32_7.csv, 1252 rows\n",
      "[2024-01-11 07:11:41,296] {data.py:428} INFO - Loaded rand_9000.78_7.csv, 2296 rows\n",
      "[2024-01-11 07:11:42,040] {data.py:428} INFO - Loaded wide_resnet101_2.49_7.csv, 1600 rows\n",
      "[2024-01-11 07:11:42,476] {data.py:428} INFO - Loaded mobilenet_v3_large.43_7.csv, 888 rows\n",
      "[2024-01-11 07:11:43,703] {data.py:428} INFO - Loaded efficientnet_b5.42_7.csv, 2709 rows\n",
      "[2024-01-11 07:11:44,287] {data.py:428} INFO - Loaded rand_0.12_7.csv, 1229 rows\n",
      "[2024-01-11 07:11:44,851] {data.py:428} INFO - Loaded rand_4500.19_7.csv, 1178 rows\n",
      "[2024-01-11 07:11:45,742] {data.py:428} INFO - Loaded rand_2500.73_7.csv, 1934 rows\n",
      "[2024-01-11 07:11:46,255] {data.py:428} INFO - Loaded rand_5500.36_7.csv, 1059 rows\n",
      "[2024-01-11 07:11:47,411] {data.py:428} INFO - Loaded rand_8500.49_7.csv, 2546 rows\n",
      "[2024-01-11 07:11:47,830] {data.py:428} INFO - Loaded shufflenet_v2_x0_5.71_7.csv, 847 rows\n",
      "[2024-01-11 07:11:48,699] {data.py:428} INFO - Loaded densenet121.33_7.csv, 1889 rows\n",
      "[2024-01-11 07:11:48,870] {data.py:428} INFO - Loaded vgg16_bn.23_7.csv, 277 rows\n",
      "[2024-01-11 07:11:49,615] {data.py:428} INFO - Loaded wide_resnet101_2.39_7.csv, 1600 rows\n",
      "[2024-01-11 07:11:50,032] {data.py:428} INFO - Loaded shufflenet_v2_x1_5.26_7.csv, 847 rows\n",
      "[2024-01-11 07:11:51,319] {data.py:428} INFO - Loaded rand_7500.74_7.csv, 2845 rows\n",
      "[2024-01-11 07:11:52,220] {data.py:428} INFO - Loaded rand_10000.19_7.csv, 1958 rows\n",
      "[2024-01-11 07:11:53,238] {data.py:428} INFO - Loaded efficientnet_b4.28_7.csv, 2232 rows\n",
      "[2024-01-11 07:11:53,372] {data.py:428} INFO - Loaded vgg11_bn.39_7.csv, 189 rows\n",
      "[2024-01-11 07:11:54,420] {data.py:428} INFO - Loaded rand_4500.15_7.csv, 2299 rows\n",
      "[2024-01-11 07:11:54,560] {data.py:428} INFO - Loaded vgg19.36_7.csv, 205 rows\n",
      "[2024-01-11 07:11:54,965] {data.py:428} INFO - Loaded wide_resnet50_2.29_7.csv, 816 rows\n",
      "[2024-01-11 07:11:56,188] {data.py:428} INFO - Loaded efficientnet_b5.49_7.csv, 2707 rows\n",
      "[2024-01-11 07:11:57,346] {data.py:428} INFO - Loaded rand_4500.37_7.csv, 2550 rows\n",
      "[2024-01-11 07:11:57,822] {data.py:428} INFO - Loaded rand_7000.26_7.csv, 974 rows\n",
      "[2024-01-11 07:11:58,304] {data.py:428} INFO - Loaded rand_1000.57_7.csv, 989 rows\n",
      "[2024-01-11 07:11:58,747] {data.py:428} INFO - Loaded googlenet.29_7.csv, 903 rows\n",
      "[2024-01-11 07:11:59,660] {data.py:428} INFO - Loaded rand_3000.35_7.csv, 1985 rows\n",
      "[2024-01-11 07:11:59,832] {data.py:428} INFO - Loaded vgg16_bn.16_7.csv, 277 rows\n",
      "[2024-01-11 07:12:02,905] {data.py:428} INFO - Loaded rand_6500.78_7.csv, 2298 rows\n",
      "[2024-01-11 07:12:03,040] {data.py:428} INFO - Loaded vgg11_bn.29_7.csv, 187 rows\n",
      "[2024-01-11 07:12:03,677] {data.py:428} INFO - Loaded rand_7000.24_7.csv, 1343 rows\n",
      "[2024-01-11 07:12:04,230] {data.py:428} INFO - Loaded rand_11500.84_7.csv, 1155 rows\n",
      "[2024-01-11 07:12:04,711] {data.py:428} INFO - Loaded rand_9500.70_7.csv, 990 rows\n",
      "[2024-01-11 07:12:05,938] {data.py:428} INFO - Loaded efficientnet_b5.40_7.csv, 2709 rows\n",
      "[2024-01-11 07:12:07,120] {data.py:428} INFO - Loaded rand_1000.36_7.csv, 2606 rows\n",
      "[2024-01-11 07:12:08,177] {data.py:428} INFO - Loaded rand_3500.18_7.csv, 2315 rows\n",
      "[2024-01-11 07:12:08,267] {data.py:428} INFO - Loaded alexnet.56_7.csv, 91 rows\n",
      "[2024-01-11 07:12:08,845] {data.py:428} INFO - Loaded rand_0.62_7.csv, 1212 rows\n",
      "[2024-01-11 07:12:08,982] {data.py:428} INFO - Loaded vgg11_bn.31_7.csv, 193 rows\n",
      "[2024-01-11 07:12:09,358] {data.py:428} INFO - Loaded rand_500.13_7.csv, 749 rows\n",
      "[2024-01-11 07:12:10,102] {data.py:428} INFO - Loaded wide_resnet101_2.30_7.csv, 1598 rows\n",
      "[2024-01-11 07:12:10,608] {data.py:428} INFO - Loaded rand_11000.72_7.csv, 1046 rows\n",
      "[2024-01-11 07:12:11,355] {data.py:428} INFO - Loaded wide_resnet101_2.42_7.csv, 1600 rows\n",
      "[2024-01-11 07:12:11,793] {data.py:428} INFO - Loaded mobilenet_v3_large.55_7.csv, 888 rows\n",
      "[2024-01-11 07:12:12,177] {data.py:428} INFO - Loaded mnasnet0_5.58_7.csv, 771 rows\n",
      "[2024-01-11 07:12:12,564] {data.py:428} INFO - Loaded mnasnet1_3.33_7.csv, 769 rows\n",
      "[2024-01-11 07:12:13,298] {data.py:428} INFO - Loaded rand_1000.38_7.csv, 1564 rows\n",
      "[2024-01-11 07:12:14,347] {data.py:428} INFO - Loaded rand_8000.41_7.csv, 2296 rows\n",
      "[2024-01-11 07:12:15,269] {data.py:428} INFO - Loaded rand_8000.53_7.csv, 2014 rows\n",
      "[2024-01-11 07:12:15,706] {data.py:428} INFO - Loaded mobilenet_v3_large.49_7.csv, 888 rows\n",
      "[2024-01-11 07:12:16,091] {data.py:428} INFO - Loaded mnasnet0_5.46_7.csv, 771 rows\n",
      "[2024-01-11 07:12:16,980] {data.py:428} INFO - Loaded rand_3500.73_7.csv, 1939 rows\n",
      "[2024-01-11 07:12:17,724] {data.py:428} INFO - Loaded wide_resnet101_2.52_7.csv, 1600 rows\n",
      "[2024-01-11 07:12:18,910] {data.py:428} INFO - Loaded rand_5000.23_7.csv, 2603 rows\n",
      "[2024-01-11 07:12:19,391] {data.py:428} INFO - Loaded rand_3000.2_7.csv, 989 rows\n",
      "[2024-01-11 07:12:20,249] {data.py:428} INFO - Loaded rand_3500.38_7.csv, 1855 rows\n"
     ]
    }
   ],
   "source": [
    "\n",
    "eval_graphs = load_graphs(dataset_environment_str,\n",
    "                          train_or_eval=\"eval\",\n",
    "                          use_dummy=dummy,\n",
    "                          max_row=200_000)\n",
    "train_graphs = load_graphs(dataset_environment_str,\n",
    "                           train_or_eval=\"train\",\n",
    "                           use_dummy=dummy,\n",
    "                           max_row=1000_000)"
   ]
  },
  {
   "cell_type": "code",
   "execution_count": 5,
   "metadata": {},
   "outputs": [
    {
     "name": "stdout",
     "output_type": "stream",
     "text": [
      "776 174\n"
     ]
    }
   ],
   "source": [
    "print(len(train_graphs), len(eval_graphs))"
   ]
  },
  {
   "cell_type": "code",
   "execution_count": 6,
   "metadata": {},
   "outputs": [],
   "source": [
    "train_configs = {\n",
    "    ModelType.MLPTestSubgraph.name: Config.from_dict({\n",
    "        \"model\": \"MLPTestSubgraph\",\n",
    "        \"all_seed\": 42,\n",
    "        \"dataset_environment_str\": dataset_environment_str,\n",
    "        \"dataset_params\": {\n",
    "            \"duration_summed\": False,\n",
    "        },\n",
    "        \"dataset_subgraph_node_size\": 12,\n",
    "        \"dataset_subgraph_step\": 3,\n",
    "        \"dataset\"\n",
    "        \"dataset_dummy\": False,\n",
    "        \"batch_size\": 128,\n",
    "        \"eval_steps\": 5000,\n",
    "        \"learning_rate\": 0.0001,\n",
    "        \"epochs\": 100,\n",
    "        \"optimizer\": \"Adam\",\n",
    "        \"meta_configs\": {\n",
    "            \"learning_rate\": 0.005,\n",
    "            \"meta_learning_rate\": 0.001,\n",
    "            \"meta_train_steps\": 1000,\n",
    "            \"meta_task_per_step\": 8,\n",
    "            \"meta_fast_adaption_step\": 5,\n",
    "            \"meta_dataset_train_environment_strs\": [dataset_environment_str],\n",
    "            \"meta_dataset_eval_environment_strs\": [dataset_environment_str],\n",
    "        },\n",
    "    }),\n",
    "    ModelType.LSTM.name: Config.from_dict({\n",
    "        \"model\": \"LSTM\",\n",
    "        \"dataset_environment_str\": dataset_environment_str,\n",
    "        \"meta_dataset_environment_strs\": [dataset_environment_str],\n",
    "        \"dataset_subgraph_node_size\": 12,\n",
    "        \"dataset_subgraph_step\": 3,\n",
    "        \"all_seed\": 42,\n",
    "        \"dataset_params\": {\n",
    "            \"duration_summed\": False,\n",
    "        },\n",
    "        \"model_params\": {\n",
    "            \"num_layers\": 4,\n",
    "            \"bidirectional\": True\n",
    "        },\n",
    "        \"dataset_dummy\": False,\n",
    "        \"batch_size\": 128,\n",
    "        \"eval_steps\": 5000,\n",
    "        \"learning_rate\": 0.0001,\n",
    "        \"epochs\": 200,\n",
    "        \"optimizer\": \"Adam\",\n",
    "        \"meta_configs\": {\n",
    "            \"learning_rate\": 0.005,\n",
    "            \"meta_learning_rate\": 0.001,\n",
    "            \"meta_train_steps\": 1000,\n",
    "            \"meta_task_per_step\": 8,\n",
    "            \"meta_fast_adaption_step\": 5,\n",
    "            \"meta_dataset_train_environment_strs\": [dataset_environment_str],\n",
    "            \"meta_dataset_eval_environment_strs\": [dataset_environment_str],\n",
    "        },\n",
    "    }),\n",
    "    ModelType.RNN.name: Config.from_dict({\n",
    "        \"model\": \"RNN\",\n",
    "        \"dataset_environment_str\": dataset_environment_str,\n",
    "        \"meta_dataset_environment_strs\": [dataset_environment_str],\n",
    "        \"dataset_subgraph_node_size\": 12,\n",
    "        \"dataset_subgraph_step\": 3,\n",
    "        \"all_seed\": 42,\n",
    "        \"dataset_params\": {\n",
    "            \"duration_summed\": False,\n",
    "        },\n",
    "        \"model_params\": {\n",
    "            \"num_layers\": 5,\n",
    "            \"bidirectional\": True,\n",
    "            \"hidden_size\": 64\n",
    "        },\n",
    "        \"dataset_dummy\": False,\n",
    "        \"batch_size\": 128,\n",
    "        \"eval_steps\": 5000,\n",
    "        \"learning_rate\": 1e-3,\n",
    "        \"epochs\": 100,\n",
    "        \"optimizer\": \"Adam\",\n",
    "        \"meta_configs\": {\n",
    "            \"learning_rate\": 0.005,\n",
    "            \"meta_learning_rate\": 0.001,\n",
    "            \"meta_train_steps\": 1000,\n",
    "            \"meta_task_per_step\": 8,\n",
    "            \"meta_fast_adaption_step\": 5,\n",
    "            \"meta_dataset_train_environment_strs\": [dataset_environment_str],\n",
    "            \"meta_dataset_eval_environment_strs\": [dataset_environment_str],\n",
    "        },\n",
    "    }),\n",
    "    ModelType.GRU.name: Config.from_dict({\n",
    "        \"model\": \"GRU\",\n",
    "        \"dataset_environment_str\": dataset_environment_str,\n",
    "        \"meta_dataset_environment_strs\": [dataset_environment_str],\n",
    "        \"dataset_subgraph_node_size\": 12,\n",
    "        \"dataset_subgraph_step\": 3,\n",
    "        \"all_seed\": 42,\n",
    "        \"dataset_params\": {\n",
    "            \"duration_summed\": False,\n",
    "        },\n",
    "        \"model_params\": {\n",
    "            \"num_layers\": 5,\n",
    "            \"bidirectional\": True\n",
    "        },\n",
    "        \"dataset_dummy\": False,\n",
    "        \"batch_size\": 128,\n",
    "        \"eval_steps\": 5000,\n",
    "        \"learning_rate\": 1e-3,\n",
    "        \"epochs\": 100,\n",
    "        \"optimizer\": \"Adam\",\n",
    "        \"meta_configs\": {\n",
    "            \"learning_rate\": 0.005,\n",
    "            \"meta_learning_rate\": 0.001,\n",
    "            \"meta_train_steps\": 1000,\n",
    "            \"meta_task_per_step\": 8,\n",
    "            \"meta_fast_adaption_step\": 5,\n",
    "            \"meta_dataset_train_environment_strs\": [dataset_environment_str],\n",
    "            \"meta_dataset_eval_environment_strs\": [dataset_environment_str],\n",
    "        },\n",
    "    }),\n",
    "    ModelType.GCNSubgraph.name: Config.from_dict({\n",
    "        \"model\": \"GCNGrouping\",\n",
    "        \"dataset_environment_str\": dataset_environment_str,\n",
    "        \"dataset_subgraph_node_size\": 12,\n",
    "        \"dataset_subgraph_step\": 3,\n",
    "        \"all_seed\": 42,\n",
    "        \"dataset_params\": {\n",
    "            \"duration_summed\": False,\n",
    "        },\n",
    "        \"dataset_dummy\": False,\n",
    "        \"batch_size\": 128,\n",
    "        \"eval_steps\": 5000,\n",
    "        \"learning_rate\": 1e-3,\n",
    "        \"epochs\": 100,\n",
    "        \"optimizer\": \"Adam\",\n",
    "        \"meta_configs\": {\n",
    "            \"learning_rate\": 0.005,\n",
    "            \"meta_learning_rate\": 0.001,\n",
    "            \"meta_train_steps\": 1000,\n",
    "            \"meta_task_per_step\": 8,\n",
    "            \"meta_fast_adaption_step\": 5,\n",
    "            \"meta_dataset_train_environment_strs\": [dataset_environment_str],\n",
    "            \"meta_dataset_eval_environment_strs\": [dataset_environment_str],\n",
    "        },\n",
    "    }),\n",
    "    ModelType.Transformer.name: Config.from_dict({\n",
    "        \"model\": \"Transformer\",\n",
    "        \"dataset_environment_str\": dataset_environment_str,\n",
    "        \"dataset_subgraph_node_size\": 12,\n",
    "        \"dataset_subgraph_step\": 3,\n",
    "        \"all_seed\": 42,\n",
    "        \"dataset_params\": {\n",
    "            \"duration_summed\": False,\n",
    "        },\n",
    "        \"model_params\": {\n",
    "            \"nlayers\": 6,\n",
    "            \"d_hid\": 64,\n",
    "            \"dropout\": 0.0\n",
    "        },\n",
    "        \"dataset_dummy\": False,\n",
    "        \"batch_size\": 128,\n",
    "        \"eval_steps\": 5000,\n",
    "        \"learning_rate\": 1e-3,\n",
    "        \"epochs\": 100,\n",
    "        \"optimizer\": \"Adam\",\n",
    "        \"meta_configs\": {\n",
    "            \"learning_rate\": 0.005,\n",
    "            \"meta_learning_rate\": 0.001,\n",
    "            \"meta_train_steps\": 1000,\n",
    "            \"meta_task_per_step\": 8,\n",
    "            \"meta_fast_adaption_step\": 5,\n",
    "            \"meta_dataset_train_environment_strs\": [dataset_environment_str],\n",
    "            \"meta_dataset_eval_environment_strs\": [dataset_environment_str],\n",
    "        },\n",
    "    }),\n",
    "}\n",
    "\n",
    "conf: Config = train_configs[model_type.name]"
   ]
  },
  {
   "cell_type": "code",
   "execution_count": 7,
   "metadata": {},
   "outputs": [],
   "source": [
    "def subgraph_features(graph: Graph, subgraph_node_size: int = 10, step: int = 5, dataset_params: Dict = {}) -> \\\n",
    "        Tuple[List[Dict], List[Dict]]:\n",
    "    subgraphs, _ = graph.subgraphs(\n",
    "        subgraph_node_size=subgraph_node_size, step=step)\n",
    "    X, Y = list(), list()\n",
    "\n",
    "    def subgraph_feature(nodes: List[GraphNode]):\n",
    "        feature_matrix = list()\n",
    "        for node in nodes:\n",
    "            feature = node.op.to_feature_array(\n",
    "                mode=dataset_params.get(\"mode\", \"complex\"))\n",
    "            feature = np.array(feature)\n",
    "            feature_matrix.append(feature)\n",
    "\n",
    "        feature_matrix = pad_np_vectors(feature_matrix)\n",
    "        feature_matrix = np.array(feature_matrix)\n",
    "\n",
    "        adj_matrix = [\n",
    "            [0.] * len(nodes) for _ in range(len(nodes))\n",
    "        ]\n",
    "        for curr_idx, node in enumerate(nodes):\n",
    "            if curr_idx + 1 < len(nodes):\n",
    "                adj_matrix[curr_idx][curr_idx+1] = 1.\n",
    "\n",
    "        adj_matrix = np.array(adj_matrix)\n",
    "        # x\n",
    "        feature = {\n",
    "            \"x_graph_id\": graph.ID,\n",
    "            \"x_node_ids\": \"|\".join([str(node.node_id) for node in nodes]),\n",
    "            \"x_subgraph_feature\": feature_matrix,\n",
    "            \"x_adj_matrix\": adj_matrix\n",
    "        }\n",
    "\n",
    "        # y\n",
    "        subgraph_duration = sum(node.duration + node.gap for node in subgraph)\n",
    "        nodes_durations = list()\n",
    "        for node in subgraph:\n",
    "            node_duration_label = (\n",
    "                node.duration, node.gap\n",
    "            )\n",
    "            nodes_durations.append(node_duration_label)\n",
    "\n",
    "        label = {\n",
    "            \"y_graph_id\": graph.ID,\n",
    "            \"y_nodes_durations\": nodes_durations,\n",
    "            \"y_subgraph_durations\": (subgraph_duration,)\n",
    "        }\n",
    "\n",
    "        return feature, label\n",
    "\n",
    "    for i, subgraph in enumerate(subgraphs):\n",
    "        x, y = subgraph_feature(subgraph)\n",
    "        X.append(x)\n",
    "        Y.append(y)\n",
    "\n",
    "    return X, Y\n",
    "\n",
    "\n",
    "def init_dataset(graphs: List[Graph]) -> MDataset:\n",
    "    X = list()\n",
    "    Y = list()\n",
    "\n",
    "    subgraph_feature_maxsize = 0\n",
    "\n",
    "    for graph in graphs:\n",
    "        X_, Y_ = subgraph_features(graph=graph,\n",
    "                                   subgraph_node_size=conf.dataset_subgraph_node_size,\n",
    "                                   step=conf.dataset_subgraph_step,\n",
    "                                   dataset_params=conf.dataset_params)\n",
    "        for x in X_:\n",
    "            subgraph_feature_size = len(x[\"x_subgraph_feature\"][0])\n",
    "            subgraph_feature_maxsize = max(\n",
    "                subgraph_feature_maxsize, subgraph_feature_size)\n",
    "\n",
    "        X.extend(X_)\n",
    "        Y.extend(Y_)\n",
    "\n",
    "    for x in X:\n",
    "        x[\"x_subgraph_feature\"] = pad_np_vectors(\n",
    "            x[\"x_subgraph_feature\"], maxsize=subgraph_feature_maxsize)\n",
    "\n",
    "    dataset = MDataset(X, Y)\n",
    "    return dataset\n",
    "\n",
    "\n",
    "train_ds = init_dataset(train_graphs)\n",
    "eval_ds = init_dataset(eval_graphs)"
   ]
  },
  {
   "cell_type": "code",
   "execution_count": 8,
   "metadata": {},
   "outputs": [],
   "source": [
    "def get_scalers(raw_train_ds: MDataset):\n",
    "\n",
    "    def _preprocess_required_data(ds: MDataset):\n",
    "        x_subgraph_feature_array = list()\n",
    "        y_nodes_durations_array = list()\n",
    "        y_subgraph_durations_array = list()\n",
    "\n",
    "        for data in ds:\n",
    "            feature, label = data\n",
    "            x_subgraph_feature = feature[\"x_subgraph_feature\"]\n",
    "            assert isinstance(x_subgraph_feature, list)\n",
    "            x_subgraph_feature_array.extend(x_subgraph_feature)\n",
    "\n",
    "            y_nodes_durations = label[\"y_nodes_durations\"]\n",
    "            assert isinstance(y_nodes_durations, list)\n",
    "            y_nodes_durations_array.extend(y_nodes_durations)\n",
    "\n",
    "            y_subgraph_durations = label[\"y_subgraph_durations\"]\n",
    "            y_subgraph_durations_array.append(y_subgraph_durations)\n",
    "\n",
    "        x_subgraph_feature_array = np.array(x_subgraph_feature_array)\n",
    "        y_nodes_durations_array = np.array(y_nodes_durations_array)\n",
    "        y_subgraph_durations_array = np.array(y_subgraph_durations_array)\n",
    "        return [x_subgraph_feature_array, y_nodes_durations_array, y_subgraph_durations_array]\n",
    "\n",
    "    scaler_cls = conf.dataset_normalizer_cls\n",
    "\n",
    "    x_subgraph_feature_array, y_nodes_durations_array, y_subgraph_durations_array = _preprocess_required_data(\n",
    "        ds=raw_train_ds)\n",
    "\n",
    "    x_subgraph_feature_scaler = scaler_cls()\n",
    "    x_subgraph_feature_scaler.fit(x_subgraph_feature_array)\n",
    "\n",
    "    y_nodes_durations_scaler = scaler_cls()\n",
    "    y_nodes_durations_scaler.fit(y_nodes_durations_array)\n",
    "\n",
    "    y_subgraph_durations_scaler = scaler_cls()\n",
    "    y_subgraph_durations_scaler.fit(y_subgraph_durations_array)\n",
    "\n",
    "    return x_subgraph_feature_scaler, y_nodes_durations_scaler, y_subgraph_durations_scaler\n",
    "\n",
    "\n",
    "scalers = get_scalers(train_ds)\n",
    "x_subgraph_feature_scaler, y_nodes_durations_scaler, y_subgraph_durations_scaler = scalers"
   ]
  },
  {
   "cell_type": "code",
   "execution_count": 9,
   "metadata": {},
   "outputs": [],
   "source": [
    "\n",
    "def preprocess_dataset(ds: MDataset) -> MDataset:\n",
    "    x_subgraph_feature_scaler, y_nodes_durations_scaler, y_subgraph_durations_scaler = scalers\n",
    "\n",
    "    processed_features = list()\n",
    "    processed_labels = list()\n",
    "\n",
    "    for data in ds:\n",
    "        feature, label = data\n",
    "        x_subgraph_feature = feature[\"x_subgraph_feature\"]\n",
    "        assert isinstance(x_subgraph_feature, list)\n",
    "        x_subgraph_feature = np.array(x_subgraph_feature).astype(np.float32)\n",
    "        transformed_x_subgraph_feature = x_subgraph_feature_scaler.transform(\n",
    "            x_subgraph_feature)\n",
    "\n",
    "        x_adj_matrix = feature[\"x_adj_matrix\"]\n",
    "        x_adj_matrix = np.array(x_adj_matrix).astype(np.float32)\n",
    "\n",
    "        y_nodes_durations = label[\"y_nodes_durations\"]\n",
    "        assert isinstance(y_nodes_durations, list)\n",
    "        y_nodes_durations = np.array(y_nodes_durations).astype(np.float32)\n",
    "        transformed_y_nodes_durations = y_nodes_durations_scaler.transform(\n",
    "            y_nodes_durations)\n",
    "\n",
    "        y_subgraph_durations = label[\"y_subgraph_durations\"]\n",
    "        y_subgraph_durations_array = (y_subgraph_durations,)\n",
    "        y_subgraph_durations_array = y_subgraph_durations_scaler.transform(\n",
    "            y_subgraph_durations_array)\n",
    "        transformed_y_subgraph_durations = y_subgraph_durations_array[0]\n",
    "\n",
    "        processed_features.append({\n",
    "            \"x_graph_id\": feature[\"x_graph_id\"],\n",
    "            \"x_node_ids\": feature[\"x_node_ids\"],\n",
    "            \"x_subgraph_feature\": torch.Tensor(transformed_x_subgraph_feature),\n",
    "            \"x_adj_matrix\": torch.Tensor(x_adj_matrix)\n",
    "        })\n",
    "\n",
    "        processed_labels.append({\n",
    "            \"y_graph_id\": label[\"y_graph_id\"],\n",
    "            \"y_nodes_durations\": torch.Tensor(transformed_y_nodes_durations),\n",
    "            \"y_subgraph_durations\": torch.Tensor(transformed_y_subgraph_durations)\n",
    "        })\n",
    "\n",
    "    ds = MDataset(processed_features, processed_labels)\n",
    "    return ds\n",
    "\n",
    "\n",
    "preprocessed_train_ds = preprocess_dataset(train_ds)\n",
    "preprocessed_eval_ds = preprocess_dataset(eval_ds)"
   ]
  },
  {
   "cell_type": "code",
   "execution_count": 10,
   "metadata": {},
   "outputs": [],
   "source": [
    "\n",
    "save_dataset_pkl(preprocessed_train_ds, conf.dataset_environment, method_prefix, 'train',\n",
    "                 conf.dataset_normalization)\n",
    "save_dataset_pkl(preprocessed_eval_ds, conf.dataset_environment, method_prefix, 'eval',\n",
    "                 conf.dataset_normalization)\n",
    "save_scalers_pkl(scalers, conf.dataset_environment, method_prefix, 'train',\n",
    "                 conf.dataset_normalization)"
   ]
  },
  {
   "cell_type": "code",
   "execution_count": 11,
   "metadata": {},
   "outputs": [
    {
     "name": "stdout",
     "output_type": "stream",
     "text": [
      "Loading dataset P4_CPU80 SubgraphBased train Standard\n",
      "Loading dataset P4_CPU80 SubgraphBased eval Standard\n",
      "Loading scalers P4_CPU80 SubgraphBased train, Standard\n"
     ]
    }
   ],
   "source": [
    "preprocessed_train_ds = load_dataset_pkl(conf.dataset_environment, method_prefix, 'train',\n",
    "                                         conf.dataset_normalization)\n",
    "preprocessed_eval_ds = load_dataset_pkl(conf.dataset_environment, method_prefix, 'eval',\n",
    "                                        conf.dataset_normalization)\n",
    "scalers = load_scalers_pkl(conf.dataset_environment, method_prefix, 'train',\n",
    "                           conf.dataset_normalization)\n",
    "x_subgraph_feature_scaler, y_nodes_durations_scaler, y_subgraph_durations_scaler = scalers"
   ]
  },
  {
   "cell_type": "code",
   "execution_count": 12,
   "metadata": {},
   "outputs": [],
   "source": [
    "def compute_evaluate_metrics(input_batches, output_batches, eval_loss) -> Dict[str, float]:\n",
    "    def compute_graph_nodes_durations(outputs_, node_ids_str_):\n",
    "        x_subgraph_feature_scaler, y_nodes_durations_scaler, y_subgraph_durations_scaler = scalers\n",
    "        node_to_durations = defaultdict(list)\n",
    "        for i, output_ in enumerate(outputs_):\n",
    "            node_ids = node_ids_str_[i]\n",
    "            node_ids_ = node_ids.split(\"|\")\n",
    "            assert len(output_) == len(node_ids_)\n",
    "            transformed: np.ndarray = y_nodes_durations_scaler.inverse_transform(\n",
    "                output_)\n",
    "            for i, node_id in enumerate(node_ids_):\n",
    "                node_to_durations[node_id].append(np.sum(transformed[i]))\n",
    "        node_to_duration = {k: np.average(v)\n",
    "                            for k, v in node_to_durations.items()}\n",
    "        return node_to_duration\n",
    "\n",
    "    graph_id_to_node_to_duration = defaultdict(lambda: defaultdict(list))\n",
    "    for inputs, outputs in zip(input_batches, output_batches):\n",
    "        outputs = nested_detach(outputs)\n",
    "        outputs = outputs.cpu().numpy()\n",
    "        graph_ids = inputs[\"x_graph_id\"]\n",
    "        graph_groups = defaultdict(list)\n",
    "        for i, graph_id in enumerate(graph_ids):\n",
    "            graph_groups[graph_id].append(i)\n",
    "\n",
    "        for graph_id, indices in graph_groups.items():\n",
    "            group_x_node_ids = [v for i, v in enumerate(\n",
    "                inputs[\"x_node_ids\"]) if i in indices]\n",
    "            group_outputs = [v for i, v in enumerate(outputs) if i in indices]\n",
    "            node_to_durations = compute_graph_nodes_durations(\n",
    "                group_outputs, group_x_node_ids)\n",
    "            for node, duration in node_to_durations.items():\n",
    "                graph_id_to_node_to_duration[graph_id][node].append(duration)\n",
    "    graph_id_to_duration_pred = dict()\n",
    "    # TODO check this!!!\n",
    "    for graph_id, node_to_duration in graph_id_to_node_to_duration.items():\n",
    "        duration_pred = 0\n",
    "        for _, duration_preds in node_to_duration.items():\n",
    "            duration_pred += np.average(duration_preds)\n",
    "        graph_id_to_duration_pred[graph_id] = duration_pred\n",
    "    duration_metrics = MetricUtil.compute_duration_metrics(\n",
    "        eval_graphs, graph_id_to_duration_pred)\n",
    "    return {\"eval_loss\": eval_loss, **duration_metrics}"
   ]
  },
  {
   "cell_type": "code",
   "execution_count": 13,
   "metadata": {},
   "outputs": [],
   "source": [
    "\n",
    "def to_device(conf: Config, features, labels):\n",
    "    features['x_subgraph_feature'] = features['x_subgraph_feature'].to(\n",
    "        conf.device)\n",
    "    features['x_adj_matrix'] = features['x_adj_matrix'].to(conf.device)\n",
    "    labels['y_nodes_durations'] = labels['y_nodes_durations'].to(conf.device)\n",
    "    labels['y_subgraph_durations'] = labels['y_subgraph_durations'].to(\n",
    "        conf.device)\n",
    "    return features, labels"
   ]
  },
  {
   "cell_type": "code",
   "execution_count": 14,
   "metadata": {},
   "outputs": [],
   "source": [
    "\n",
    "class MLPTest_SubgraphModel(MModule):\n",
    "\n",
    "    def __init__(self, x_node_feature_count, x_node_feature_size, y_nodes_duration_count, y_nodes_duration_size,\n",
    "                 **kwargs):\n",
    "        super().__init__(**kwargs)\n",
    "        self.x_node_feature_count, self.x_node_feature_size, self.y_nodes_duration_count, self.y_nodes_duration_size \\\n",
    "            = x_node_feature_count, x_node_feature_size, y_nodes_duration_count, y_nodes_duration_size\n",
    "        self.flatten = torch.nn.Flatten()\n",
    "        self.linear1 = torch.nn.Linear(in_features=self.x_node_feature_count * self.x_node_feature_size,\n",
    "                                       out_features=64)\n",
    "        self.relu1 = torch.nn.ReLU()\n",
    "        self.linear2 = torch.nn.Linear(in_features=64,\n",
    "                                       out_features=32)\n",
    "        self.relu2 = torch.nn.ReLU()\n",
    "        self.output = torch.nn.Linear(\n",
    "            32, self.y_nodes_duration_count * self.y_nodes_duration_size)\n",
    "        self.loss_fn = L1Loss()\n",
    "\n",
    "    @staticmethod\n",
    "    def grid_search_model_params() -> Dict[str, List[Any]]:\n",
    "        return {\n",
    "            \"learning_rate\": [1e-3, 1e-4, 1e-5],\n",
    "            'batch_size': [32, 64],\n",
    "            'epochs': [20],\n",
    "            'optimizer': ['Adam', 'SGD'],\n",
    "        }\n",
    "\n",
    "    def forward(self, X):\n",
    "        X = X[\"x_subgraph_feature\"]\n",
    "        X = self.flatten(X)\n",
    "        X = self.linear1(X)\n",
    "        X = self.relu1(X)\n",
    "        X = self.linear2(X)\n",
    "        X = self.relu2(X)\n",
    "        Y = self.output(X)\n",
    "        Y = torch.reshape(\n",
    "            Y, (-1, self.y_nodes_duration_count, self.y_nodes_duration_size))\n",
    "        return Y\n",
    "\n",
    "    def compute_loss(self, outputs, Y):\n",
    "        nodes_durations = Y[\"y_nodes_durations\"]\n",
    "        loss = self.loss_fn(outputs, nodes_durations)\n",
    "        return loss\n",
    "\n",
    "\n",
    "def init_MLPTestSubgraph_model() -> MModule | Any:\n",
    "    sample_preprocessed_ds = preprocessed_train_ds\n",
    "    sample_x_dict = sample_preprocessed_ds.features[0]\n",
    "    sample_y_dict = sample_preprocessed_ds.labels[0]\n",
    "    x_node_feature_count = len(sample_x_dict[\"x_subgraph_feature\"])\n",
    "    x_node_feature_size = len(sample_x_dict[\"x_subgraph_feature\"][0])\n",
    "    y_nodes_duration_count = len(sample_y_dict[\"y_nodes_durations\"])\n",
    "    y_nodes_duration_size = len(sample_y_dict[\"y_nodes_durations\"][0])\n",
    "    return MLPTest_SubgraphModel(x_node_feature_count,\n",
    "                                 x_node_feature_size,\n",
    "                                 y_nodes_duration_count,\n",
    "                                 y_nodes_duration_size)"
   ]
  },
  {
   "cell_type": "code",
   "execution_count": 15,
   "metadata": {},
   "outputs": [],
   "source": [
    "\n",
    "class LSTMModel(MModule):\n",
    "    def __init__(self, feature_size, nodes_durations_len, num_layers, bidirectional, **kwargs):\n",
    "        super().__init__(**kwargs)\n",
    "        self.lstm = LSTM(input_size=feature_size, hidden_size=feature_size, num_layers=num_layers, batch_first=True,\n",
    "                         bidirectional=bidirectional)\n",
    "        num_directions = 2 if bidirectional else 1\n",
    "        self.project = torch.nn.Linear(\n",
    "            in_features=feature_size * num_directions, out_features=nodes_durations_len)\n",
    "        self.loss_fn = L1Loss()\n",
    "\n",
    "    @staticmethod\n",
    "    def grid_search_model_params() -> Dict[str, List[Any]]:\n",
    "        return {\n",
    "            \"num_layers\": [4, 6, 8],\n",
    "            \"bidirectional\": [True, False],\n",
    "            \"learning_rate\": [1e-4, 1e-5],\n",
    "            'batch_size': [32, 64],\n",
    "            'epochs': [20],\n",
    "            'optimizer': ['Adam', 'SGD'],\n",
    "        }\n",
    "\n",
    "    def forward(self, X):\n",
    "        X = X[\"x_subgraph_feature\"]\n",
    "        out, _ = self.lstm(X)\n",
    "        Y = self.project(out)\n",
    "        return Y\n",
    "\n",
    "    def compute_loss(self, outputs, Y):\n",
    "        node_durations = Y[\"y_nodes_durations\"]\n",
    "        loss = self.loss_fn(outputs, node_durations)\n",
    "        return loss\n",
    "\n",
    "\n",
    "def init_LSTM_model() -> MModule | Any:\n",
    "    def default_model_params() -> Dict[str, Any]:\n",
    "        return {\n",
    "            \"num_layers\": 4,\n",
    "            \"bidirectional\": True,\n",
    "        }\n",
    "\n",
    "    sample_preprocessed_ds = preprocessed_train_ds\n",
    "    sample_x_dict = sample_preprocessed_ds.features[0]\n",
    "    sample_y_dict = sample_preprocessed_ds.labels[0]\n",
    "\n",
    "    x_node_feature_size = len(sample_x_dict[\"x_subgraph_feature\"][0])\n",
    "    y_nodes_durations_len = len(sample_y_dict[\"y_nodes_durations\"][0])\n",
    "    print(x_node_feature_size, y_nodes_durations_len)\n",
    "    model_params = conf.model_params\n",
    "    final_params = default_model_params()\n",
    "    for k, v in final_params.items():\n",
    "        final_params[k] = model_params.get(k, v)\n",
    "    print(final_params)\n",
    "    return LSTMModel(\n",
    "        feature_size=x_node_feature_size,\n",
    "        nodes_durations_len=y_nodes_durations_len,\n",
    "        **final_params\n",
    "    )"
   ]
  },
  {
   "cell_type": "code",
   "execution_count": 16,
   "metadata": {},
   "outputs": [],
   "source": [
    "\n",
    "\n",
    "class GRUModel(MModule):\n",
    "    def __init__(self, feature_size, nodes_durations_len, num_layers, bidirectional, **kwargs):\n",
    "        super().__init__(**kwargs)\n",
    "        self.gru = GRU(input_size=feature_size, hidden_size=feature_size, num_layers=num_layers, batch_first=True,\n",
    "                       bidirectional=bidirectional)\n",
    "        num_directions = 2 if bidirectional else 1\n",
    "        self.project = torch.nn.Linear(\n",
    "            in_features=feature_size * num_directions, out_features=nodes_durations_len)\n",
    "        self.loss_fn = L1Loss()\n",
    "\n",
    "    @staticmethod\n",
    "    def grid_search_model_params() -> Dict[str, List[Any]]:\n",
    "        return {\n",
    "            \"num_layers\": [4,  6, 8],\n",
    "            \"bidirectional\": [True, False],\n",
    "            \"learning_rate\": [1e-3, 1e-4, 1e-5],\n",
    "            'batch_size': [32, 64],\n",
    "            'epochs': [20],\n",
    "            'optimizer': ['Adam', 'SGD'],\n",
    "        }\n",
    "\n",
    "    def forward(self, X):\n",
    "        X = X[\"x_subgraph_feature\"]\n",
    "        out, _ = self.gru(X)\n",
    "        Y = self.project(out)\n",
    "        return Y\n",
    "\n",
    "    def compute_loss(self, outputs, Y):\n",
    "        node_durations = Y[\"y_nodes_durations\"]\n",
    "        loss = self.loss_fn(outputs, node_durations)\n",
    "        return loss\n",
    "\n",
    "\n",
    "def init_GRU_model() -> MModule | Any:\n",
    "    def default_model_params() -> Dict[str, Any]:\n",
    "        return {\n",
    "            \"num_layers\": 4,\n",
    "            \"bidirectional\": True,\n",
    "        }\n",
    "\n",
    "    sample_preprocessed_ds = preprocessed_train_ds\n",
    "    sample_x_dict = sample_preprocessed_ds.features[0]\n",
    "    sample_y_dict = sample_preprocessed_ds.labels[0]\n",
    "    x_node_feature_size = len(sample_x_dict[\"x_subgraph_feature\"][0])\n",
    "    y_nodes_durations_len = len(sample_y_dict[\"y_nodes_durations\"][0])\n",
    "    model_params = conf.model_params\n",
    "    final_params = default_model_params()\n",
    "    for k, v in final_params.items():\n",
    "        final_params[k] = model_params.get(k, v)\n",
    "    return GRUModel(\n",
    "        feature_size=x_node_feature_size,\n",
    "        nodes_durations_len=y_nodes_durations_len,\n",
    "        **final_params\n",
    "    )"
   ]
  },
  {
   "cell_type": "code",
   "execution_count": 17,
   "metadata": {},
   "outputs": [],
   "source": [
    "\n",
    "\n",
    "class GCNSubgraphModel(MModule):\n",
    "    def __init__(self, dim_feats, dim_h, dim_out, n_layers, dropout):\n",
    "        super(GCNSubgraphModel, self).__init__()\n",
    "        self.layers = nn.ModuleList()\n",
    "        # input layer\n",
    "        self.layers.append(GCNLayer(dim_feats, dim_h, F.relu, 0))\n",
    "        # hidden layers\n",
    "        for i in range(n_layers - 1):\n",
    "            self.layers.append(GCNLayer(dim_h, dim_h, F.relu, dropout))\n",
    "        # output layer\n",
    "        self.layers.append(GCNLayer(dim_h, dim_out, None, dropout))\n",
    "        self.loss_fn = L1Loss()\n",
    "\n",
    "    @staticmethod\n",
    "    def grid_search_model_params() -> Dict[str, List[Any]]:\n",
    "        return {\n",
    "            \"n_layers\": [4, 6, 8],\n",
    "            \"learning_rate\": [1e-3, 1e-4, 1e-5],\n",
    "            'batch_size': [32, 64],\n",
    "            'epochs': [20],\n",
    "            'optimizer': ['Adam', 'SGD'],\n",
    "        }\n",
    "\n",
    "    def forward(self, X):\n",
    "        adj, features = X[\"x_adj_matrix\"], X[\"x_subgraph_feature\"]\n",
    "        h = features\n",
    "        for layer in self.layers:\n",
    "            h = layer(adj, h)\n",
    "        return h\n",
    "\n",
    "    def compute_loss(self, outputs, Y) -> torch.Tensor:\n",
    "        y_nodes_durations = Y[\"y_nodes_durations\"]\n",
    "        loss = self.loss_fn(outputs, y_nodes_durations)\n",
    "        return loss\n",
    "\n",
    "\n",
    "def init_GCNSubgraph_model() -> MModule | Any:\n",
    "    def default_model_params() -> Dict[str, Any]:\n",
    "        return {\n",
    "            \"dim_h\": None,\n",
    "            \"n_layers\": 2,\n",
    "            \"dropout\": 0.1,\n",
    "        }\n",
    "    sample_preprocessed_ds = preprocessed_train_ds\n",
    "    sample_x_dict = sample_preprocessed_ds.features[0]\n",
    "    sample_y_dict = sample_preprocessed_ds.labels[0]\n",
    "    x_node_feature_size = len(sample_x_dict[\"x_subgraph_feature\"][0])\n",
    "    y_nodes_durations_len = len(sample_y_dict[\"y_nodes_durations\"][0])\n",
    "    model_params = conf.model_params\n",
    "    final_params = default_model_params()\n",
    "    for k, v in final_params.items():\n",
    "        final_params[k] = model_params.get(k, v)\n",
    "    if final_params[\"dim_h\"] is None:\n",
    "        final_params[\"dim_h\"] = x_node_feature_size\n",
    "    return GCNSubgraphModel(\n",
    "        dim_feats=x_node_feature_size,\n",
    "        dim_out=y_nodes_durations_len,\n",
    "        **final_params\n",
    "    )"
   ]
  },
  {
   "cell_type": "code",
   "execution_count": 18,
   "metadata": {},
   "outputs": [],
   "source": [
    "def init_Transformer_model() -> MModule | Any:\n",
    "    def default_model_params() -> Dict[str, Any]:\n",
    "        nhead: int = 8\n",
    "        d_hid: int = 512\n",
    "        nlayers: int = 6\n",
    "        dropout: float = 0.5\n",
    "        return {\n",
    "            \"nhead\": nhead,\n",
    "            \"d_hid\": d_hid,\n",
    "            \"nlayers\": nlayers,\n",
    "            \"dropout\": dropout\n",
    "        }\n",
    "    sample_preprocessed_ds = preprocessed_train_ds\n",
    "    sample_x_dict = sample_preprocessed_ds.features[0]\n",
    "    sample_y_dict = sample_preprocessed_ds.labels[0]\n",
    "    x_node_feature_size = len(sample_x_dict[\"x_subgraph_feature\"][0])\n",
    "    nodes_durations_len = len(sample_y_dict[\"y_nodes_durations\"][0])\n",
    "    model_params = conf.model_params\n",
    "    final_params = default_model_params()\n",
    "    for k, v in final_params.items():\n",
    "        final_params[k] = model_params.get(k, v)\n",
    "\n",
    "    nhead = final_params[\"nhead\"]\n",
    "    while x_node_feature_size % nhead != 0:\n",
    "        nhead -= 1\n",
    "    if nhead != final_params[\"nhead\"]:\n",
    "        final_params[\"nhead\"] = nhead\n",
    "        logging.info(f\"Transformer nhead set to {nhead}.\")\n",
    "        conf.model_params[\"nhead\"] = nhead\n",
    "\n",
    "    return TransformerModel(\n",
    "        d_model=x_node_feature_size,\n",
    "        output_d=nodes_durations_len,\n",
    "        **final_params\n",
    "    )"
   ]
  },
  {
   "cell_type": "code",
   "execution_count": 19,
   "metadata": {},
   "outputs": [],
   "source": [
    "class RNNModel(MModule):\n",
    "    def __init__(self, feature_size, nodes_durations_len, hidden_size, num_layers, bidirectional, **kwargs):\n",
    "        print(\n",
    "            f'feature_size: {feature_size}, nodes_durations_len: {nodes_durations_len}, num_layers: {num_layers}, bidirectional: {bidirectional}')\n",
    "        super().__init__(**kwargs)\n",
    "        self.hidden_size = hidden_size\n",
    "        self.input_size = feature_size\n",
    "        self.num_layers = num_layers\n",
    "        self.num_directions = 2 if bidirectional else 1\n",
    "        self.node_durations_len = 2\n",
    "        self.rnn = RNN(input_size=feature_size,\n",
    "                       hidden_size=hidden_size,\n",
    "                       num_layers=num_layers,\n",
    "                       batch_first=True,\n",
    "                       bidirectional=bidirectional)\n",
    "\n",
    "        self.project = torch.nn.Linear(\n",
    "            in_features=self.hidden_size * self.num_directions, out_features=nodes_durations_len)\n",
    "\n",
    "        self.loss_fn = L1Loss()\n",
    "\n",
    "    @staticmethod\n",
    "    def grid_search_model_params() -> Dict[str, List[Any]]:\n",
    "        return {\n",
    "            \"n_layers\": [4, 6, 8],\n",
    "            \"learning_rate\": [1e-3, 1e-4, 1e-5],\n",
    "            'batch_size': [32, 64],\n",
    "            'epochs': [20],\n",
    "            'optimizer': ['Adam', 'SGD'],\n",
    "        }\n",
    "\n",
    "    def forward(self, X):\n",
    "        # (batch_size, subgraph_size(seq_len), input_size)\n",
    "        X = X[\"x_subgraph_feature\"]\n",
    "        batch_size = X.size(0)\n",
    "        hidden = self.init_hidden(batch_size).cuda()\n",
    "        out, _ = self.rnn(X, hidden)  # (seq_len, batchsize, hidden_size)\n",
    "        Y = self.project(out)  # 16, 10, 2\n",
    "        return Y\n",
    "\n",
    "    def init_hidden(self, batch_size):\n",
    "        hidden = torch.zeros(\n",
    "            self.num_layers*self.num_directions, batch_size, self.hidden_size)\n",
    "        return hidden\n",
    "\n",
    "    def compute_loss(self, outputs, Y):\n",
    "        node_durations = Y[\"y_nodes_durations\"]\n",
    "        loss = self.loss_fn(outputs, node_durations)\n",
    "        return loss\n",
    "\n",
    "\n",
    "def init_RNN_model() -> MModule | Any:\n",
    "    def default_model_params() -> Dict[str, Any]:\n",
    "        return {\n",
    "            \"num_layers\": 4,\n",
    "            \"hidden_size\": 64,\n",
    "            \"bidirectional\": True,\n",
    "        }\n",
    "\n",
    "    sample_preprocessed_ds = preprocessed_train_ds\n",
    "    sample_x_dict = sample_preprocessed_ds.features[0]\n",
    "    sample_y_dict = sample_preprocessed_ds.labels[0]\n",
    "    x_node_feature_size = len(sample_x_dict[\"x_subgraph_feature\"][0])\n",
    "    y_nodes_durations_len = len(sample_y_dict[\"y_nodes_durations\"][0])\n",
    "    model_params = conf.model_params\n",
    "    final_params = default_model_params()\n",
    "    for k, v in final_params.items():\n",
    "        final_params[k] = model_params.get(k, v)\n",
    "    print(final_params)\n",
    "    return RNNModel(\n",
    "        feature_size=x_node_feature_size,\n",
    "        nodes_durations_len=y_nodes_durations_len,\n",
    "        **final_params\n",
    "    )"
   ]
  },
  {
   "cell_type": "code",
   "execution_count": 20,
   "metadata": {},
   "outputs": [
    {
     "name": "stdout",
     "output_type": "stream",
     "text": [
      "66 2\n",
      "{'num_layers': 4, 'bidirectional': True}\n",
      "\n",
      "/root/guohao/DLT-perf-model/notebooks/ckpts/P4_CPU80/LSTM\n",
      "[2024-01-11 07:19:20,511] {executor.py:321} INFO - ModelType.LSTM start single training.\n",
      "[2024-01-11 07:19:20,512] {executor.py:323} INFO - ModelType.LSTM training epoch 0\n"
     ]
    },
    {
     "name": "stderr",
     "output_type": "stream",
     "text": [
      "  0%|          | 0/2591 [00:00<?, ?it/s]"
     ]
    },
    {
     "name": "stdout",
     "output_type": "stream",
     "text": [
      "[2024-01-11 07:19:20,691] {executor.py:114} INFO - ModelType.LSTM trained for 0.179798949 seconds.\n",
      "[2024-01-11 07:19:20,695] {executor.py:115} INFO - ModelType.LSTM eval at step 0.\n",
      "[2024-01-11 07:19:32,970] {executor.py:120} INFO - ModelType.LSTM train loss: 0.20051905512809753, eval metrics: {'eval_loss': 0.22365104195636673, 'MRE': 0.26150121705012597, 'MAE': 0.276604849221324, 'RMSE': 231.91306660238175}\n",
      "[2024-01-11 07:19:32,977] {executor.py:363} INFO - Saving model at step 0 with loss 0.20051905512809753,save path: /root/guohao/DLT-perf-model/notebooks/ckpts/P4_CPU80/LSTM/single_train2024-01-11_07-19-20\n"
     ]
    },
    {
     "name": "stderr",
     "output_type": "stream",
     "text": [
      "100%|██████████| 2591/2591 [00:34<00:00, 75.56it/s] "
     ]
    },
    {
     "name": "stdout",
     "output_type": "stream",
     "text": [
      "[2024-01-11 07:19:54,805] {executor.py:323} INFO - ModelType.LSTM training epoch 1\n"
     ]
    },
    {
     "name": "stderr",
     "output_type": "stream",
     "text": [
      "\n",
      " 93%|█████████▎| 2398/2591 [00:19<00:01, 122.13it/s]"
     ]
    },
    {
     "name": "stdout",
     "output_type": "stream",
     "text": [
      "[2024-01-11 07:20:14,360] {executor.py:114} INFO - ModelType.LSTM trained for 53.848377249 seconds.\n",
      "[2024-01-11 07:20:14,361] {executor.py:115} INFO - ModelType.LSTM eval at step 5000.\n",
      "[2024-01-11 07:20:26,565] {executor.py:120} INFO - ModelType.LSTM train loss: 0.05113993212580681, eval metrics: {'eval_loss': 0.06327878026823014, 'MRE': 0.24693345009358475, 'MAE': 0.2266676266706184, 'RMSE': 154.33302177289946}\n",
      "[2024-01-11 07:20:26,572] {executor.py:363} INFO - Saving model at step 5000 with loss 0.05113993212580681,save path: /root/guohao/DLT-perf-model/notebooks/ckpts/P4_CPU80/LSTM/single_train2024-01-11_07-19-20\n"
     ]
    },
    {
     "name": "stderr",
     "output_type": "stream",
     "text": [
      "100%|██████████| 2591/2591 [00:33<00:00, 77.71it/s] "
     ]
    },
    {
     "name": "stdout",
     "output_type": "stream",
     "text": [
      "[2024-01-11 07:20:28,148] {executor.py:323} INFO - ModelType.LSTM training epoch 2\n"
     ]
    },
    {
     "name": "stderr",
     "output_type": "stream",
     "text": [
      "\n",
      "100%|██████████| 2591/2591 [00:21<00:00, 119.69it/s]"
     ]
    },
    {
     "name": "stdout",
     "output_type": "stream",
     "text": [
      "[2024-01-11 07:20:49,798] {executor.py:323} INFO - ModelType.LSTM training epoch 3\n"
     ]
    },
    {
     "name": "stderr",
     "output_type": "stream",
     "text": [
      "\n",
      " 86%|████████▌ | 2221/2591 [00:17<00:02, 124.01it/s]"
     ]
    },
    {
     "name": "stdout",
     "output_type": "stream",
     "text": [
      "[2024-01-11 07:21:07,780] {executor.py:114} INFO - ModelType.LSTM trained for 107.26889975 seconds.\n",
      "[2024-01-11 07:21:07,781] {executor.py:115} INFO - ModelType.LSTM eval at step 10000.\n",
      "[2024-01-11 07:21:18,606] {executor.py:120} INFO - ModelType.LSTM train loss: 0.11437487602233887, eval metrics: {'eval_loss': 0.05926153239341, 'MRE': 0.24810640785887794, 'MAE': 0.22317064961554564, 'RMSE': 154.21824265734668}\n",
      "[2024-01-11 07:21:18,612] {executor.py:363} INFO - Saving model at step 10000 with loss 0.11437487602233887,save path: /root/guohao/DLT-perf-model/notebooks/ckpts/P4_CPU80/LSTM/single_train2024-01-11_07-19-20\n"
     ]
    },
    {
     "name": "stderr",
     "output_type": "stream",
     "text": [
      "100%|██████████| 2591/2591 [00:31<00:00, 82.73it/s] "
     ]
    },
    {
     "name": "stdout",
     "output_type": "stream",
     "text": [
      "[2024-01-11 07:21:21,117] {executor.py:323} INFO - ModelType.LSTM training epoch 4\n"
     ]
    },
    {
     "name": "stderr",
     "output_type": "stream",
     "text": [
      "\n",
      "100%|██████████| 2591/2591 [00:17<00:00, 149.31it/s]"
     ]
    },
    {
     "name": "stdout",
     "output_type": "stream",
     "text": [
      "[2024-01-11 07:21:38,472] {executor.py:323} INFO - ModelType.LSTM training epoch 5\n"
     ]
    },
    {
     "name": "stderr",
     "output_type": "stream",
     "text": [
      "\n",
      " 79%|███████▉  | 2043/2591 [00:13<00:03, 156.53it/s]"
     ]
    },
    {
     "name": "stdout",
     "output_type": "stream",
     "text": [
      "[2024-01-11 07:21:51,657] {executor.py:114} INFO - ModelType.LSTM trained for 151.145951361 seconds.\n",
      "[2024-01-11 07:21:51,658] {executor.py:115} INFO - ModelType.LSTM eval at step 15000.\n",
      "[2024-01-11 07:22:02,226] {executor.py:120} INFO - ModelType.LSTM train loss: 0.04737558960914612, eval metrics: {'eval_loss': 0.05626555216727009, 'MRE': 0.23695267509673082, 'MAE': 0.21131716250455143, 'RMSE': 148.22078286885406}\n",
      "[2024-01-11 07:22:02,231] {executor.py:363} INFO - Saving model at step 15000 with loss 0.04737558960914612,save path: /root/guohao/DLT-perf-model/notebooks/ckpts/P4_CPU80/LSTM/single_train2024-01-11_07-19-20\n"
     ]
    },
    {
     "name": "stderr",
     "output_type": "stream",
     "text": [
      "100%|██████████| 2591/2591 [00:27<00:00, 94.59it/s] "
     ]
    },
    {
     "name": "stdout",
     "output_type": "stream",
     "text": [
      "[2024-01-11 07:22:05,867] {executor.py:323} INFO - ModelType.LSTM training epoch 6\n"
     ]
    },
    {
     "name": "stderr",
     "output_type": "stream",
     "text": [
      "\n",
      "100%|██████████| 2591/2591 [00:17<00:00, 150.01it/s]"
     ]
    },
    {
     "name": "stdout",
     "output_type": "stream",
     "text": [
      "[2024-01-11 07:22:23,141] {executor.py:323} INFO - ModelType.LSTM training epoch 7\n"
     ]
    },
    {
     "name": "stderr",
     "output_type": "stream",
     "text": [
      "\n",
      " 72%|███████▏  | 1853/2591 [00:11<00:04, 155.24it/s]"
     ]
    },
    {
     "name": "stdout",
     "output_type": "stream",
     "text": [
      "[2024-01-11 07:22:35,128] {executor.py:114} INFO - ModelType.LSTM trained for 194.616820423 seconds.\n",
      "[2024-01-11 07:22:35,129] {executor.py:115} INFO - ModelType.LSTM eval at step 20000.\n"
     ]
    },
    {
     "name": "stderr",
     "output_type": "stream",
     "text": [
      " 72%|███████▏  | 1853/2591 [00:27<00:04, 155.24it/s]"
     ]
    },
    {
     "name": "stdout",
     "output_type": "stream",
     "text": [
      "[2024-01-11 07:22:51,603] {executor.py:120} INFO - ModelType.LSTM train loss: 0.05066786706447601, eval metrics: {'eval_loss': 0.05541468053802436, 'MRE': 0.23406658573808997, 'MAE': 0.20691085631256773, 'RMSE': 145.1297491510054}\n",
      "[2024-01-11 07:22:51,608] {executor.py:363} INFO - Saving model at step 20000 with loss 0.05066786706447601,save path: /root/guohao/DLT-perf-model/notebooks/ckpts/P4_CPU80/LSTM/single_train2024-01-11_07-19-20\n"
     ]
    },
    {
     "name": "stderr",
     "output_type": "stream",
     "text": [
      "100%|██████████| 2591/2591 [00:33<00:00, 77.41it/s] "
     ]
    },
    {
     "name": "stdout",
     "output_type": "stream",
     "text": [
      "[2024-01-11 07:22:56,616] {executor.py:323} INFO - ModelType.LSTM training epoch 8\n"
     ]
    },
    {
     "name": "stderr",
     "output_type": "stream",
     "text": [
      "\n",
      "100%|██████████| 2591/2591 [00:16<00:00, 152.77it/s]"
     ]
    },
    {
     "name": "stdout",
     "output_type": "stream",
     "text": [
      "[2024-01-11 07:23:13,578] {executor.py:323} INFO - ModelType.LSTM training epoch 9\n"
     ]
    },
    {
     "name": "stderr",
     "output_type": "stream",
     "text": [
      "\n",
      " 65%|██████▍   | 1677/2591 [00:10<00:05, 156.39it/s]"
     ]
    },
    {
     "name": "stdout",
     "output_type": "stream",
     "text": [
      "[2024-01-11 07:23:24,393] {executor.py:114} INFO - ModelType.LSTM trained for 243.881647752 seconds.\n",
      "[2024-01-11 07:23:24,394] {executor.py:115} INFO - ModelType.LSTM eval at step 25000.\n",
      "[2024-01-11 07:23:35,005] {executor.py:120} INFO - ModelType.LSTM train loss: 0.05926769971847534, eval metrics: {'eval_loss': 0.052979211395160965, 'MRE': 0.2358233422829285, 'MAE': 0.20747440643891052, 'RMSE': 146.78840142973968}\n",
      "[2024-01-11 07:23:35,010] {executor.py:363} INFO - Saving model at step 25000 with loss 0.05926769971847534,save path: /root/guohao/DLT-perf-model/notebooks/ckpts/P4_CPU80/LSTM/single_train2024-01-11_07-19-20\n"
     ]
    },
    {
     "name": "stderr",
     "output_type": "stream",
     "text": [
      "100%|██████████| 2591/2591 [00:27<00:00, 94.58it/s] "
     ]
    },
    {
     "name": "stdout",
     "output_type": "stream",
     "text": [
      "[2024-01-11 07:23:40,976] {executor.py:323} INFO - ModelType.LSTM training epoch 10\n"
     ]
    },
    {
     "name": "stderr",
     "output_type": "stream",
     "text": [
      "\n",
      "100%|██████████| 2591/2591 [00:17<00:00, 151.05it/s]"
     ]
    },
    {
     "name": "stdout",
     "output_type": "stream",
     "text": [
      "[2024-01-11 07:23:58,131] {executor.py:323} INFO - ModelType.LSTM training epoch 11\n"
     ]
    },
    {
     "name": "stderr",
     "output_type": "stream",
     "text": [
      "\n",
      " 58%|█████▊    | 1499/2591 [00:09<00:06, 156.28it/s]"
     ]
    },
    {
     "name": "stdout",
     "output_type": "stream",
     "text": [
      "[2024-01-11 07:24:07,903] {executor.py:114} INFO - ModelType.LSTM trained for 287.391540003 seconds.\n",
      "[2024-01-11 07:24:07,904] {executor.py:115} INFO - ModelType.LSTM eval at step 30000.\n",
      "[2024-01-11 07:24:18,519] {executor.py:120} INFO - ModelType.LSTM train loss: 0.042176634073257446, eval metrics: {'eval_loss': 0.05160486861244455, 'MRE': 0.22554395675984315, 'MAE': 0.19690169700896498, 'RMSE': 139.00179079300833}\n",
      "[2024-01-11 07:24:18,525] {executor.py:363} INFO - Saving model at step 30000 with loss 0.042176634073257446,save path: /root/guohao/DLT-perf-model/notebooks/ckpts/P4_CPU80/LSTM/single_train2024-01-11_07-19-20\n"
     ]
    },
    {
     "name": "stderr",
     "output_type": "stream",
     "text": [
      "100%|██████████| 2591/2591 [00:27<00:00, 94.06it/s] "
     ]
    },
    {
     "name": "stdout",
     "output_type": "stream",
     "text": [
      "[2024-01-11 07:24:25,681] {executor.py:323} INFO - ModelType.LSTM training epoch 12\n"
     ]
    },
    {
     "name": "stderr",
     "output_type": "stream",
     "text": [
      "\n",
      "100%|██████████| 2591/2591 [00:16<00:00, 153.26it/s]"
     ]
    },
    {
     "name": "stdout",
     "output_type": "stream",
     "text": [
      "[2024-01-11 07:24:42,589] {executor.py:323} INFO - ModelType.LSTM training epoch 13\n"
     ]
    },
    {
     "name": "stderr",
     "output_type": "stream",
     "text": [
      "\n",
      " 50%|█████     | 1307/2591 [00:08<00:08, 153.33it/s]"
     ]
    },
    {
     "name": "stdout",
     "output_type": "stream",
     "text": [
      "[2024-01-11 07:24:51,312] {executor.py:114} INFO - ModelType.LSTM trained for 330.800175871 seconds.\n",
      "[2024-01-11 07:24:51,312] {executor.py:115} INFO - ModelType.LSTM eval at step 35000.\n",
      "[2024-01-11 07:25:01,956] {executor.py:120} INFO - ModelType.LSTM train loss: 0.06042042374610901, eval metrics: {'eval_loss': 0.050538900867801224, 'MRE': 0.22470051628349277, 'MAE': 0.1921347644716972, 'RMSE': 134.71580140929802}\n",
      "[2024-01-11 07:25:01,963] {executor.py:363} INFO - Saving model at step 35000 with loss 0.06042042374610901,save path: /root/guohao/DLT-perf-model/notebooks/ckpts/P4_CPU80/LSTM/single_train2024-01-11_07-19-20\n"
     ]
    },
    {
     "name": "stderr",
     "output_type": "stream",
     "text": [
      "100%|██████████| 2591/2591 [00:27<00:00, 93.26it/s] "
     ]
    },
    {
     "name": "stdout",
     "output_type": "stream",
     "text": [
      "[2024-01-11 07:25:10,374] {executor.py:323} INFO - ModelType.LSTM training epoch 14\n"
     ]
    },
    {
     "name": "stderr",
     "output_type": "stream",
     "text": [
      "\n",
      "100%|██████████| 2591/2591 [00:16<00:00, 155.62it/s]"
     ]
    },
    {
     "name": "stdout",
     "output_type": "stream",
     "text": [
      "[2024-01-11 07:25:27,026] {executor.py:323} INFO - ModelType.LSTM training epoch 15\n"
     ]
    },
    {
     "name": "stderr",
     "output_type": "stream",
     "text": [
      "\n",
      " 44%|████▍     | 1134/2591 [00:07<00:09, 150.57it/s]"
     ]
    },
    {
     "name": "stdout",
     "output_type": "stream",
     "text": [
      "[2024-01-11 07:25:34,488] {executor.py:114} INFO - ModelType.LSTM trained for 373.976443844 seconds.\n",
      "[2024-01-11 07:25:34,488] {executor.py:115} INFO - ModelType.LSTM eval at step 40000.\n",
      "[2024-01-11 07:25:45,195] {executor.py:120} INFO - ModelType.LSTM train loss: 0.052654415369033813, eval metrics: {'eval_loss': 0.04968392555828882, 'MRE': 0.21716339431755477, 'MAE': 0.18337956227713753, 'RMSE': 127.75793941222699}\n",
      "[2024-01-11 07:25:45,202] {executor.py:363} INFO - Saving model at step 40000 with loss 0.052654415369033813,save path: /root/guohao/DLT-perf-model/notebooks/ckpts/P4_CPU80/LSTM/single_train2024-01-11_07-19-20\n"
     ]
    },
    {
     "name": "stderr",
     "output_type": "stream",
     "text": [
      "100%|██████████| 2591/2591 [00:28<00:00, 92.32it/s] "
     ]
    },
    {
     "name": "stdout",
     "output_type": "stream",
     "text": [
      "[2024-01-11 07:25:55,095] {executor.py:323} INFO - ModelType.LSTM training epoch 16\n"
     ]
    },
    {
     "name": "stderr",
     "output_type": "stream",
     "text": [
      "\n",
      "100%|██████████| 2591/2591 [00:16<00:00, 155.18it/s]"
     ]
    },
    {
     "name": "stdout",
     "output_type": "stream",
     "text": [
      "[2024-01-11 07:26:11,793] {executor.py:323} INFO - ModelType.LSTM training epoch 17\n"
     ]
    },
    {
     "name": "stderr",
     "output_type": "stream",
     "text": [
      "\n",
      " 36%|███▋      | 941/2591 [00:06<00:10, 156.73it/s]"
     ]
    },
    {
     "name": "stdout",
     "output_type": "stream",
     "text": [
      "[2024-01-11 07:26:17,915] {executor.py:114} INFO - ModelType.LSTM trained for 417.403957019 seconds.\n",
      "[2024-01-11 07:26:17,916] {executor.py:115} INFO - ModelType.LSTM eval at step 45000.\n",
      "[2024-01-11 07:26:28,523] {executor.py:120} INFO - ModelType.LSTM train loss: 0.027614064514636993, eval metrics: {'eval_loss': 0.048792201685227014, 'MRE': 0.22161457464929707, 'MAE': 0.18984900294622378, 'RMSE': 133.12962838608215}\n",
      "[2024-01-11 07:26:28,529] {executor.py:363} INFO - Saving model at step 45000 with loss 0.027614064514636993,save path: /root/guohao/DLT-perf-model/notebooks/ckpts/P4_CPU80/LSTM/single_train2024-01-11_07-19-20\n"
     ]
    },
    {
     "name": "stderr",
     "output_type": "stream",
     "text": [
      "100%|██████████| 2591/2591 [00:27<00:00, 93.23it/s] "
     ]
    },
    {
     "name": "stdout",
     "output_type": "stream",
     "text": [
      "[2024-01-11 07:26:39,587] {executor.py:323} INFO - ModelType.LSTM training epoch 18\n"
     ]
    },
    {
     "name": "stderr",
     "output_type": "stream",
     "text": [
      "\n",
      "100%|██████████| 2591/2591 [00:16<00:00, 152.52it/s]"
     ]
    },
    {
     "name": "stdout",
     "output_type": "stream",
     "text": [
      "[2024-01-11 07:26:56,577] {executor.py:323} INFO - ModelType.LSTM training epoch 19\n"
     ]
    },
    {
     "name": "stderr",
     "output_type": "stream",
     "text": [
      "\n",
      " 30%|██▉       | 765/2591 [00:04<00:11, 155.93it/s]"
     ]
    },
    {
     "name": "stdout",
     "output_type": "stream",
     "text": [
      "[2024-01-11 07:27:01,572] {executor.py:114} INFO - ModelType.LSTM trained for 461.060378983 seconds.\n",
      "[2024-01-11 07:27:01,572] {executor.py:115} INFO - ModelType.LSTM eval at step 50000.\n",
      "[2024-01-11 07:27:12,172] {executor.py:120} INFO - ModelType.LSTM train loss: 0.058101486414670944, eval metrics: {'eval_loss': 0.04870470200152214, 'MRE': 0.21952299172172224, 'MAE': 0.1887483792576202, 'RMSE': 133.8463513008401}\n",
      "[2024-01-11 07:27:12,177] {executor.py:363} INFO - Saving model at step 50000 with loss 0.058101486414670944,save path: /root/guohao/DLT-perf-model/notebooks/ckpts/P4_CPU80/LSTM/single_train2024-01-11_07-19-20\n"
     ]
    },
    {
     "name": "stderr",
     "output_type": "stream",
     "text": [
      "100%|██████████| 2591/2591 [00:27<00:00, 94.16it/s] "
     ]
    },
    {
     "name": "stdout",
     "output_type": "stream",
     "text": [
      "[2024-01-11 07:27:24,095] {executor.py:323} INFO - ModelType.LSTM training epoch 20\n"
     ]
    },
    {
     "name": "stderr",
     "output_type": "stream",
     "text": [
      "\n",
      "100%|██████████| 2591/2591 [00:16<00:00, 152.78it/s]"
     ]
    },
    {
     "name": "stdout",
     "output_type": "stream",
     "text": [
      "[2024-01-11 07:27:41,056] {executor.py:323} INFO - ModelType.LSTM training epoch 21\n"
     ]
    },
    {
     "name": "stderr",
     "output_type": "stream",
     "text": [
      "\n",
      " 22%|██▏       | 581/2591 [00:04<00:14, 141.28it/s]"
     ]
    },
    {
     "name": "stdout",
     "output_type": "stream",
     "text": [
      "[2024-01-11 07:27:45,228] {executor.py:114} INFO - ModelType.LSTM trained for 504.716871228 seconds.\n",
      "[2024-01-11 07:27:45,229] {executor.py:115} INFO - ModelType.LSTM eval at step 55000.\n",
      "[2024-01-11 07:27:55,842] {executor.py:120} INFO - ModelType.LSTM train loss: 0.04186158627271652, eval metrics: {'eval_loss': 0.049732023284974614, 'MRE': 0.20473400820472862, 'MAE': 0.17627405059653486, 'RMSE': 119.37152364661041}\n",
      "[2024-01-11 07:27:55,848] {executor.py:363} INFO - Saving model at step 55000 with loss 0.04186158627271652,save path: /root/guohao/DLT-perf-model/notebooks/ckpts/P4_CPU80/LSTM/single_train2024-01-11_07-19-20\n"
     ]
    },
    {
     "name": "stderr",
     "output_type": "stream",
     "text": [
      "100%|██████████| 2591/2591 [00:28<00:00, 89.45it/s] "
     ]
    },
    {
     "name": "stdout",
     "output_type": "stream",
     "text": [
      "[2024-01-11 07:28:10,024] {executor.py:323} INFO - ModelType.LSTM training epoch 22\n"
     ]
    },
    {
     "name": "stderr",
     "output_type": "stream",
     "text": [
      "\n",
      "100%|██████████| 2591/2591 [00:17<00:00, 146.09it/s]"
     ]
    },
    {
     "name": "stdout",
     "output_type": "stream",
     "text": [
      "[2024-01-11 07:28:27,762] {executor.py:323} INFO - ModelType.LSTM training epoch 23\n"
     ]
    },
    {
     "name": "stderr",
     "output_type": "stream",
     "text": [
      "\n",
      " 16%|█▌        | 403/2591 [00:02<00:14, 146.44it/s]"
     ]
    },
    {
     "name": "stdout",
     "output_type": "stream",
     "text": [
      "[2024-01-11 07:28:30,564] {executor.py:114} INFO - ModelType.LSTM trained for 550.052498705 seconds.\n",
      "[2024-01-11 07:28:30,565] {executor.py:115} INFO - ModelType.LSTM eval at step 60000.\n"
     ]
    },
    {
     "name": "stderr",
     "output_type": "stream",
     "text": [
      " 16%|█▌        | 403/2591 [00:12<00:14, 146.44it/s]"
     ]
    },
    {
     "name": "stdout",
     "output_type": "stream",
     "text": [
      "[2024-01-11 07:28:41,147] {executor.py:120} INFO - ModelType.LSTM train loss: 0.04137866199016571, eval metrics: {'eval_loss': 0.04921992201684852, 'MRE': 0.23898974014172727, 'MAE': 0.20236101820072647, 'RMSE': 140.5613765494348}\n",
      "[2024-01-11 07:28:41,153] {executor.py:363} INFO - Saving model at step 60000 with loss 0.04137866199016571,save path: /root/guohao/DLT-perf-model/notebooks/ckpts/P4_CPU80/LSTM/single_train2024-01-11_07-19-20\n"
     ]
    },
    {
     "name": "stderr",
     "output_type": "stream",
     "text": [
      "100%|██████████| 2591/2591 [00:28<00:00, 89.72it/s] "
     ]
    },
    {
     "name": "stdout",
     "output_type": "stream",
     "text": [
      "[2024-01-11 07:28:56,645] {executor.py:323} INFO - ModelType.LSTM training epoch 24\n"
     ]
    },
    {
     "name": "stderr",
     "output_type": "stream",
     "text": [
      "\n",
      "100%|██████████| 2591/2591 [00:17<00:00, 143.96it/s]"
     ]
    },
    {
     "name": "stdout",
     "output_type": "stream",
     "text": [
      "[2024-01-11 07:29:14,644] {executor.py:323} INFO - ModelType.LSTM training epoch 25\n"
     ]
    },
    {
     "name": "stderr",
     "output_type": "stream",
     "text": [
      "\n",
      "  9%|▊         | 223/2591 [00:01<00:16, 144.81it/s]"
     ]
    },
    {
     "name": "stdout",
     "output_type": "stream",
     "text": [
      "[2024-01-11 07:29:16,222] {executor.py:114} INFO - ModelType.LSTM trained for 595.710857077 seconds.\n",
      "[2024-01-11 07:29:16,223] {executor.py:115} INFO - ModelType.LSTM eval at step 65000.\n",
      "[2024-01-11 07:29:26,818] {executor.py:120} INFO - ModelType.LSTM train loss: 0.024551179260015488, eval metrics: {'eval_loss': 0.04820146799114718, 'MRE': 0.2204265130017724, 'MAE': 0.18855750356882692, 'RMSE': 134.34119609394713}\n",
      "[2024-01-11 07:29:26,824] {executor.py:363} INFO - Saving model at step 65000 with loss 0.024551179260015488,save path: /root/guohao/DLT-perf-model/notebooks/ckpts/P4_CPU80/LSTM/single_train2024-01-11_07-19-20\n"
     ]
    },
    {
     "name": "stderr",
     "output_type": "stream",
     "text": [
      "100%|██████████| 2591/2591 [00:28<00:00, 91.03it/s] "
     ]
    },
    {
     "name": "stdout",
     "output_type": "stream",
     "text": [
      "[2024-01-11 07:29:43,110] {executor.py:323} INFO - ModelType.LSTM training epoch 26\n"
     ]
    },
    {
     "name": "stderr",
     "output_type": "stream",
     "text": [
      "\n",
      "100%|██████████| 2591/2591 [00:17<00:00, 144.63it/s]"
     ]
    },
    {
     "name": "stdout",
     "output_type": "stream",
     "text": [
      "[2024-01-11 07:30:01,027] {executor.py:323} INFO - ModelType.LSTM training epoch 27\n"
     ]
    },
    {
     "name": "stderr",
     "output_type": "stream",
     "text": [
      "\n",
      "  2%|▏         | 42/2591 [00:00<00:18, 138.01it/s]"
     ]
    },
    {
     "name": "stdout",
     "output_type": "stream",
     "text": [
      "[2024-01-11 07:30:01,354] {executor.py:114} INFO - ModelType.LSTM trained for 640.842921723 seconds.\n",
      "[2024-01-11 07:30:01,355] {executor.py:115} INFO - ModelType.LSTM eval at step 70000.\n",
      "[2024-01-11 07:30:11,956] {executor.py:120} INFO - ModelType.LSTM train loss: 0.05316123366355896, eval metrics: {'eval_loss': 0.04715906611402586, 'MRE': 0.21697418211565406, 'MAE': 0.18560509819899398, 'RMSE': 130.53812004934562}\n",
      "[2024-01-11 07:30:11,961] {executor.py:363} INFO - Saving model at step 70000 with loss 0.05316123366355896,save path: /root/guohao/DLT-perf-model/notebooks/ckpts/P4_CPU80/LSTM/single_train2024-01-11_07-19-20\n"
     ]
    },
    {
     "name": "stderr",
     "output_type": "stream",
     "text": [
      "100%|██████████| 2591/2591 [00:33<00:00, 77.07it/s] "
     ]
    },
    {
     "name": "stdout",
     "output_type": "stream",
     "text": [
      "[2024-01-11 07:30:34,649] {executor.py:323} INFO - ModelType.LSTM training epoch 28\n"
     ]
    },
    {
     "name": "stderr",
     "output_type": "stream",
     "text": [
      "\n",
      " 94%|█████████▍| 2447/2591 [00:21<00:01, 112.36it/s]"
     ]
    },
    {
     "name": "stdout",
     "output_type": "stream",
     "text": [
      "[2024-01-11 07:30:55,816] {executor.py:114} INFO - ModelType.LSTM trained for 695.304482158 seconds.\n",
      "[2024-01-11 07:30:55,817] {executor.py:115} INFO - ModelType.LSTM eval at step 75000.\n",
      "[2024-01-11 07:31:08,154] {executor.py:120} INFO - ModelType.LSTM train loss: 0.055110763758420944, eval metrics: {'eval_loss': 0.04662788653254966, 'MRE': 0.21271589563557355, 'MAE': 0.18203637894372907, 'RMSE': 127.54522286777404}\n",
      "[2024-01-11 07:31:08,160] {executor.py:363} INFO - Saving model at step 75000 with loss 0.055110763758420944,save path: /root/guohao/DLT-perf-model/notebooks/ckpts/P4_CPU80/LSTM/single_train2024-01-11_07-19-20\n"
     ]
    },
    {
     "name": "stderr",
     "output_type": "stream",
     "text": [
      "100%|██████████| 2591/2591 [00:34<00:00, 74.38it/s] "
     ]
    },
    {
     "name": "stdout",
     "output_type": "stream",
     "text": [
      "[2024-01-11 07:31:09,486] {executor.py:323} INFO - ModelType.LSTM training epoch 29\n"
     ]
    },
    {
     "name": "stderr",
     "output_type": "stream",
     "text": [
      "\n",
      "100%|██████████| 2591/2591 [00:22<00:00, 115.67it/s]"
     ]
    },
    {
     "name": "stdout",
     "output_type": "stream",
     "text": [
      "[2024-01-11 07:31:31,889] {executor.py:323} INFO - ModelType.LSTM training epoch 30\n"
     ]
    },
    {
     "name": "stderr",
     "output_type": "stream",
     "text": [
      "\n",
      " 87%|████████▋ | 2267/2591 [00:19<00:02, 118.52it/s]"
     ]
    },
    {
     "name": "stdout",
     "output_type": "stream",
     "text": [
      "[2024-01-11 07:31:51,298] {executor.py:114} INFO - ModelType.LSTM trained for 750.786394545 seconds.\n",
      "[2024-01-11 07:31:51,298] {executor.py:115} INFO - ModelType.LSTM eval at step 80000.\n",
      "[2024-01-11 07:32:03,572] {executor.py:120} INFO - ModelType.LSTM train loss: 0.02615884318947792, eval metrics: {'eval_loss': 0.04629815714750111, 'MRE': 0.20109070063145468, 'MAE': 0.17004524312244554, 'RMSE': 118.13495304650525}\n",
      "[2024-01-11 07:32:03,578] {executor.py:363} INFO - Saving model at step 80000 with loss 0.02615884318947792,save path: /root/guohao/DLT-perf-model/notebooks/ckpts/P4_CPU80/LSTM/single_train2024-01-11_07-19-20\n"
     ]
    },
    {
     "name": "stderr",
     "output_type": "stream",
     "text": [
      "100%|██████████| 2591/2591 [00:34<00:00, 74.99it/s] "
     ]
    },
    {
     "name": "stdout",
     "output_type": "stream",
     "text": [
      "[2024-01-11 07:32:06,441] {executor.py:323} INFO - ModelType.LSTM training epoch 31\n"
     ]
    },
    {
     "name": "stderr",
     "output_type": "stream",
     "text": [
      "\n",
      "100%|██████████| 2591/2591 [00:22<00:00, 117.27it/s]"
     ]
    },
    {
     "name": "stdout",
     "output_type": "stream",
     "text": [
      "[2024-01-11 07:32:28,538] {executor.py:323} INFO - ModelType.LSTM training epoch 32\n"
     ]
    },
    {
     "name": "stderr",
     "output_type": "stream",
     "text": [
      "\n",
      " 81%|████████  | 2086/2591 [00:17<00:04, 116.52it/s]"
     ]
    },
    {
     "name": "stdout",
     "output_type": "stream",
     "text": [
      "[2024-01-11 07:32:46,363] {executor.py:114} INFO - ModelType.LSTM trained for 805.851553383 seconds.\n",
      "[2024-01-11 07:32:46,364] {executor.py:115} INFO - ModelType.LSTM eval at step 85000.\n",
      "[2024-01-11 07:32:58,604] {executor.py:120} INFO - ModelType.LSTM train loss: 0.03712796792387962, eval metrics: {'eval_loss': 0.04634683582931532, 'MRE': 0.20614050312972776, 'MAE': 0.17488845564993763, 'RMSE': 122.355602320587}\n",
      "[2024-01-11 07:32:58,610] {executor.py:363} INFO - Saving model at step 85000 with loss 0.03712796792387962,save path: /root/guohao/DLT-perf-model/notebooks/ckpts/P4_CPU80/LSTM/single_train2024-01-11_07-19-20\n"
     ]
    },
    {
     "name": "stderr",
     "output_type": "stream",
     "text": [
      "100%|██████████| 2591/2591 [00:34<00:00, 75.07it/s] "
     ]
    },
    {
     "name": "stdout",
     "output_type": "stream",
     "text": [
      "[2024-01-11 07:33:03,053] {executor.py:323} INFO - ModelType.LSTM training epoch 33\n"
     ]
    },
    {
     "name": "stderr",
     "output_type": "stream",
     "text": [
      "\n",
      "100%|██████████| 2591/2591 [00:21<00:00, 118.61it/s]"
     ]
    },
    {
     "name": "stdout",
     "output_type": "stream",
     "text": [
      "[2024-01-11 07:33:24,901] {executor.py:323} INFO - ModelType.LSTM training epoch 34\n"
     ]
    },
    {
     "name": "stderr",
     "output_type": "stream",
     "text": [
      "\n",
      " 73%|███████▎  | 1895/2591 [00:16<00:05, 117.75it/s]"
     ]
    },
    {
     "name": "stdout",
     "output_type": "stream",
     "text": [
      "[2024-01-11 07:33:41,298] {executor.py:114} INFO - ModelType.LSTM trained for 860.786801578 seconds.\n",
      "[2024-01-11 07:33:41,299] {executor.py:115} INFO - ModelType.LSTM eval at step 90000.\n",
      "[2024-01-11 07:33:53,570] {executor.py:120} INFO - ModelType.LSTM train loss: 0.07915274053812027, eval metrics: {'eval_loss': 0.0463280563070695, 'MRE': 0.21543302719634919, 'MAE': 0.18387858765634751, 'RMSE': 128.96925474124228}\n",
      "[2024-01-11 07:33:53,580] {executor.py:363} INFO - Saving model at step 90000 with loss 0.07915274053812027,save path: /root/guohao/DLT-perf-model/notebooks/ckpts/P4_CPU80/LSTM/single_train2024-01-11_07-19-20\n"
     ]
    },
    {
     "name": "stderr",
     "output_type": "stream",
     "text": [
      "100%|██████████| 2591/2591 [00:34<00:00, 74.68it/s] "
     ]
    },
    {
     "name": "stdout",
     "output_type": "stream",
     "text": [
      "[2024-01-11 07:33:59,598] {executor.py:323} INFO - ModelType.LSTM training epoch 35\n"
     ]
    },
    {
     "name": "stderr",
     "output_type": "stream",
     "text": [
      "\n",
      "100%|██████████| 2591/2591 [00:21<00:00, 118.78it/s]"
     ]
    },
    {
     "name": "stdout",
     "output_type": "stream",
     "text": [
      "[2024-01-11 07:34:21,414] {executor.py:323} INFO - ModelType.LSTM training epoch 36\n"
     ]
    },
    {
     "name": "stderr",
     "output_type": "stream",
     "text": [
      "\n",
      " 66%|██████▋   | 1719/2591 [00:14<00:07, 117.41it/s]"
     ]
    },
    {
     "name": "stdout",
     "output_type": "stream",
     "text": [
      "[2024-01-11 07:34:36,044] {executor.py:114} INFO - ModelType.LSTM trained for 915.532492388 seconds.\n",
      "[2024-01-11 07:34:36,045] {executor.py:115} INFO - ModelType.LSTM eval at step 95000.\n",
      "[2024-01-11 07:34:54,171] {executor.py:120} INFO - ModelType.LSTM train loss: 0.033727169036865234, eval metrics: {'eval_loss': 0.04663329019063354, 'MRE': 0.21882968277556694, 'MAE': 0.18737106290081149, 'RMSE': 133.0593020275259}\n",
      "[2024-01-11 07:34:54,182] {executor.py:363} INFO - Saving model at step 95000 with loss 0.033727169036865234,save path: /root/guohao/DLT-perf-model/notebooks/ckpts/P4_CPU80/LSTM/single_train2024-01-11_07-19-20\n"
     ]
    },
    {
     "name": "stderr",
     "output_type": "stream",
     "text": [
      "100%|██████████| 2591/2591 [00:40<00:00, 64.26it/s] "
     ]
    },
    {
     "name": "stdout",
     "output_type": "stream",
     "text": [
      "[2024-01-11 07:35:01,735] {executor.py:323} INFO - ModelType.LSTM training epoch 37\n"
     ]
    },
    {
     "name": "stderr",
     "output_type": "stream",
     "text": [
      "\n",
      "100%|██████████| 2591/2591 [00:21<00:00, 118.56it/s]"
     ]
    },
    {
     "name": "stdout",
     "output_type": "stream",
     "text": [
      "[2024-01-11 07:35:23,590] {executor.py:323} INFO - ModelType.LSTM training epoch 38\n"
     ]
    },
    {
     "name": "stderr",
     "output_type": "stream",
     "text": [
      "\n",
      " 59%|█████▉    | 1533/2591 [00:12<00:08, 117.90it/s]"
     ]
    },
    {
     "name": "stdout",
     "output_type": "stream",
     "text": [
      "[2024-01-11 07:35:36,533] {executor.py:114} INFO - ModelType.LSTM trained for 976.021072379 seconds.\n",
      "[2024-01-11 07:35:36,533] {executor.py:115} INFO - ModelType.LSTM eval at step 100000.\n",
      "[2024-01-11 07:35:48,810] {executor.py:120} INFO - ModelType.LSTM train loss: 0.027890190482139587, eval metrics: {'eval_loss': 0.04604561476458968, 'MRE': 0.20965390128384284, 'MAE': 0.17900613234340798, 'RMSE': 125.80206217785414}\n",
      "[2024-01-11 07:35:48,818] {executor.py:363} INFO - Saving model at step 100000 with loss 0.027890190482139587,save path: /root/guohao/DLT-perf-model/notebooks/ckpts/P4_CPU80/LSTM/single_train2024-01-11_07-19-20\n"
     ]
    },
    {
     "name": "stderr",
     "output_type": "stream",
     "text": [
      "100%|██████████| 2591/2591 [00:34<00:00, 75.04it/s] "
     ]
    },
    {
     "name": "stdout",
     "output_type": "stream",
     "text": [
      "[2024-01-11 07:35:58,119] {executor.py:323} INFO - ModelType.LSTM training epoch 39\n"
     ]
    },
    {
     "name": "stderr",
     "output_type": "stream",
     "text": [
      "\n",
      "100%|██████████| 2591/2591 [00:22<00:00, 117.75it/s]"
     ]
    },
    {
     "name": "stdout",
     "output_type": "stream",
     "text": [
      "[2024-01-11 07:36:20,126] {executor.py:323} INFO - ModelType.LSTM training epoch 40\n"
     ]
    },
    {
     "name": "stderr",
     "output_type": "stream",
     "text": [
      "\n",
      " 52%|█████▏    | 1353/2591 [00:11<00:10, 119.00it/s]"
     ]
    },
    {
     "name": "stdout",
     "output_type": "stream",
     "text": [
      "[2024-01-11 07:36:31,554] {executor.py:114} INFO - ModelType.LSTM trained for 1031.042135267 seconds.\n",
      "[2024-01-11 07:36:31,554] {executor.py:115} INFO - ModelType.LSTM eval at step 105000.\n",
      "[2024-01-11 07:36:43,771] {executor.py:120} INFO - ModelType.LSTM train loss: 0.029450953006744385, eval metrics: {'eval_loss': 0.04554496913382866, 'MRE': 0.21987543129733209, 'MAE': 0.18694542760193192, 'RMSE': 130.9969932256514}\n",
      "[2024-01-11 07:36:43,777] {executor.py:363} INFO - Saving model at step 105000 with loss 0.029450953006744385,save path: /root/guohao/DLT-perf-model/notebooks/ckpts/P4_CPU80/LSTM/single_train2024-01-11_07-19-20\n"
     ]
    },
    {
     "name": "stderr",
     "output_type": "stream",
     "text": [
      "100%|██████████| 2591/2591 [00:34<00:00, 75.11it/s] "
     ]
    },
    {
     "name": "stdout",
     "output_type": "stream",
     "text": [
      "[2024-01-11 07:36:54,626] {executor.py:323} INFO - ModelType.LSTM training epoch 41\n"
     ]
    },
    {
     "name": "stderr",
     "output_type": "stream",
     "text": [
      "\n",
      "100%|██████████| 2591/2591 [00:22<00:00, 117.77it/s]"
     ]
    },
    {
     "name": "stdout",
     "output_type": "stream",
     "text": [
      "[2024-01-11 07:37:16,628] {executor.py:323} INFO - ModelType.LSTM training epoch 42\n"
     ]
    },
    {
     "name": "stderr",
     "output_type": "stream",
     "text": [
      "\n",
      " 45%|████▌     | 1176/2591 [00:08<00:09, 146.85it/s]"
     ]
    },
    {
     "name": "stdout",
     "output_type": "stream",
     "text": [
      "[2024-01-11 07:37:25,623] {executor.py:114} INFO - ModelType.LSTM trained for 1085.111609468 seconds.\n",
      "[2024-01-11 07:37:25,624] {executor.py:115} INFO - ModelType.LSTM eval at step 110000.\n",
      "[2024-01-11 07:37:36,226] {executor.py:120} INFO - ModelType.LSTM train loss: 0.033354658633470535, eval metrics: {'eval_loss': 0.04558556843055147, 'MRE': 0.22195503943858585, 'MAE': 0.1877935230075764, 'RMSE': 131.8983442824323}\n",
      "[2024-01-11 07:37:36,231] {executor.py:363} INFO - Saving model at step 110000 with loss 0.033354658633470535,save path: /root/guohao/DLT-perf-model/notebooks/ckpts/P4_CPU80/LSTM/single_train2024-01-11_07-19-20\n"
     ]
    },
    {
     "name": "stderr",
     "output_type": "stream",
     "text": [
      "100%|██████████| 2591/2591 [00:29<00:00, 88.04it/s] "
     ]
    },
    {
     "name": "stdout",
     "output_type": "stream",
     "text": [
      "[2024-01-11 07:37:46,061] {executor.py:323} INFO - ModelType.LSTM training epoch 43\n"
     ]
    },
    {
     "name": "stderr",
     "output_type": "stream",
     "text": [
      "\n",
      "100%|██████████| 2591/2591 [00:18<00:00, 142.42it/s]"
     ]
    },
    {
     "name": "stdout",
     "output_type": "stream",
     "text": [
      "[2024-01-11 07:38:04,256] {executor.py:323} INFO - ModelType.LSTM training epoch 44\n"
     ]
    },
    {
     "name": "stderr",
     "output_type": "stream",
     "text": [
      "\n",
      " 38%|███▊      | 988/2591 [00:06<00:11, 145.24it/s]"
     ]
    },
    {
     "name": "stdout",
     "output_type": "stream",
     "text": [
      "[2024-01-11 07:38:11,146] {executor.py:114} INFO - ModelType.LSTM trained for 1130.634098273 seconds.\n",
      "[2024-01-11 07:38:11,146] {executor.py:115} INFO - ModelType.LSTM eval at step 115000.\n",
      "[2024-01-11 07:38:21,738] {executor.py:120} INFO - ModelType.LSTM train loss: 0.07076894491910934, eval metrics: {'eval_loss': 0.046586575418134026, 'MRE': 0.20096198141943908, 'MAE': 0.17375772480035231, 'RMSE': 120.1316714274354}\n",
      "[2024-01-11 07:38:21,746] {executor.py:363} INFO - Saving model at step 115000 with loss 0.07076894491910934,save path: /root/guohao/DLT-perf-model/notebooks/ckpts/P4_CPU80/LSTM/single_train2024-01-11_07-19-20\n"
     ]
    },
    {
     "name": "stderr",
     "output_type": "stream",
     "text": [
      "100%|██████████| 2591/2591 [00:28<00:00, 90.18it/s] "
     ]
    },
    {
     "name": "stdout",
     "output_type": "stream",
     "text": [
      "[2024-01-11 07:38:32,991] {executor.py:323} INFO - ModelType.LSTM training epoch 45\n"
     ]
    },
    {
     "name": "stderr",
     "output_type": "stream",
     "text": [
      "\n",
      "100%|██████████| 2591/2591 [00:17<00:00, 146.16it/s]"
     ]
    },
    {
     "name": "stdout",
     "output_type": "stream",
     "text": [
      "[2024-01-11 07:38:50,720] {executor.py:323} INFO - ModelType.LSTM training epoch 46\n"
     ]
    },
    {
     "name": "stderr",
     "output_type": "stream",
     "text": [
      "\n",
      " 31%|███       | 808/2591 [00:05<00:12, 146.79it/s]"
     ]
    },
    {
     "name": "stdout",
     "output_type": "stream",
     "text": [
      "[2024-01-11 07:38:56,294] {executor.py:114} INFO - ModelType.LSTM trained for 1175.782157512 seconds.\n",
      "[2024-01-11 07:38:56,294] {executor.py:115} INFO - ModelType.LSTM eval at step 120000.\n",
      "[2024-01-11 07:39:06,920] {executor.py:120} INFO - ModelType.LSTM train loss: 0.06581716239452362, eval metrics: {'eval_loss': 0.04530264164886795, 'MRE': 0.2147812335294822, 'MAE': 0.18285458247531913, 'RMSE': 129.4591744792083}\n",
      "[2024-01-11 07:39:06,928] {executor.py:363} INFO - Saving model at step 120000 with loss 0.06581716239452362,save path: /root/guohao/DLT-perf-model/notebooks/ckpts/P4_CPU80/LSTM/single_train2024-01-11_07-19-20\n"
     ]
    },
    {
     "name": "stderr",
     "output_type": "stream",
     "text": [
      "100%|██████████| 2591/2591 [00:29<00:00, 89.16it/s] "
     ]
    },
    {
     "name": "stdout",
     "output_type": "stream",
     "text": [
      "[2024-01-11 07:39:19,783] {executor.py:323} INFO - ModelType.LSTM training epoch 47\n"
     ]
    },
    {
     "name": "stderr",
     "output_type": "stream",
     "text": [
      "\n",
      "100%|██████████| 2591/2591 [00:17<00:00, 144.31it/s]"
     ]
    },
    {
     "name": "stdout",
     "output_type": "stream",
     "text": [
      "[2024-01-11 07:39:37,740] {executor.py:323} INFO - ModelType.LSTM training epoch 48\n"
     ]
    },
    {
     "name": "stderr",
     "output_type": "stream",
     "text": [
      "\n",
      " 24%|██▍       | 628/2591 [00:04<00:13, 146.66it/s]"
     ]
    },
    {
     "name": "stdout",
     "output_type": "stream",
     "text": [
      "[2024-01-11 07:39:42,082] {executor.py:114} INFO - ModelType.LSTM trained for 1221.570086755 seconds.\n",
      "[2024-01-11 07:39:42,082] {executor.py:115} INFO - ModelType.LSTM eval at step 125000.\n",
      "[2024-01-11 07:39:52,667] {executor.py:120} INFO - ModelType.LSTM train loss: 0.019956661388278008, eval metrics: {'eval_loss': 0.0448701025054675, 'MRE': 0.20544240268807884, 'MAE': 0.17520430994244354, 'RMSE': 123.49190261824683}\n",
      "[2024-01-11 07:39:52,673] {executor.py:363} INFO - Saving model at step 125000 with loss 0.019956661388278008,save path: /root/guohao/DLT-perf-model/notebooks/ckpts/P4_CPU80/LSTM/single_train2024-01-11_07-19-20\n"
     ]
    },
    {
     "name": "stderr",
     "output_type": "stream",
     "text": [
      "100%|██████████| 2591/2591 [00:28<00:00, 90.48it/s] "
     ]
    },
    {
     "name": "stdout",
     "output_type": "stream",
     "text": [
      "[2024-01-11 07:40:06,377] {executor.py:323} INFO - ModelType.LSTM training epoch 49\n"
     ]
    },
    {
     "name": "stderr",
     "output_type": "stream",
     "text": [
      "\n",
      "100%|██████████| 2591/2591 [00:18<00:00, 138.59it/s]"
     ]
    },
    {
     "name": "stdout",
     "output_type": "stream",
     "text": [
      "[2024-01-11 07:40:25,075] {executor.py:323} INFO - ModelType.LSTM training epoch 50\n"
     ]
    },
    {
     "name": "stderr",
     "output_type": "stream",
     "text": [
      "\n",
      " 17%|█▋        | 446/2591 [00:02<00:13, 154.56it/s]"
     ]
    },
    {
     "name": "stdout",
     "output_type": "stream",
     "text": [
      "[2024-01-11 07:40:28,011] {executor.py:114} INFO - ModelType.LSTM trained for 1267.499217713 seconds.\n",
      "[2024-01-11 07:40:28,011] {executor.py:115} INFO - ModelType.LSTM eval at step 130000.\n",
      "[2024-01-11 07:40:38,612] {executor.py:120} INFO - ModelType.LSTM train loss: 0.04678001254796982, eval metrics: {'eval_loss': 0.04645436313308948, 'MRE': 0.20167162345029457, 'MAE': 0.17189498382878005, 'RMSE': 119.38829221599894}\n",
      "[2024-01-11 07:40:38,620] {executor.py:363} INFO - Saving model at step 130000 with loss 0.04678001254796982,save path: /root/guohao/DLT-perf-model/notebooks/ckpts/P4_CPU80/LSTM/single_train2024-01-11_07-19-20\n"
     ]
    },
    {
     "name": "stderr",
     "output_type": "stream",
     "text": [
      "100%|██████████| 2591/2591 [00:28<00:00, 90.50it/s] "
     ]
    },
    {
     "name": "stdout",
     "output_type": "stream",
     "text": [
      "[2024-01-11 07:40:53,708] {executor.py:323} INFO - ModelType.LSTM training epoch 51\n"
     ]
    },
    {
     "name": "stderr",
     "output_type": "stream",
     "text": [
      "\n",
      "100%|██████████| 2591/2591 [00:21<00:00, 121.45it/s]"
     ]
    },
    {
     "name": "stdout",
     "output_type": "stream",
     "text": [
      "[2024-01-11 07:41:15,045] {executor.py:323} INFO - ModelType.LSTM training epoch 52\n"
     ]
    },
    {
     "name": "stderr",
     "output_type": "stream",
     "text": [
      "\n",
      " 10%|█         | 262/2591 [00:02<00:19, 116.72it/s]"
     ]
    },
    {
     "name": "stdout",
     "output_type": "stream",
     "text": [
      "[2024-01-11 07:41:17,421] {executor.py:114} INFO - ModelType.LSTM trained for 1316.909237048 seconds.\n",
      "[2024-01-11 07:41:17,421] {executor.py:115} INFO - ModelType.LSTM eval at step 135000.\n",
      "[2024-01-11 07:41:29,800] {executor.py:120} INFO - ModelType.LSTM train loss: 0.04541609808802605, eval metrics: {'eval_loss': 0.044913576669320394, 'MRE': 0.20326791430745084, 'MAE': 0.17298936732029388, 'RMSE': 122.03939426814827}\n",
      "[2024-01-11 07:41:29,809] {executor.py:363} INFO - Saving model at step 135000 with loss 0.04541609808802605,save path: /root/guohao/DLT-perf-model/notebooks/ckpts/P4_CPU80/LSTM/single_train2024-01-11_07-19-20\n"
     ]
    },
    {
     "name": "stderr",
     "output_type": "stream",
     "text": [
      "100%|██████████| 2591/2591 [00:34<00:00, 74.87it/s] "
     ]
    },
    {
     "name": "stdout",
     "output_type": "stream",
     "text": [
      "[2024-01-11 07:41:49,653] {executor.py:323} INFO - ModelType.LSTM training epoch 53\n"
     ]
    },
    {
     "name": "stderr",
     "output_type": "stream",
     "text": [
      "\n",
      "100%|██████████| 2591/2591 [00:21<00:00, 121.91it/s]"
     ]
    },
    {
     "name": "stdout",
     "output_type": "stream",
     "text": [
      "[2024-01-11 07:42:10,910] {executor.py:323} INFO - ModelType.LSTM training epoch 54\n"
     ]
    },
    {
     "name": "stderr",
     "output_type": "stream",
     "text": [
      "\n",
      "  3%|▎         | 82/2591 [00:00<00:21, 118.24it/s]"
     ]
    },
    {
     "name": "stdout",
     "output_type": "stream",
     "text": [
      "[2024-01-11 07:42:11,660] {executor.py:114} INFO - ModelType.LSTM trained for 1371.148159175 seconds.\n",
      "[2024-01-11 07:42:11,660] {executor.py:115} INFO - ModelType.LSTM eval at step 140000.\n",
      "[2024-01-11 07:42:24,060] {executor.py:120} INFO - ModelType.LSTM train loss: 0.06128808483481407, eval metrics: {'eval_loss': 0.04465598902764189, 'MRE': 0.21164887812539, 'MAE': 0.17989375569524169, 'RMSE': 128.4454778510482}\n",
      "[2024-01-11 07:42:24,070] {executor.py:363} INFO - Saving model at step 140000 with loss 0.06128808483481407,save path: /root/guohao/DLT-perf-model/notebooks/ckpts/P4_CPU80/LSTM/single_train2024-01-11_07-19-20\n"
     ]
    },
    {
     "name": "stderr",
     "output_type": "stream",
     "text": [
      "100%|██████████| 2591/2591 [00:34<00:00, 75.41it/s] "
     ]
    },
    {
     "name": "stdout",
     "output_type": "stream",
     "text": [
      "[2024-01-11 07:42:45,271] {executor.py:323} INFO - ModelType.LSTM training epoch 55\n"
     ]
    },
    {
     "name": "stderr",
     "output_type": "stream",
     "text": [
      "\n",
      " 96%|█████████▋| 2495/2591 [00:20<00:00, 116.89it/s]"
     ]
    },
    {
     "name": "stdout",
     "output_type": "stream",
     "text": [
      "[2024-01-11 07:43:05,809] {executor.py:114} INFO - ModelType.LSTM trained for 1425.297464334 seconds.\n",
      "[2024-01-11 07:43:05,809] {executor.py:115} INFO - ModelType.LSTM eval at step 145000.\n",
      "[2024-01-11 07:43:18,140] {executor.py:120} INFO - ModelType.LSTM train loss: 0.036674320697784424, eval metrics: {'eval_loss': 0.045054453602344974, 'MRE': 0.20489404680445306, 'MAE': 0.17596223887249052, 'RMSE': 122.03568257628442}\n",
      "[2024-01-11 07:43:18,146] {executor.py:363} INFO - Saving model at step 145000 with loss 0.036674320697784424,save path: /root/guohao/DLT-perf-model/notebooks/ckpts/P4_CPU80/LSTM/single_train2024-01-11_07-19-20\n"
     ]
    },
    {
     "name": "stderr",
     "output_type": "stream",
     "text": [
      "100%|██████████| 2591/2591 [00:33<00:00, 76.41it/s] "
     ]
    },
    {
     "name": "stdout",
     "output_type": "stream",
     "text": [
      "[2024-01-11 07:43:19,184] {executor.py:323} INFO - ModelType.LSTM training epoch 56\n"
     ]
    },
    {
     "name": "stderr",
     "output_type": "stream",
     "text": [
      "\n",
      "100%|██████████| 2591/2591 [00:21<00:00, 120.06it/s]"
     ]
    },
    {
     "name": "stdout",
     "output_type": "stream",
     "text": [
      "[2024-01-11 07:43:40,766] {executor.py:323} INFO - ModelType.LSTM training epoch 57\n"
     ]
    },
    {
     "name": "stderr",
     "output_type": "stream",
     "text": [
      "\n",
      " 89%|████████▉ | 2308/2591 [00:15<00:01, 154.83it/s]"
     ]
    },
    {
     "name": "stdout",
     "output_type": "stream",
     "text": [
      "[2024-01-11 07:43:56,461] {executor.py:114} INFO - ModelType.LSTM trained for 1475.949637684 seconds.\n",
      "[2024-01-11 07:43:56,462] {executor.py:115} INFO - ModelType.LSTM eval at step 150000.\n",
      "[2024-01-11 07:44:07,050] {executor.py:120} INFO - ModelType.LSTM train loss: 0.0246003158390522, eval metrics: {'eval_loss': 0.04423715323144588, 'MRE': 0.2029584680838554, 'MAE': 0.17355625746071104, 'RMSE': 120.02135287200234}\n",
      "[2024-01-11 07:44:07,057] {executor.py:363} INFO - Saving model at step 150000 with loss 0.0246003158390522,save path: /root/guohao/DLT-perf-model/notebooks/ckpts/P4_CPU80/LSTM/single_train2024-01-11_07-19-20\n"
     ]
    },
    {
     "name": "stderr",
     "output_type": "stream",
     "text": [
      "100%|██████████| 2591/2591 [00:28<00:00, 91.06it/s] "
     ]
    },
    {
     "name": "stdout",
     "output_type": "stream",
     "text": [
      "[2024-01-11 07:44:09,222] {executor.py:323} INFO - ModelType.LSTM training epoch 58\n"
     ]
    },
    {
     "name": "stderr",
     "output_type": "stream",
     "text": [
      "\n",
      "100%|██████████| 2591/2591 [00:17<00:00, 150.41it/s]"
     ]
    },
    {
     "name": "stdout",
     "output_type": "stream",
     "text": [
      "[2024-01-11 07:44:26,450] {executor.py:323} INFO - ModelType.LSTM training epoch 59\n"
     ]
    },
    {
     "name": "stderr",
     "output_type": "stream",
     "text": [
      "\n",
      " 82%|████████▏ | 2125/2591 [00:13<00:03, 154.85it/s]"
     ]
    },
    {
     "name": "stdout",
     "output_type": "stream",
     "text": [
      "[2024-01-11 07:44:40,345] {executor.py:114} INFO - ModelType.LSTM trained for 1519.833607512 seconds.\n",
      "[2024-01-11 07:44:40,346] {executor.py:115} INFO - ModelType.LSTM eval at step 155000.\n",
      "[2024-01-11 07:44:50,948] {executor.py:120} INFO - ModelType.LSTM train loss: 0.024923263117671013, eval metrics: {'eval_loss': 0.04444117872304019, 'MRE': 0.19692954539549454, 'MAE': 0.1653471517430223, 'RMSE': 115.48027760410075}\n",
      "[2024-01-11 07:44:50,953] {executor.py:363} INFO - Saving model at step 155000 with loss 0.024923263117671013,save path: /root/guohao/DLT-perf-model/notebooks/ckpts/P4_CPU80/LSTM/single_train2024-01-11_07-19-20\n"
     ]
    },
    {
     "name": "stderr",
     "output_type": "stream",
     "text": [
      "100%|██████████| 2591/2591 [00:27<00:00, 93.45it/s] "
     ]
    },
    {
     "name": "stdout",
     "output_type": "stream",
     "text": [
      "[2024-01-11 07:44:54,179] {executor.py:323} INFO - ModelType.LSTM training epoch 60\n"
     ]
    },
    {
     "name": "stderr",
     "output_type": "stream",
     "text": [
      "\n",
      "100%|██████████| 2591/2591 [00:17<00:00, 151.91it/s]"
     ]
    },
    {
     "name": "stdout",
     "output_type": "stream",
     "text": [
      "[2024-01-11 07:45:11,238] {executor.py:323} INFO - ModelType.LSTM training epoch 61\n"
     ]
    },
    {
     "name": "stderr",
     "output_type": "stream",
     "text": [
      "\n",
      " 75%|███████▍  | 1934/2591 [00:12<00:04, 150.01it/s]"
     ]
    },
    {
     "name": "stdout",
     "output_type": "stream",
     "text": [
      "[2024-01-11 07:45:24,268] {executor.py:114} INFO - ModelType.LSTM trained for 1563.756138723 seconds.\n",
      "[2024-01-11 07:45:24,268] {executor.py:115} INFO - ModelType.LSTM eval at step 160000.\n",
      "[2024-01-11 07:45:34,901] {executor.py:120} INFO - ModelType.LSTM train loss: 0.055405423045158386, eval metrics: {'eval_loss': 0.04448932831881983, 'MRE': 0.2029096279429288, 'MAE': 0.1728760069573253, 'RMSE': 121.7855482559443}\n",
      "[2024-01-11 07:45:34,910] {executor.py:363} INFO - Saving model at step 160000 with loss 0.055405423045158386,save path: /root/guohao/DLT-perf-model/notebooks/ckpts/P4_CPU80/LSTM/single_train2024-01-11_07-19-20\n"
     ]
    },
    {
     "name": "stderr",
     "output_type": "stream",
     "text": [
      "100%|██████████| 2591/2591 [00:28<00:00, 91.70it/s] "
     ]
    },
    {
     "name": "stdout",
     "output_type": "stream",
     "text": [
      "[2024-01-11 07:45:39,495] {executor.py:323} INFO - ModelType.LSTM training epoch 62\n"
     ]
    },
    {
     "name": "stderr",
     "output_type": "stream",
     "text": [
      "\n",
      "100%|██████████| 2591/2591 [00:17<00:00, 151.03it/s]"
     ]
    },
    {
     "name": "stdout",
     "output_type": "stream",
     "text": [
      "[2024-01-11 07:45:56,654] {executor.py:323} INFO - ModelType.LSTM training epoch 63\n"
     ]
    },
    {
     "name": "stderr",
     "output_type": "stream",
     "text": [
      "\n",
      " 68%|██████▊   | 1759/2591 [00:12<00:06, 124.23it/s]"
     ]
    },
    {
     "name": "stdout",
     "output_type": "stream",
     "text": [
      "[2024-01-11 07:46:09,308] {executor.py:114} INFO - ModelType.LSTM trained for 1608.796485401 seconds.\n",
      "[2024-01-11 07:46:09,309] {executor.py:115} INFO - ModelType.LSTM eval at step 165000.\n",
      "[2024-01-11 07:46:25,679] {executor.py:120} INFO - ModelType.LSTM train loss: 0.04301721975207329, eval metrics: {'eval_loss': 0.04447400278933652, 'MRE': 0.2015936190898565, 'MAE': 0.17006743668705804, 'RMSE': 120.01236663054142}\n",
      "[2024-01-11 07:46:25,686] {executor.py:363} INFO - Saving model at step 165000 with loss 0.04301721975207329,save path: /root/guohao/DLT-perf-model/notebooks/ckpts/P4_CPU80/LSTM/single_train2024-01-11_07-19-20\n"
     ]
    },
    {
     "name": "stderr",
     "output_type": "stream",
     "text": [
      "100%|██████████| 2591/2591 [00:34<00:00, 74.24it/s] "
     ]
    },
    {
     "name": "stdout",
     "output_type": "stream",
     "text": [
      "[2024-01-11 07:46:31,556] {executor.py:323} INFO - ModelType.LSTM training epoch 64\n"
     ]
    },
    {
     "name": "stderr",
     "output_type": "stream",
     "text": [
      "\n",
      "100%|██████████| 2591/2591 [00:17<00:00, 151.70it/s]"
     ]
    },
    {
     "name": "stdout",
     "output_type": "stream",
     "text": [
      "[2024-01-11 07:46:48,637] {executor.py:323} INFO - ModelType.LSTM training epoch 65\n"
     ]
    },
    {
     "name": "stderr",
     "output_type": "stream",
     "text": [
      "\n",
      " 61%|██████    | 1581/2591 [00:10<00:06, 155.12it/s]"
     ]
    },
    {
     "name": "stdout",
     "output_type": "stream",
     "text": [
      "[2024-01-11 07:46:58,915] {executor.py:114} INFO - ModelType.LSTM trained for 1658.403222114 seconds.\n",
      "[2024-01-11 07:46:58,915] {executor.py:115} INFO - ModelType.LSTM eval at step 170000.\n"
     ]
    },
    {
     "name": "stderr",
     "output_type": "stream",
     "text": [
      " 61%|██████    | 1581/2591 [00:20<00:06, 155.12it/s]"
     ]
    },
    {
     "name": "stdout",
     "output_type": "stream",
     "text": [
      "[2024-01-11 07:47:09,552] {executor.py:120} INFO - ModelType.LSTM train loss: 0.0395638532936573, eval metrics: {'eval_loss': 0.04314368410465446, 'MRE': 0.20137430217573, 'MAE': 0.17196791639558784, 'RMSE': 120.8154463077366}\n",
      "[2024-01-11 07:47:09,557] {executor.py:363} INFO - Saving model at step 170000 with loss 0.0395638532936573,save path: /root/guohao/DLT-perf-model/notebooks/ckpts/P4_CPU80/LSTM/single_train2024-01-11_07-19-20\n"
     ]
    },
    {
     "name": "stderr",
     "output_type": "stream",
     "text": [
      "100%|██████████| 2591/2591 [00:27<00:00, 93.34it/s] "
     ]
    },
    {
     "name": "stdout",
     "output_type": "stream",
     "text": [
      "[2024-01-11 07:47:16,398] {executor.py:323} INFO - ModelType.LSTM training epoch 66\n"
     ]
    },
    {
     "name": "stderr",
     "output_type": "stream",
     "text": [
      "\n",
      "100%|██████████| 2591/2591 [00:17<00:00, 145.72it/s]"
     ]
    },
    {
     "name": "stdout",
     "output_type": "stream",
     "text": [
      "[2024-01-11 07:47:34,181] {executor.py:323} INFO - ModelType.LSTM training epoch 67\n"
     ]
    },
    {
     "name": "stderr",
     "output_type": "stream",
     "text": [
      "\n",
      " 54%|█████▎    | 1389/2591 [00:09<00:07, 153.62it/s]"
     ]
    },
    {
     "name": "stdout",
     "output_type": "stream",
     "text": [
      "[2024-01-11 07:47:43,391] {executor.py:114} INFO - ModelType.LSTM trained for 1702.879257018 seconds.\n",
      "[2024-01-11 07:47:43,391] {executor.py:115} INFO - ModelType.LSTM eval at step 175000.\n",
      "[2024-01-11 07:47:53,994] {executor.py:120} INFO - ModelType.LSTM train loss: 0.0659017264842987, eval metrics: {'eval_loss': 0.043567730369870904, 'MRE': 0.20511516904056204, 'MAE': 0.17283380100704857, 'RMSE': 119.68138072891803}\n",
      "[2024-01-11 07:47:54,002] {executor.py:363} INFO - Saving model at step 175000 with loss 0.0659017264842987,save path: /root/guohao/DLT-perf-model/notebooks/ckpts/P4_CPU80/LSTM/single_train2024-01-11_07-19-20\n"
     ]
    },
    {
     "name": "stderr",
     "output_type": "stream",
     "text": [
      "100%|██████████| 2591/2591 [00:27<00:00, 92.72it/s] "
     ]
    },
    {
     "name": "stdout",
     "output_type": "stream",
     "text": [
      "[2024-01-11 07:48:02,127] {executor.py:323} INFO - ModelType.LSTM training epoch 68\n"
     ]
    },
    {
     "name": "stderr",
     "output_type": "stream",
     "text": [
      "\n",
      "100%|██████████| 2591/2591 [00:16<00:00, 154.49it/s]"
     ]
    },
    {
     "name": "stdout",
     "output_type": "stream",
     "text": [
      "[2024-01-11 07:48:18,901] {executor.py:323} INFO - ModelType.LSTM training epoch 69\n"
     ]
    },
    {
     "name": "stderr",
     "output_type": "stream",
     "text": [
      "\n",
      " 47%|████▋     | 1214/2591 [00:07<00:08, 154.41it/s]"
     ]
    },
    {
     "name": "stdout",
     "output_type": "stream",
     "text": [
      "[2024-01-11 07:48:26,802] {executor.py:114} INFO - ModelType.LSTM trained for 1746.290626019 seconds.\n",
      "[2024-01-11 07:48:26,803] {executor.py:115} INFO - ModelType.LSTM eval at step 180000.\n",
      "[2024-01-11 07:48:37,442] {executor.py:120} INFO - ModelType.LSTM train loss: 0.04128018021583557, eval metrics: {'eval_loss': 0.044178597659353995, 'MRE': 0.20358779423950105, 'MAE': 0.17526297574334776, 'RMSE': 120.42897197457664}\n",
      "[2024-01-11 07:48:37,450] {executor.py:363} INFO - Saving model at step 180000 with loss 0.04128018021583557,save path: /root/guohao/DLT-perf-model/notebooks/ckpts/P4_CPU80/LSTM/single_train2024-01-11_07-19-20\n"
     ]
    },
    {
     "name": "stderr",
     "output_type": "stream",
     "text": [
      "100%|██████████| 2591/2591 [00:28<00:00, 92.14it/s] "
     ]
    },
    {
     "name": "stdout",
     "output_type": "stream",
     "text": [
      "[2024-01-11 07:48:47,024] {executor.py:323} INFO - ModelType.LSTM training epoch 70\n"
     ]
    },
    {
     "name": "stderr",
     "output_type": "stream",
     "text": [
      "\n",
      "100%|██████████| 2591/2591 [00:17<00:00, 152.40it/s]"
     ]
    },
    {
     "name": "stdout",
     "output_type": "stream",
     "text": [
      "[2024-01-11 07:49:04,028] {executor.py:323} INFO - ModelType.LSTM training epoch 71\n"
     ]
    },
    {
     "name": "stderr",
     "output_type": "stream",
     "text": [
      "\n",
      " 40%|████      | 1038/2591 [00:06<00:10, 155.11it/s]"
     ]
    },
    {
     "name": "stdout",
     "output_type": "stream",
     "text": [
      "[2024-01-11 07:49:10,765] {executor.py:114} INFO - ModelType.LSTM trained for 1790.25384783 seconds.\n",
      "[2024-01-11 07:49:10,766] {executor.py:115} INFO - ModelType.LSTM eval at step 185000.\n",
      "[2024-01-11 07:49:21,381] {executor.py:120} INFO - ModelType.LSTM train loss: 0.06371750682592392, eval metrics: {'eval_loss': 0.04419516994698561, 'MRE': 0.19863848862066186, 'MAE': 0.1688523984539931, 'RMSE': 116.0441972118642}\n",
      "[2024-01-11 07:49:21,387] {executor.py:363} INFO - Saving model at step 185000 with loss 0.06371750682592392,save path: /root/guohao/DLT-perf-model/notebooks/ckpts/P4_CPU80/LSTM/single_train2024-01-11_07-19-20\n"
     ]
    },
    {
     "name": "stderr",
     "output_type": "stream",
     "text": [
      "100%|██████████| 2591/2591 [00:27<00:00, 93.75it/s] "
     ]
    },
    {
     "name": "stdout",
     "output_type": "stream",
     "text": [
      "[2024-01-11 07:49:31,667] {executor.py:323} INFO - ModelType.LSTM training epoch 72\n"
     ]
    },
    {
     "name": "stderr",
     "output_type": "stream",
     "text": [
      "\n",
      "100%|██████████| 2591/2591 [00:17<00:00, 149.98it/s]"
     ]
    },
    {
     "name": "stdout",
     "output_type": "stream",
     "text": [
      "[2024-01-11 07:49:48,945] {executor.py:323} INFO - ModelType.LSTM training epoch 73\n"
     ]
    },
    {
     "name": "stderr",
     "output_type": "stream",
     "text": [
      "\n",
      " 33%|███▎      | 845/2591 [00:05<00:11, 154.30it/s]"
     ]
    },
    {
     "name": "stdout",
     "output_type": "stream",
     "text": [
      "[2024-01-11 07:49:54,550] {executor.py:114} INFO - ModelType.LSTM trained for 1834.038940226 seconds.\n",
      "[2024-01-11 07:49:54,551] {executor.py:115} INFO - ModelType.LSTM eval at step 190000.\n",
      "[2024-01-11 07:50:05,187] {executor.py:120} INFO - ModelType.LSTM train loss: 0.04640871286392212, eval metrics: {'eval_loss': 0.04395923942139729, 'MRE': 0.2043095000013454, 'MAE': 0.17447248098575324, 'RMSE': 122.78305623462704}\n",
      "[2024-01-11 07:50:05,196] {executor.py:363} INFO - Saving model at step 190000 with loss 0.04640871286392212,save path: /root/guohao/DLT-perf-model/notebooks/ckpts/P4_CPU80/LSTM/single_train2024-01-11_07-19-20\n"
     ]
    },
    {
     "name": "stderr",
     "output_type": "stream",
     "text": [
      "100%|██████████| 2591/2591 [00:27<00:00, 92.84it/s] "
     ]
    },
    {
     "name": "stdout",
     "output_type": "stream",
     "text": [
      "[2024-01-11 07:50:16,857] {executor.py:323} INFO - ModelType.LSTM training epoch 74\n"
     ]
    },
    {
     "name": "stderr",
     "output_type": "stream",
     "text": [
      "\n",
      "100%|██████████| 2591/2591 [00:16<00:00, 154.73it/s]"
     ]
    },
    {
     "name": "stdout",
     "output_type": "stream",
     "text": [
      "[2024-01-11 07:50:33,605] {executor.py:323} INFO - ModelType.LSTM training epoch 75\n"
     ]
    },
    {
     "name": "stderr",
     "output_type": "stream",
     "text": [
      "\n",
      " 26%|██▌       | 670/2591 [00:04<00:12, 154.38it/s]"
     ]
    },
    {
     "name": "stdout",
     "output_type": "stream",
     "text": [
      "[2024-01-11 07:50:37,977] {executor.py:114} INFO - ModelType.LSTM trained for 1877.465305781 seconds.\n",
      "[2024-01-11 07:50:37,977] {executor.py:115} INFO - ModelType.LSTM eval at step 195000.\n",
      "[2024-01-11 07:50:48,626] {executor.py:120} INFO - ModelType.LSTM train loss: 0.03206312283873558, eval metrics: {'eval_loss': 0.04370035829396606, 'MRE': 0.2076429718509652, 'MAE': 0.17640011766158115, 'RMSE': 121.91236059152867}\n",
      "[2024-01-11 07:50:48,634] {executor.py:363} INFO - Saving model at step 195000 with loss 0.03206312283873558,save path: /root/guohao/DLT-perf-model/notebooks/ckpts/P4_CPU80/LSTM/single_train2024-01-11_07-19-20\n"
     ]
    },
    {
     "name": "stderr",
     "output_type": "stream",
     "text": [
      "100%|██████████| 2591/2591 [00:28<00:00, 91.91it/s] "
     ]
    },
    {
     "name": "stdout",
     "output_type": "stream",
     "text": [
      "[2024-01-11 07:51:01,799] {executor.py:323} INFO - ModelType.LSTM training epoch 76\n"
     ]
    },
    {
     "name": "stderr",
     "output_type": "stream",
     "text": [
      "\n",
      "100%|██████████| 2591/2591 [00:16<00:00, 152.99it/s]"
     ]
    },
    {
     "name": "stdout",
     "output_type": "stream",
     "text": [
      "[2024-01-11 07:51:18,737] {executor.py:323} INFO - ModelType.LSTM training epoch 77\n"
     ]
    },
    {
     "name": "stderr",
     "output_type": "stream",
     "text": [
      "\n",
      " 18%|█▊        | 478/2591 [00:03<00:13, 155.26it/s]"
     ]
    },
    {
     "name": "stdout",
     "output_type": "stream",
     "text": [
      "[2024-01-11 07:51:21,934] {executor.py:114} INFO - ModelType.LSTM trained for 1921.422053898 seconds.\n",
      "[2024-01-11 07:51:21,934] {executor.py:115} INFO - ModelType.LSTM eval at step 200000.\n",
      "[2024-01-11 07:51:32,570] {executor.py:120} INFO - ModelType.LSTM train loss: 0.03173549100756645, eval metrics: {'eval_loss': 0.042916300149603466, 'MRE': 0.20311854572270538, 'MAE': 0.17397284828785262, 'RMSE': 121.78547647001204}\n",
      "[2024-01-11 07:51:32,576] {executor.py:363} INFO - Saving model at step 200000 with loss 0.03173549100756645,save path: /root/guohao/DLT-perf-model/notebooks/ckpts/P4_CPU80/LSTM/single_train2024-01-11_07-19-20\n"
     ]
    },
    {
     "name": "stderr",
     "output_type": "stream",
     "text": [
      "100%|██████████| 2591/2591 [00:27<00:00, 93.55it/s] "
     ]
    },
    {
     "name": "stdout",
     "output_type": "stream",
     "text": [
      "[2024-01-11 07:51:46,435] {executor.py:323} INFO - ModelType.LSTM training epoch 78\n"
     ]
    },
    {
     "name": "stderr",
     "output_type": "stream",
     "text": [
      "\n",
      "100%|██████████| 2591/2591 [00:17<00:00, 149.99it/s]"
     ]
    },
    {
     "name": "stdout",
     "output_type": "stream",
     "text": [
      "[2024-01-11 07:52:03,712] {executor.py:323} INFO - ModelType.LSTM training epoch 79\n"
     ]
    },
    {
     "name": "stderr",
     "output_type": "stream",
     "text": [
      "\n",
      " 12%|█▏        | 300/2591 [00:01<00:14, 154.38it/s]"
     ]
    },
    {
     "name": "stdout",
     "output_type": "stream",
     "text": [
      "[2024-01-11 07:52:05,760] {executor.py:114} INFO - ModelType.LSTM trained for 1965.248768184 seconds.\n",
      "[2024-01-11 07:52:05,761] {executor.py:115} INFO - ModelType.LSTM eval at step 205000.\n",
      "[2024-01-11 07:52:16,391] {executor.py:120} INFO - ModelType.LSTM train loss: 0.05506957694888115, eval metrics: {'eval_loss': 0.043044120318172716, 'MRE': 0.1937739511116868, 'MAE': 0.16510060574787275, 'RMSE': 115.24566823294046}\n",
      "[2024-01-11 07:52:16,400] {executor.py:363} INFO - Saving model at step 205000 with loss 0.05506957694888115,save path: /root/guohao/DLT-perf-model/notebooks/ckpts/P4_CPU80/LSTM/single_train2024-01-11_07-19-20\n"
     ]
    },
    {
     "name": "stderr",
     "output_type": "stream",
     "text": [
      "100%|██████████| 2591/2591 [00:27<00:00, 93.22it/s] "
     ]
    },
    {
     "name": "stdout",
     "output_type": "stream",
     "text": [
      "[2024-01-11 07:52:31,508] {executor.py:323} INFO - ModelType.LSTM training epoch 80\n"
     ]
    },
    {
     "name": "stderr",
     "output_type": "stream",
     "text": [
      "\n",
      "100%|██████████| 2591/2591 [00:16<00:00, 155.87it/s]"
     ]
    },
    {
     "name": "stdout",
     "output_type": "stream",
     "text": [
      "[2024-01-11 07:52:48,133] {executor.py:323} INFO - ModelType.LSTM training epoch 81\n"
     ]
    },
    {
     "name": "stderr",
     "output_type": "stream",
     "text": [
      "\n",
      "  5%|▍         | 125/2591 [00:00<00:15, 154.67it/s]"
     ]
    },
    {
     "name": "stdout",
     "output_type": "stream",
     "text": [
      "[2024-01-11 07:52:48,987] {executor.py:114} INFO - ModelType.LSTM trained for 2008.475597667 seconds.\n",
      "[2024-01-11 07:52:48,988] {executor.py:115} INFO - ModelType.LSTM eval at step 210000.\n"
     ]
    },
    {
     "name": "stderr",
     "output_type": "stream",
     "text": [
      "  5%|▍         | 125/2591 [00:11<00:15, 154.67it/s]"
     ]
    },
    {
     "name": "stdout",
     "output_type": "stream",
     "text": [
      "[2024-01-11 07:52:59,630] {executor.py:120} INFO - ModelType.LSTM train loss: 0.023451734334230423, eval metrics: {'eval_loss': 0.04295563133138827, 'MRE': 0.1968660366886712, 'MAE': 0.1694233117551258, 'RMSE': 117.20373429878138}\n",
      "[2024-01-11 07:52:59,637] {executor.py:363} INFO - Saving model at step 210000 with loss 0.023451734334230423,save path: /root/guohao/DLT-perf-model/notebooks/ckpts/P4_CPU80/LSTM/single_train2024-01-11_07-19-20\n"
     ]
    },
    {
     "name": "stderr",
     "output_type": "stream",
     "text": [
      "100%|██████████| 2591/2591 [00:28<00:00, 91.90it/s] "
     ]
    },
    {
     "name": "stdout",
     "output_type": "stream",
     "text": [
      "[2024-01-11 07:53:16,329] {executor.py:323} INFO - ModelType.LSTM training epoch 82\n"
     ]
    },
    {
     "name": "stderr",
     "output_type": "stream",
     "text": [
      "\n",
      " 97%|█████████▋| 2525/2591 [00:16<00:00, 156.64it/s]"
     ]
    },
    {
     "name": "stdout",
     "output_type": "stream",
     "text": [
      "[2024-01-11 07:53:32,655] {executor.py:114} INFO - ModelType.LSTM trained for 2052.143228142 seconds.\n",
      "[2024-01-11 07:53:32,655] {executor.py:115} INFO - ModelType.LSTM eval at step 215000.\n",
      "[2024-01-11 07:53:43,232] {executor.py:120} INFO - ModelType.LSTM train loss: 0.05854381248354912, eval metrics: {'eval_loss': 0.04272362956704512, 'MRE': 0.20452506802108497, 'MAE': 0.17589498916292112, 'RMSE': 123.20228721082492}\n",
      "[2024-01-11 07:53:43,238] {executor.py:363} INFO - Saving model at step 215000 with loss 0.05854381248354912,save path: /root/guohao/DLT-perf-model/notebooks/ckpts/P4_CPU80/LSTM/single_train2024-01-11_07-19-20\n"
     ]
    },
    {
     "name": "stderr",
     "output_type": "stream",
     "text": [
      "100%|██████████| 2591/2591 [00:27<00:00, 93.97it/s] "
     ]
    },
    {
     "name": "stdout",
     "output_type": "stream",
     "text": [
      "[2024-01-11 07:53:43,904] {executor.py:323} INFO - ModelType.LSTM training epoch 83\n"
     ]
    },
    {
     "name": "stderr",
     "output_type": "stream",
     "text": [
      "\n",
      "100%|██████████| 2591/2591 [00:16<00:00, 155.45it/s]"
     ]
    },
    {
     "name": "stdout",
     "output_type": "stream",
     "text": [
      "[2024-01-11 07:54:00,574] {executor.py:323} INFO - ModelType.LSTM training epoch 84\n"
     ]
    },
    {
     "name": "stderr",
     "output_type": "stream",
     "text": [
      "\n",
      " 91%|█████████ | 2348/2591 [00:15<00:01, 153.26it/s]"
     ]
    },
    {
     "name": "stdout",
     "output_type": "stream",
     "text": [
      "[2024-01-11 07:54:16,108] {executor.py:114} INFO - ModelType.LSTM trained for 2095.596418512 seconds.\n",
      "[2024-01-11 07:54:16,108] {executor.py:115} INFO - ModelType.LSTM eval at step 220000.\n",
      "[2024-01-11 07:54:26,731] {executor.py:120} INFO - ModelType.LSTM train loss: 0.04560701176524162, eval metrics: {'eval_loss': 0.04300835877959774, 'MRE': 0.19947997736708223, 'MAE': 0.17152746186816956, 'RMSE': 119.6178088254066}\n",
      "[2024-01-11 07:54:26,741] {executor.py:363} INFO - Saving model at step 220000 with loss 0.04560701176524162,save path: /root/guohao/DLT-perf-model/notebooks/ckpts/P4_CPU80/LSTM/single_train2024-01-11_07-19-20\n"
     ]
    },
    {
     "name": "stderr",
     "output_type": "stream",
     "text": [
      "100%|██████████| 2591/2591 [00:28<00:00, 92.17it/s] "
     ]
    },
    {
     "name": "stdout",
     "output_type": "stream",
     "text": [
      "[2024-01-11 07:54:28,689] {executor.py:323} INFO - ModelType.LSTM training epoch 85\n"
     ]
    },
    {
     "name": "stderr",
     "output_type": "stream",
     "text": [
      "\n",
      "100%|██████████| 2591/2591 [00:16<00:00, 154.98it/s]"
     ]
    },
    {
     "name": "stdout",
     "output_type": "stream",
     "text": [
      "[2024-01-11 07:54:45,409] {executor.py:323} INFO - ModelType.LSTM training epoch 86\n"
     ]
    },
    {
     "name": "stderr",
     "output_type": "stream",
     "text": [
      "\n",
      " 84%|████████▍ | 2174/2591 [00:13<00:02, 156.74it/s]"
     ]
    },
    {
     "name": "stdout",
     "output_type": "stream",
     "text": [
      "[2024-01-11 07:54:59,322] {executor.py:114} INFO - ModelType.LSTM trained for 2138.810567974 seconds.\n",
      "[2024-01-11 07:54:59,323] {executor.py:115} INFO - ModelType.LSTM eval at step 225000.\n",
      "[2024-01-11 07:55:09,930] {executor.py:120} INFO - ModelType.LSTM train loss: 0.02378852665424347, eval metrics: {'eval_loss': 0.04324639286307895, 'MRE': 0.19979151828841007, 'MAE': 0.1727295401085999, 'RMSE': 119.77898038980764}\n",
      "[2024-01-11 07:55:09,937] {executor.py:363} INFO - Saving model at step 225000 with loss 0.02378852665424347,save path: /root/guohao/DLT-perf-model/notebooks/ckpts/P4_CPU80/LSTM/single_train2024-01-11_07-19-20\n"
     ]
    },
    {
     "name": "stderr",
     "output_type": "stream",
     "text": [
      "100%|██████████| 2591/2591 [00:27<00:00, 93.47it/s] "
     ]
    },
    {
     "name": "stdout",
     "output_type": "stream",
     "text": [
      "[2024-01-11 07:55:13,133] {executor.py:323} INFO - ModelType.LSTM training epoch 87\n"
     ]
    },
    {
     "name": "stderr",
     "output_type": "stream",
     "text": [
      "\n",
      "100%|██████████| 2591/2591 [00:17<00:00, 151.98it/s]"
     ]
    },
    {
     "name": "stdout",
     "output_type": "stream",
     "text": [
      "[2024-01-11 07:55:30,183] {executor.py:323} INFO - ModelType.LSTM training epoch 88\n"
     ]
    },
    {
     "name": "stderr",
     "output_type": "stream",
     "text": [
      "\n",
      " 76%|███████▋  | 1981/2591 [00:12<00:03, 155.85it/s]"
     ]
    },
    {
     "name": "stdout",
     "output_type": "stream",
     "text": [
      "[2024-01-11 07:55:43,068] {executor.py:114} INFO - ModelType.LSTM trained for 2182.556822568 seconds.\n",
      "[2024-01-11 07:55:43,069] {executor.py:115} INFO - ModelType.LSTM eval at step 230000.\n",
      "[2024-01-11 07:55:53,664] {executor.py:120} INFO - ModelType.LSTM train loss: 0.04047033563256264, eval metrics: {'eval_loss': 0.04255860281717309, 'MRE': 0.18658691218710852, 'MAE': 0.1608069355638245, 'RMSE': 111.64505832280098}\n",
      "[2024-01-11 07:55:53,670] {executor.py:363} INFO - Saving model at step 230000 with loss 0.04047033563256264,save path: /root/guohao/DLT-perf-model/notebooks/ckpts/P4_CPU80/LSTM/single_train2024-01-11_07-19-20\n"
     ]
    },
    {
     "name": "stderr",
     "output_type": "stream",
     "text": [
      "100%|██████████| 2591/2591 [00:27<00:00, 93.56it/s] "
     ]
    },
    {
     "name": "stdout",
     "output_type": "stream",
     "text": [
      "[2024-01-11 07:55:57,878] {executor.py:323} INFO - ModelType.LSTM training epoch 89\n"
     ]
    },
    {
     "name": "stderr",
     "output_type": "stream",
     "text": [
      "\n",
      "100%|██████████| 2591/2591 [00:16<00:00, 155.25it/s]"
     ]
    },
    {
     "name": "stdout",
     "output_type": "stream",
     "text": [
      "[2024-01-11 07:56:14,569] {executor.py:323} INFO - ModelType.LSTM training epoch 90\n"
     ]
    },
    {
     "name": "stderr",
     "output_type": "stream",
     "text": [
      "\n",
      " 70%|██████▉   | 1808/2591 [00:11<00:05, 149.41it/s]"
     ]
    },
    {
     "name": "stdout",
     "output_type": "stream",
     "text": [
      "[2024-01-11 07:56:26,558] {executor.py:114} INFO - ModelType.LSTM trained for 2226.046588269 seconds.\n",
      "[2024-01-11 07:56:26,559] {executor.py:115} INFO - ModelType.LSTM eval at step 235000.\n"
     ]
    },
    {
     "name": "stderr",
     "output_type": "stream",
     "text": [
      " 70%|██████▉   | 1808/2591 [00:24<00:05, 149.41it/s]"
     ]
    },
    {
     "name": "stdout",
     "output_type": "stream",
     "text": [
      "[2024-01-11 07:56:42,887] {executor.py:120} INFO - ModelType.LSTM train loss: 0.04866097494959831, eval metrics: {'eval_loss': 0.04217729145623858, 'MRE': 0.19250441151142245, 'MAE': 0.16596646228438822, 'RMSE': 115.99541653143515}\n",
      "[2024-01-11 07:56:42,896] {executor.py:363} INFO - Saving model at step 235000 with loss 0.04866097494959831,save path: /root/guohao/DLT-perf-model/notebooks/ckpts/P4_CPU80/LSTM/single_train2024-01-11_07-19-20\n"
     ]
    },
    {
     "name": "stderr",
     "output_type": "stream",
     "text": [
      "100%|██████████| 2591/2591 [00:33<00:00, 76.64it/s] "
     ]
    },
    {
     "name": "stdout",
     "output_type": "stream",
     "text": [
      "[2024-01-11 07:56:48,379] {executor.py:323} INFO - ModelType.LSTM training epoch 91\n"
     ]
    },
    {
     "name": "stderr",
     "output_type": "stream",
     "text": [
      "\n",
      "100%|██████████| 2591/2591 [00:16<00:00, 155.07it/s]"
     ]
    },
    {
     "name": "stdout",
     "output_type": "stream",
     "text": [
      "[2024-01-11 07:57:05,090] {executor.py:323} INFO - ModelType.LSTM training epoch 92\n"
     ]
    },
    {
     "name": "stderr",
     "output_type": "stream",
     "text": [
      "\n",
      " 62%|██████▏   | 1613/2591 [00:10<00:06, 156.24it/s]"
     ]
    },
    {
     "name": "stdout",
     "output_type": "stream",
     "text": [
      "[2024-01-11 07:57:15,567] {executor.py:114} INFO - ModelType.LSTM trained for 2275.056012215 seconds.\n",
      "[2024-01-11 07:57:15,568] {executor.py:115} INFO - ModelType.LSTM eval at step 240000.\n",
      "[2024-01-11 07:57:26,185] {executor.py:120} INFO - ModelType.LSTM train loss: 0.039243340492248535, eval metrics: {'eval_loss': 0.04215264497186328, 'MRE': 0.1960237263653915, 'MAE': 0.1703667019296315, 'RMSE': 118.43572413155424}\n",
      "[2024-01-11 07:57:26,191] {executor.py:363} INFO - Saving model at step 240000 with loss 0.039243340492248535,save path: /root/guohao/DLT-perf-model/notebooks/ckpts/P4_CPU80/LSTM/single_train2024-01-11_07-19-20\n"
     ]
    },
    {
     "name": "stderr",
     "output_type": "stream",
     "text": [
      "100%|██████████| 2591/2591 [00:28<00:00, 92.51it/s] "
     ]
    },
    {
     "name": "stdout",
     "output_type": "stream",
     "text": [
      "[2024-01-11 07:57:33,101] {executor.py:323} INFO - ModelType.LSTM training epoch 93\n"
     ]
    },
    {
     "name": "stderr",
     "output_type": "stream",
     "text": [
      "\n",
      "100%|██████████| 2591/2591 [00:17<00:00, 152.15it/s]"
     ]
    },
    {
     "name": "stdout",
     "output_type": "stream",
     "text": [
      "[2024-01-11 07:57:50,132] {executor.py:323} INFO - ModelType.LSTM training epoch 94\n"
     ]
    },
    {
     "name": "stderr",
     "output_type": "stream",
     "text": [
      "\n",
      " 55%|█████▌    | 1437/2591 [00:09<00:07, 155.26it/s]"
     ]
    },
    {
     "name": "stdout",
     "output_type": "stream",
     "text": [
      "[2024-01-11 07:57:59,464] {executor.py:114} INFO - ModelType.LSTM trained for 2318.952481132 seconds.\n",
      "[2024-01-11 07:57:59,465] {executor.py:115} INFO - ModelType.LSTM eval at step 245000.\n",
      "[2024-01-11 07:58:10,068] {executor.py:120} INFO - ModelType.LSTM train loss: 0.04440811276435852, eval metrics: {'eval_loss': 0.042846892948177444, 'MRE': 0.19593685185757162, 'MAE': 0.1724242528594832, 'RMSE': 121.08738807079699}\n",
      "[2024-01-11 07:58:10,074] {executor.py:363} INFO - Saving model at step 245000 with loss 0.04440811276435852,save path: /root/guohao/DLT-perf-model/notebooks/ckpts/P4_CPU80/LSTM/single_train2024-01-11_07-19-20\n"
     ]
    },
    {
     "name": "stderr",
     "output_type": "stream",
     "text": [
      "100%|██████████| 2591/2591 [00:27<00:00, 93.61it/s] "
     ]
    },
    {
     "name": "stdout",
     "output_type": "stream",
     "text": [
      "[2024-01-11 07:58:17,814] {executor.py:323} INFO - ModelType.LSTM training epoch 95\n"
     ]
    },
    {
     "name": "stderr",
     "output_type": "stream",
     "text": [
      "\n",
      "100%|██████████| 2591/2591 [00:16<00:00, 154.05it/s]"
     ]
    },
    {
     "name": "stdout",
     "output_type": "stream",
     "text": [
      "[2024-01-11 07:58:34,636] {executor.py:323} INFO - ModelType.LSTM training epoch 96\n"
     ]
    },
    {
     "name": "stderr",
     "output_type": "stream",
     "text": [
      "\n",
      " 48%|████▊     | 1251/2591 [00:08<00:08, 151.14it/s]"
     ]
    },
    {
     "name": "stdout",
     "output_type": "stream",
     "text": [
      "[2024-01-11 07:58:43,095] {executor.py:114} INFO - ModelType.LSTM trained for 2362.583832682 seconds.\n",
      "[2024-01-11 07:58:43,096] {executor.py:115} INFO - ModelType.LSTM eval at step 250000.\n",
      "[2024-01-11 07:58:53,740] {executor.py:120} INFO - ModelType.LSTM train loss: 0.06571409851312637, eval metrics: {'eval_loss': 0.04246249145551308, 'MRE': 0.18964817570584552, 'MAE': 0.16634758271341119, 'RMSE': 115.72728336573572}\n",
      "[2024-01-11 07:58:53,749] {executor.py:363} INFO - Saving model at step 250000 with loss 0.06571409851312637,save path: /root/guohao/DLT-perf-model/notebooks/ckpts/P4_CPU80/LSTM/single_train2024-01-11_07-19-20\n"
     ]
    },
    {
     "name": "stderr",
     "output_type": "stream",
     "text": [
      "100%|██████████| 2591/2591 [00:28<00:00, 91.75it/s] "
     ]
    },
    {
     "name": "stdout",
     "output_type": "stream",
     "text": [
      "[2024-01-11 07:59:02,876] {executor.py:323} INFO - ModelType.LSTM training epoch 97\n"
     ]
    },
    {
     "name": "stderr",
     "output_type": "stream",
     "text": [
      "\n",
      "100%|██████████| 2591/2591 [00:16<00:00, 154.99it/s]"
     ]
    },
    {
     "name": "stdout",
     "output_type": "stream",
     "text": [
      "[2024-01-11 07:59:19,596] {executor.py:323} INFO - ModelType.LSTM training epoch 98\n"
     ]
    },
    {
     "name": "stderr",
     "output_type": "stream",
     "text": [
      "\n",
      " 41%|████▏     | 1070/2591 [00:06<00:09, 155.88it/s]"
     ]
    },
    {
     "name": "stdout",
     "output_type": "stream",
     "text": [
      "[2024-01-11 07:59:26,574] {executor.py:114} INFO - ModelType.LSTM trained for 2406.062995417 seconds.\n",
      "[2024-01-11 07:59:26,575] {executor.py:115} INFO - ModelType.LSTM eval at step 255000.\n",
      "[2024-01-11 07:59:37,169] {executor.py:120} INFO - ModelType.LSTM train loss: 0.02775835618376732, eval metrics: {'eval_loss': 0.041884382630859744, 'MRE': 0.18708894236340562, 'MAE': 0.1630995173789154, 'RMSE': 113.37819303223758}\n",
      "[2024-01-11 07:59:37,176] {executor.py:363} INFO - Saving model at step 255000 with loss 0.02775835618376732,save path: /root/guohao/DLT-perf-model/notebooks/ckpts/P4_CPU80/LSTM/single_train2024-01-11_07-19-20\n"
     ]
    },
    {
     "name": "stderr",
     "output_type": "stream",
     "text": [
      "100%|██████████| 2591/2591 [00:28<00:00, 92.22it/s] "
     ]
    },
    {
     "name": "stdout",
     "output_type": "stream",
     "text": [
      "[2024-01-11 07:59:47,695] {executor.py:323} INFO - ModelType.LSTM training epoch 99\n"
     ]
    },
    {
     "name": "stderr",
     "output_type": "stream",
     "text": [
      "\n",
      "100%|██████████| 2591/2591 [00:16<00:00, 152.97it/s]\n"
     ]
    },
    {
     "data": {
      "image/png": "[encoded data removed]",
      "text/plain": [
       "<Figure size 1500x500 with 3 Axes>"
      ]
     },
     "metadata": {},
     "output_type": "display_data"
    }
   ],
   "source": [
    "init_model_funcs = {\n",
    "    ModelType.LSTM.name: init_LSTM_model,\n",
    "    ModelType.RNN.name: init_RNN_model,\n",
    "    ModelType.GRU.name: init_GRU_model,\n",
    "    ModelType.MLPTestSubgraph.name: init_MLPTestSubgraph_model,\n",
    "    ModelType.GCNSubgraph.name: init_GCNSubgraph_model,\n",
    "}\n",
    "\n",
    "# model_type = ModelType.MLPTestSubgraph\n",
    "model_type = ModelType.LSTM\n",
    "# model_type = ModelType.GRU\n",
    "# model_type = ModelType.Transformer\n",
    "conf: Config = train_configs[model_type.name]\n",
    "init_model = init_model_funcs[model_type.name]\n",
    "model = init_model()\n",
    "model = model.to(conf.device)\n",
    "single_train_loop(model_type, conf, preprocessed_train_ds,\n",
    "                  preprocessed_eval_ds, model, compute_evaluate_metrics, to_device)"
   ]
  },
  {
   "cell_type": "code",
   "execution_count": 21,
   "metadata": {},
   "outputs": [],
   "source": [
    "# init_model_funcs = {\n",
    "#     ModelType.Transformer.name: init_Transformer_model,\n",
    "#     ModelType.GCNSubgraph.name: init_GCNSubgraph_model,\n",
    "#     ModelType.GRU.name: init_GRU_model,\n",
    "#     ModelType.LSTM.name: init_LSTM_model,\n",
    "#     ModelType.MLPTestSubgraph.name: init_MLPTestSubgraph_model,\n",
    "#     ModelType.RNN.name: init_RNN_model,\n",
    "# }\n",
    "\n",
    "# model_type = ModelType.GCNSubgraph\n",
    "# conf: Config = train_configs[model_type.name]\n",
    "# init_model = init_model_funcs[model_type.name]\n",
    "\n",
    "# model = init_model()\n",
    "# model = model.to(conf.device)\n",
    "# grid_search_loop(model_type,\n",
    "#                  conf,\n",
    "#                  preprocessed_train_ds,\n",
    "#                  preprocessed_eval_ds,\n",
    "#                  compute_evaluate_metrics,\n",
    "#                  to_device,\n",
    "#                  init_model,\n",
    "#                  )"
   ]
  }
 ],
 "metadata": {
  "kernelspec": {
   "display_name": "DLT-perf-model",
   "language": "python",
   "name": "python3"
  },
  "language_info": {
   "codemirror_mode": {
    "name": "ipython",
    "version": 3
   },
   "file_extension": ".py",
   "mimetype": "text/x-python",
   "name": "python",
   "nbconvert_exporter": "python",
   "pygments_lexer": "ipython3",
   "version": "3.10.13"
  }
 },
 "nbformat": 4,
 "nbformat_minor": 2
}
