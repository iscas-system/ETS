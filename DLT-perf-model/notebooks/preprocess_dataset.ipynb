{
 "cells": [
  {
   "cell_type": "code",
   "execution_count": null,
   "metadata": {},
   "outputs": [],
   "source": [
    "import os.path\n",
    "import pathlib\n",
    "\n",
    "import pandas as pd\n",
    "\n",
    "dataset_path = str(pathlib.Path(__file__).parent.parent / \"datasets\")\n",
    "config_path = str(pathlib.Path(__file__).parent / \"configs\" / \"models\")\n"
   ]
  },
  {
   "cell_type": "code",
   "execution_count": null,
   "metadata": {},
   "outputs": [],
   "source": [
    "\n",
    "\n",
    "def split_data(data_set: str):\n",
    "    \"\"\"\n",
    "    将models划分为训练集和测试机\n",
    "    \"\"\"\n",
    "    data_set_path = os.path.join(dataset_path, data_set)\n",
    "    model_path = os.path.join(data_set_path, 'models')\n",
    "    train_path = os.path.join(data_set_path, 'train')\n",
    "    eval_path = os.path.join(data_set_path, 'eval')\n",
    "\n",
    "    if not os.path.exists(train_path):\n",
    "        os.mkdir(train_path)\n",
    "    if not os.path.exists(eval_path):\n",
    "        os.mkdir(eval_path)\n",
    "    with open(os.path.join(config_path, 'eval.txt'), 'r') as f:\n",
    "        eval_models = f.readlines()\n",
    "        for model in eval_models:\n",
    "            model = model.rstrip('\\n')\n",
    "            os.system('mv ' + os.path.join(model_path, model) + '.*' + ' ' + eval_path)\n",
    "\n",
    "    with open(os.path.join(config_path, 'train.txt'), 'r') as f:\n",
    "        train_models = f.readlines()\n",
    "        for model in train_models:\n",
    "            model = model.rstrip('\\n')\n",
    "            os.system('mv ' + os.path.join(model_path, model) + '.*' + ' ' + train_path)\n",
    "    return\n",
    "\n"
   ]
  },
  {
   "cell_type": "code",
   "execution_count": null,
   "metadata": {},
   "outputs": [],
   "source": [
    "\n",
    "def delete_unvalid_data(data_set: str):\n",
    "    \"\"\"\n",
    "    删除无效数据\n",
    "    \"\"\"\n",
    "    train_data = os.path.join(dataset_path, data_set, 'train')\n",
    "    for file in os.listdir(train_data):\n",
    "        if not file.endswith('.csv'):\n",
    "            continue\n",
    "        df = pd.read_csv(os.path.join(train_data, file))\n",
    "        if (df['space'] < -1000).any():\n",
    "            print(os.path.join(train_data, file))\n",
    "            os.remove(os.path.join(train_data, file))\n",
    "    eval_data = os.path.join(dataset_path, data_set, 'eval')\n",
    "    for file in os.listdir(eval_data):\n",
    "        if not file.endswith('.csv'):\n",
    "            continue\n",
    "        df = pd.read_csv(os.path.join(eval_data, file))\n",
    "        if (df['space'] < 0).any():\n",
    "            print(os.path.join(eval_data, file))\n",
    "            os.remove(os.path.join(eval_data, file))\n",
    "    return"
   ]
  },
  {
   "cell_type": "code",
   "execution_count": null,
   "metadata": {},
   "outputs": [],
   "source": [
    "# delete_unvalid_data('T4_CPU100')\n",
    "# delete_unvalid_data('RTX2080Ti_CPU100')\n",
    "# delete_unvalid_data('TEST_CPU100')\n",
    "split_data('T4_CPU100')"
   ]
  }
 ],
 "metadata": {
  "kernelspec": {
   "display_name": "DLT-perf-model",
   "language": "python",
   "name": "python3"
  },
  "language_info": {
   "name": "python",
   "version": "3.10.13"
  }
 },
 "nbformat": 4,
 "nbformat_minor": 2
}
